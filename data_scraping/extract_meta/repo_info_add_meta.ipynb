{
 "cells": [
  {
   "cell_type": "code",
   "execution_count": null,
   "id": "421ecd4c-ca0b-4023-b24b-9cba3ec590a7",
   "metadata": {},
   "outputs": [],
   "source": [
    "%load_ext autoreload\n",
    "%autoreload 2\n"
   ]
  },
  {
   "cell_type": "code",
   "execution_count": 1,
   "id": "4d20ac72-0119-4a48-a029-881b59a1cd68",
   "metadata": {},
   "outputs": [
    {
     "name": "stderr",
     "output_type": "stream",
     "text": [
      "Matplotlib created a temporary config/cache directory at /tmp/matplotlib-_5widn_3 because the default path (/home/jovyan/.cache/matplotlib) is not a writable directory; it is highly recommended to set the MPLCONFIGDIR environment variable to a writable directory, in particular to speed up the import of Matplotlib and to better support multiprocessing.\n"
     ]
    }
   ],
   "source": [
    "from pathlib import Path\n",
    "from tqdm.auto import tqdm\n",
    "\n",
    "import pandas as pd\n",
    "import gzip\n",
    "import json\n",
    "\n",
    "import pickle\n",
    "\n",
    "import numpy as np\n",
    "import matplotlib.pyplot as plt\n",
    "\n",
    "import ray\n",
    "import dask.dataframe as dd\n",
    "\n",
    "import text2code_dataset.dataset.gharchive.parser as parser\n",
    "from toolkit_run.ray.server import LabRayToolkitServer"
   ]
  },
  {
   "cell_type": "markdown",
   "id": "88f71662-bdfd-42cc-9792-1628a27d19b7",
   "metadata": {},
   "source": [
    "## Ray cluster management"
   ]
  },
  {
   "cell_type": "code",
   "execution_count": null,
   "id": "f19a9591-3986-476c-a857-d5a50c2b9e9b",
   "metadata": {},
   "outputs": [],
   "source": [
    "server = LabRayToolkitServer()"
   ]
  },
  {
   "cell_type": "code",
   "execution_count": null,
   "id": "9a296cc9-4477-4e62-9af3-36a102145648",
   "metadata": {},
   "outputs": [],
   "source": [
    "server.dashboard_url"
   ]
  },
  {
   "cell_type": "code",
   "execution_count": null,
   "id": "bedfb921-7ba6-4621-890a-cb72afd17311",
   "metadata": {},
   "outputs": [],
   "source": [
    "server.scale_cluster(60)"
   ]
  },
  {
   "cell_type": "code",
   "execution_count": null,
   "id": "bae83b14-53cd-43b0-9bf2-2886a262d3aa",
   "metadata": {},
   "outputs": [],
   "source": [
    "process_archive(files[0])"
   ]
  },
  {
   "cell_type": "code",
   "execution_count": null,
   "id": "e8d5c244-9de5-4923-b7aa-7a2cc4085c11",
   "metadata": {},
   "outputs": [],
   "source": [
    "server.scale_cluster(0)"
   ]
  },
  {
   "cell_type": "code",
   "execution_count": null,
   "id": "c26235c3-0f5c-4528-8462-d9ef377463a5",
   "metadata": {},
   "outputs": [],
   "source": [
    "ray.shutdown()"
   ]
  },
  {
   "cell_type": "markdown",
   "id": "8cee960b-631a-4068-8f95-ebd8f818f2c7",
   "metadata": {},
   "source": [
    "## Create repo to bucket dict"
   ]
  },
  {
   "cell_type": "code",
   "execution_count": null,
   "id": "c063bca5-e726-4f6a-ac9f-292c92f2fb0d",
   "metadata": {},
   "outputs": [],
   "source": [
    "from text2code_dataset.dataset.licenses import safe_licenses"
   ]
  },
  {
   "cell_type": "code",
   "execution_count": null,
   "id": "af50f222-f886-4359-a08e-d71493011cf5",
   "metadata": {
    "tags": []
   },
   "outputs": [],
   "source": [
    "safe_licenses"
   ]
  },
  {
   "cell_type": "code",
   "execution_count": null,
   "id": "42127c88-a6cc-4b03-bdef-0d8468df00e8",
   "metadata": {},
   "outputs": [],
   "source": [
    "df_min_repo_events = pd.read_parquet('/repo_workdir/min_repo_event_datetime_all.parquet')\n",
    "    \n",
    "df_min_repo_events = df_min_repo_events.rename(\n",
    "    columns = {'date': 'min_repo_event_datetime'}\n",
    ")"
   ]
  },
  {
   "cell_type": "code",
   "execution_count": null,
   "id": "59001a2c-f954-4023-983b-79059b77f5ff",
   "metadata": {},
   "outputs": [],
   "source": [
    "len(df_min_repo_events)"
   ]
  },
  {
   "cell_type": "code",
   "execution_count": null,
   "id": "0ee5eb9b-8a07-4af0-b9cd-b69de853653e",
   "metadata": {},
   "outputs": [],
   "source": [
    "df_min_repo_events[df_min_repo_events['repo_name'] == 'LWFlouisa/NVLAIML']"
   ]
  },
  {
   "cell_type": "code",
   "execution_count": null,
   "id": "77488ff6-cd6b-436c-9014-bb33c6e1adb1",
   "metadata": {},
   "outputs": [],
   "source": [
    "ri = pd.read_parquet(buckets[0]['ri'])"
   ]
  },
  {
   "cell_type": "code",
   "execution_count": null,
   "id": "6727aaa4-739a-4dd5-b1a3-c1981a5750a7",
   "metadata": {},
   "outputs": [],
   "source": [
    "ri = ri.merge(df_min_repo_events, left_on='name', right_on='repo_name', how='left')"
   ]
  },
  {
   "cell_type": "code",
   "execution_count": null,
   "id": "f8497615-5978-4a35-a3ee-4097ef8de731",
   "metadata": {},
   "outputs": [],
   "source": [
    "with open('/dataset/repositories_2015.pkl', 'rb') as f:\n",
    "    repos_2015 = pickle.load(f)\n"
   ]
  },
  {
   "cell_type": "code",
   "execution_count": null,
   "id": "01e6c10b-d4d1-4a4d-9163-bda2694e0c63",
   "metadata": {},
   "outputs": [],
   "source": [
    "len(repos_2015)"
   ]
  },
  {
   "cell_type": "code",
   "execution_count": null,
   "id": "8c34695d-3ffa-44bf-961b-bf4a428de52b",
   "metadata": {},
   "outputs": [],
   "source": [
    "with open('/repo_workdir/repositories_2015_v1.pkl', 'rb') as f:\n",
    "    repos_2015_v1 = pickle.load(f)"
   ]
  },
  {
   "cell_type": "code",
   "execution_count": 8,
   "id": "5ebb4a2c-c98a-4ea1-b219-97f6001c2107",
   "metadata": {},
   "outputs": [],
   "source": [
    "with open('/repo_workdir/repositories_2015_min_event_times_v1.pkl', 'rb') as f:\n",
    "    repos_2015_min_event_times_v1 = pickle.load(f)"
   ]
  },
  {
   "cell_type": "code",
   "execution_count": null,
   "id": "3d582349-ed40-4282-b9ba-0bfa832f9bd5",
   "metadata": {},
   "outputs": [],
   "source": [
    "repos_2015_min_event_times_v1_set = set(repos_2015_min_event_times_v1.keys())\n",
    "repos_2015_set = set(repos_2015.keys())"
   ]
  },
  {
   "cell_type": "code",
   "execution_count": null,
   "id": "de6b83e7-7b96-4927-b371-8bf0cfb81bdc",
   "metadata": {},
   "outputs": [],
   "source": [
    "repos_2015_min_event_times_v1_set.symmetric_difference(repos_2015_set)"
   ]
  },
  {
   "cell_type": "code",
   "execution_count": null,
   "id": "6211735d-d829-4ab6-969e-8468c6be4563",
   "metadata": {},
   "outputs": [],
   "source": [
    "len(repos_2015_min_event_times_v1)"
   ]
  },
  {
   "cell_type": "code",
   "execution_count": null,
   "id": "192d3ebc-fe4b-4f95-95cd-f533d52c9cb3",
   "metadata": {},
   "outputs": [],
   "source": [
    "len(repos_2015_v1)"
   ]
  },
  {
   "cell_type": "code",
   "execution_count": null,
   "id": "f67b48ec-495a-4fca-96c9-bd3f794598b9",
   "metadata": {},
   "outputs": [],
   "source": [
    "set(repos_2015.keys()).symmetric_difference(repos_2015_v1.keys())"
   ]
  },
  {
   "cell_type": "code",
   "execution_count": null,
   "id": "a90e6c03-38de-4150-ad87-2d16b03c7525",
   "metadata": {},
   "outputs": [],
   "source": [
    "'LWFlouisa/NVLAIML' in repos_2015.keys()"
   ]
  },
  {
   "cell_type": "code",
   "execution_count": null,
   "id": "83c50e0e-a2fa-4ea9-b156-6e13d93dc8c1",
   "metadata": {},
   "outputs": [],
   "source": [
    "df['repo_name'].nunique"
   ]
  },
  {
   "cell_type": "code",
   "execution_count": 11,
   "id": "60f2c896-f57e-4885-9323-d05bae677e80",
   "metadata": {},
   "outputs": [],
   "source": [
    "\n",
    "df = pd.read_parquet(buckets[0]['ri'])\n",
    "\n"
   ]
  },
  {
   "cell_type": "code",
   "execution_count": 14,
   "id": "71a0648f-c379-4ecb-b2df-1fba97d0e5fb",
   "metadata": {},
   "outputs": [
    {
     "name": "stdout",
     "output_type": "stream",
     "text": [
      "CPU times: user 4.62 ms, sys: 96 µs, total: 4.72 ms\n",
      "Wall time: 4.67 ms\n"
     ]
    }
   ],
   "source": [
    "%%time\n",
    "res = df['name'].map(lambda x: repos_2015_min_event_times_v1[x] if x in repos_2015_min_event_times_v1 else None)"
   ]
  },
  {
   "cell_type": "code",
   "execution_count": null,
   "id": "c7b81eb8-331b-4ca0-ba73-0b1d26251d61",
   "metadata": {
    "tags": []
   },
   "outputs": [
    {
     "data": {
      "text/plain": [
       "0       2021-01-19 07:28:12+00:00\n",
       "1       2021-01-19 07:31:15+00:00\n",
       "2       2020-02-08 15:04:36+00:00\n",
       "3       2018-12-04 07:32:33+00:00\n",
       "4       2021-05-25 18:38:09+00:00\n",
       "                  ...            \n",
       "2039    2021-08-14 10:57:25+00:00\n",
       "2040    2021-03-07 16:25:54+00:00\n",
       "2041    2021-08-01 09:33:10+00:00\n",
       "2042    2020-03-26 18:50:38+00:00\n",
       "2043    2021-06-30 17:20:47+00:00\n",
       "Name: name, Length: 2044, dtype: object"
      ]
     },
     "execution_count": 15,
     "metadata": {},
     "output_type": "execute_result"
    }
   ],
   "source": [
    "res"
   ]
  },
  {
   "cell_type": "code",
   "execution_count": null,
   "id": "afd2af90-9351-458d-8c4e-26468dc89e1d",
   "metadata": {},
   "outputs": [],
   "source": [
    "df = df.reset_index(drop=False)"
   ]
  },
  {
   "cell_type": "code",
   "execution_count": null,
   "id": "3a56259d-f76c-4c0b-831e-233e8466d31d",
   "metadata": {},
   "outputs": [],
   "source": [
    "df = df[['repo_name', 'date']]"
   ]
  },
  {
   "cell_type": "code",
   "execution_count": null,
   "id": "3c677b04-89cb-47d4-94c4-39a8be036aa9",
   "metadata": {},
   "outputs": [],
   "source": [
    "df.to_parquet('/repo_workdir/min_repo_event_datetime_all.parquet')"
   ]
  },
  {
   "cell_type": "code",
   "execution_count": 2,
   "id": "377a62ef-e927-435f-b35b-a501305273b2",
   "metadata": {},
   "outputs": [],
   "source": [
    "from text2code_dataset.dataset.filter_dask import DaskDataframesFilterGroupApplyBucketed\n",
    "buckets = DaskDataframesFilterGroupApplyBucketed.get_folder_buckets([\n",
    "    Path('/dataset/repositories_zipped2_logs/indexes/repo_info/df_2022-01-24_all_licenses_no_vanity'),\n",
    "    Path('/dataset/repositories_zipped2_logs/indexes/repo_info/df_github_v2_all_licenses_clean')\n",
    "])\n"
   ]
  },
  {
   "cell_type": "code",
   "execution_count": 6,
   "id": "906bb4d3-55b3-4fce-bc92-d3f57564667f",
   "metadata": {},
   "outputs": [],
   "source": [
    "def process_ri_clean(bucket):\n",
    "    ri = pd.read_parquet(bucket['ri'])\n",
    "    if not 'min_repo_event_datetime' in ri.columns:\n",
    "        #print('processed')\n",
    "        return\n",
    "    \n",
    "    ri = ri.drop(columns=['min_repo_event_datetime'])\n",
    "    ri = ri.drop_duplicates(ignore_index=True)\n",
    "    \n",
    "    tmp_fn = bucket['ri'].parent / ('___tmp___' + bucket['ri'].name)\n",
    "    ri.to_parquet(tmp_fn)\n",
    "    tmp_fn.rename(bucket['ri'])\n",
    "    \n",
    "process_ri_clean_ray = ray.remote(process_ri_clean).options(num_cpus=2, scheduling_strategy=\"SPREAD\")"
   ]
  },
  {
   "cell_type": "code",
   "execution_count": 18,
   "id": "aec26dab-0cb0-4c86-89be-40cf4cc93f8e",
   "metadata": {},
   "outputs": [
    {
     "data": {
      "application/vnd.jupyter.widget-view+json": {
       "model_id": "46b4c2aeb376490fb834b91d988b03fb",
       "version_major": 2,
       "version_minor": 0
      },
      "text/plain": [
       "  0%|          | 0/22674 [00:00<?, ?it/s]"
      ]
     },
     "metadata": {},
     "output_type": "display_data"
    }
   ],
   "source": [
    "for bucket in tqdm(buckets):\n",
    "    process_ri_add_min_repo_event(bucket, repos_2015_min_event_times_v1)"
   ]
  },
  {
   "cell_type": "code",
   "execution_count": 17,
   "id": "ef5c1a38-b3e7-45eb-acbc-9fefcf61f2e0",
   "metadata": {},
   "outputs": [],
   "source": [
    "\n",
    "def process_ri_add_min_repo_event(bucket, repos_2015_min_event_times_v1):\n",
    "    ri = pd.read_parquet(bucket['ri'])\n",
    "    if 'min_repo_event_datetime' in ri.columns:\n",
    "        print('processed')\n",
    "        return\n",
    "    \n",
    "    ri['min_repo_event_datetime'] = df['name'].map(\n",
    "        lambda x: repos_2015_min_event_times_v1[x] if x in repos_2015_min_event_times_v1 else None\n",
    "    )\n",
    "\n",
    "    tmp_fn = bucket['ri'].parent / ('___tmp___' + bucket['ri'].name)\n",
    "    ri.to_parquet(tmp_fn)\n",
    "    tmp_fn.rename(bucket['ri'])\n",
    "    \n",
    "process_ri_add_min_repo_event_ray = ray.remote(process_ri_add_min_repo_event).options(num_cpus=2, scheduling_strategy=\"SPREAD\")"
   ]
  },
  {
   "cell_type": "code",
   "execution_count": null,
   "id": "86754dc7-2fdc-4ee4-b24d-8987c156c57f",
   "metadata": {},
   "outputs": [],
   "source": [
    "@ray.remote(num_cpus=2, scheduling_strategy=\"SPREAD\")\n",
    "def process_ri_add_min_repo_event_if_processed(bucket):\n",
    "    ri = pd.read_parquet(bucket['ri'])\n",
    "    if 'min_repo_event_datetime' in ri.columns:\n",
    "        return 1\n",
    "    return 0"
   ]
  },
  {
   "cell_type": "code",
   "execution_count": null,
   "id": "4a2524a4-8a56-4090-8895-eb08b85e1744",
   "metadata": {},
   "outputs": [],
   "source": [
    "@ray.remote(scheduling_strategy=\"SPREAD\")\n",
    "def process_ri(bucket):\n",
    "    ri = pd.read_parquet(bucket['ri'])\n",
    "    if 'issues_count' in ri.columns:\n",
    "        print('processed')\n",
    "        return\n",
    "    \n",
    "    df_forks = pd.read_parquet('/repo_workdir/forks_per_repos_all.parquet')\n",
    "    df_stars = pd.read_parquet('/repo_workdir/watchers/all.parquet')\n",
    "    df_issues = pd.read_parquet('/repo_workdir/issues_per_repos_all.parquet')\n",
    "    df_forks = df_forks.reset_index(drop=False)\n",
    "    df_forks = df_forks.rename(\n",
    "        columns = {'src_repo': 'repo_name', 'count': 'forks_count', 'event_min_datetime': 'forks_event_min_datetime', 'event_max_datetime': 'forks_event_max_datetime'}\n",
    "    )\n",
    "    df_forks = df_forks.sort_values('repo_name')\n",
    "    df_stars = df_stars.reset_index(drop=True)\n",
    "    df_stars = df_stars.rename(\n",
    "        columns = {'count': 'stars_count', 'min_date': 'stars_event_min_datetime', 'max_date': 'stars_event_max_datetime'}\n",
    "    )\n",
    "    df_stars = df_stars.sort_values('repo_name')\n",
    "    df_issues = df_issues.reset_index(drop=False)\n",
    "    df_issues = df_issues.rename(\n",
    "        columns = {'event_repo_name': 'repo_name', 'count': 'issues_count', 'event_min_datetime': 'issues_event_min_datetime', 'event_max_datetime': 'issues_event_max_datetime'}\n",
    "    )\n",
    "    df_issues = df_issues[['repo_name', 'issues_count', 'issues_event_min_datetime', 'issues_event_max_datetime']]\n",
    "    df_issues = df_issues.sort_values('repo_name')\n",
    "    \n",
    "    ri = ri.merge(df_stars, left_on='name', right_on='repo_name', how='left')\n",
    "    ri = ri.drop(columns=['repo_name'])\n",
    "    ri = ri.merge(df_forks, left_on='name', right_on='repo_name', how='left')\n",
    "    ri = ri.drop(columns=['repo_name'])\n",
    "    ri = ri.merge(df_issues, left_on='name', right_on='repo_name', how='left')\n",
    "    ri = ri.drop(columns=['repo_name'])\n",
    "    tmp_fn = bucket['ri'].parent / ('___tmp___' + bucket['ri'].name)\n",
    "    ri.to_parquet(tmp_fn)\n",
    "    tmp_fn.rename(bucket['ri'])"
   ]
  },
  {
   "cell_type": "code",
   "execution_count": null,
   "id": "4af0d37b-7783-461f-831d-cd67d30f99d0",
   "metadata": {},
   "outputs": [],
   "source": [
    "process_ri(buckets[1], df_stars, df_forks, df_issues)"
   ]
  },
  {
   "cell_type": "code",
   "execution_count": null,
   "id": "64f0e8e9-24a8-452b-8fab-7ba98c985ceb",
   "metadata": {},
   "outputs": [],
   "source": [
    "tmp_fn"
   ]
  },
  {
   "cell_type": "code",
   "execution_count": null,
   "id": "63e52baa-3cc1-429a-a3e3-40d182ce6d4e",
   "metadata": {},
   "outputs": [],
   "source": [
    "@ray.remote\n",
    "def process(bucket):\n",
    "    lic = pd.read_parquet(bucket['lic'])\n",
    "    idx = lic.groupby([\"ri_id\", 'file'])['confidence'].transform(max) == lic['confidence']\n",
    "    lic = lic[idx]\n",
    "    lic = lic.groupby('ri_id').filter(lambda x: x['license'].isin(safe_licenses).all())\n",
    "    lic = set(lic['ri_id'])\n",
    "    fi = pd.read_parquet(bucket['fi'])\n",
    "    fi = fi[fi['ext_key'] == 'py']\n",
    "    fi = set(fi['ri_id'])\n",
    "    lic = lic.intersection(fi)\n",
    "    ri = pd.read_parquet(bucket['ri'])\n",
    "    ri = ri[ri['id'].isin(lic)]\n",
    "    ri = set(ri['name'])\n",
    "    return ri"
   ]
  },
  {
   "cell_type": "code",
   "execution_count": null,
   "id": "29fadc75-7265-497c-9ea4-8ef94f4b5ad2",
   "metadata": {},
   "outputs": [],
   "source": [
    "@ray.remote\n",
    "def process_lic_hist(bucket):\n",
    "    lic = pd.read_parquet(bucket['lic'])\n",
    "    lic = lic[['ri_id', 'confidence', 'license']].groupby('ri_id').max()\n",
    "    lic = lic.groupby('license').count()\n",
    "    return lic"
   ]
  },
  {
   "cell_type": "code",
   "execution_count": null,
   "id": "e687ea3e-64cb-4c02-961b-9ad932666e73",
   "metadata": {},
   "outputs": [],
   "source": [
    "@ray.remote\n",
    "def process_lic_hist_old(bucket):\n",
    "    df = pd.read_parquet(bucket['lic'], engine='fastparquet')\n",
    "    df = df.sort_values('confidence').groupby('ri_id').last()\n",
    "    return df.groupby('license')['license'].count().to_frame('count')"
   ]
  },
  {
   "cell_type": "code",
   "execution_count": null,
   "id": "9c22a51f-8403-4e44-baa0-bbbe7165e23e",
   "metadata": {},
   "outputs": [],
   "source": [
    "\n",
    "def process_lic_hist_old_vs_new(bucket):\n",
    "    dfl = pd.read_parquet(bucket['lic'], engine='fastparquet')\n",
    "    df_old =  dfl.sort_values('confidence').groupby('ri_id').last()\n",
    "    \n",
    "    df_new = dfl[['ri_id', 'confidence', 'license']].groupby('ri_id').max()\n",
    "    \n",
    "    df_diff = df_new.merge(df_old, on='ri_id')\n",
    "    return df_diff, dfl\n",
    "    "
   ]
  },
  {
   "cell_type": "code",
   "execution_count": null,
   "id": "80cd4c9f-79f4-4cc4-91bd-2e863ef54890",
   "metadata": {},
   "outputs": [],
   "source": [
    "lic1 = pd.read_parquet(buckets[0]['lic'])\n",
    "lic = lic1[['ri_id', 'confidence', 'license']].groupby('ri_id').max()\n",
    "lic = lic.groupby('license').count()"
   ]
  },
  {
   "cell_type": "code",
   "execution_count": null,
   "id": "1b40b815-3c2b-4926-ba3d-b6fda63f551f",
   "metadata": {},
   "outputs": [],
   "source": [
    "df_diff, dfl = process_lic_hist_old_vs_new(buckets[0])"
   ]
  },
  {
   "cell_type": "code",
   "execution_count": null,
   "id": "86b96dd6-e5ee-4890-8ab9-87e66cd07722",
   "metadata": {},
   "outputs": [],
   "source": [
    "df_diff"
   ]
  },
  {
   "cell_type": "code",
   "execution_count": null,
   "id": "4ff5a8a1-eec8-4425-a0e1-e6f2a8c701d2",
   "metadata": {},
   "outputs": [],
   "source": [
    "dfl[dfl['ri_id'] == 3]max"
   ]
  },
  {
   "cell_type": "code",
   "execution_count": null,
   "id": "e94eb15a-62e5-4348-9e31-383ae8ee54ad",
   "metadata": {},
   "outputs": [],
   "source": [
    "lic1['ri_id'].nunique()"
   ]
  },
  {
   "cell_type": "code",
   "execution_count": null,
   "id": "ffad62f6-cb51-4712-91d4-fc7db7938740",
   "metadata": {},
   "outputs": [],
   "source": [
    "pd.options.display.max_rows = 600"
   ]
  },
  {
   "cell_type": "code",
   "execution_count": null,
   "id": "696b8cdd-1f76-4410-947c-d676dc4e6c02",
   "metadata": {},
   "outputs": [],
   "source": [
    "df_stars_f = ray.put(df_stars)\n",
    "df_forks_f = ray.put(df_forks)\n",
    "df_issues_f = ray.put(df_issues)"
   ]
  },
  {
   "cell_type": "code",
   "execution_count": null,
   "id": "aa530167-caf4-46e1-aad0-1cf256c0da81",
   "metadata": {},
   "outputs": [],
   "source": [
    "del df_stars_f\n",
    "del df_forks\n",
    "del df_issues_f"
   ]
  },
  {
   "cell_type": "code",
   "execution_count": null,
   "id": "127831ad-a5b7-49f9-942b-3ea5ff8d78a7",
   "metadata": {
    "tags": []
   },
   "outputs": [],
   "source": [
    "res = []\n",
    "for bucket in  tqdm(buckets):\n",
    "    res.append(process_ri_add_min_repo_event_if_processed.remote(bucket))\n",
    "res = ray.get(res)"
   ]
  },
  {
   "cell_type": "code",
   "execution_count": null,
   "id": "90dfa28e-61f0-485e-9824-59b830e0f7eb",
   "metadata": {},
   "outputs": [],
   "source": [
    "len(res) - sum(res)"
   ]
  },
  {
   "cell_type": "code",
   "execution_count": null,
   "id": "fc7d2e51-cf27-4a7d-9694-b735eb1f3a01",
   "metadata": {},
   "outputs": [],
   "source": [
    "ready, not_ready = ray.wait(res, num_returns=len(res), fetch_local=False, timeout=1)\n"
   ]
  },
  {
   "cell_type": "code",
   "execution_count": null,
   "id": "dca1759e-cede-4201-8bb7-18c7658069d4",
   "metadata": {},
   "outputs": [],
   "source": [
    "len(ready)"
   ]
  },
  {
   "cell_type": "code",
   "execution_count": null,
   "id": "b18410e2-855a-4044-b587-1716f58fc828",
   "metadata": {},
   "outputs": [],
   "source": [
    "len(not_ready)"
   ]
  },
  {
   "cell_type": "code",
   "execution_count": null,
   "id": "409df488-4481-446a-9029-87e3c2436670",
   "metadata": {},
   "outputs": [],
   "source": [
    "for el in res:\n",
    "    ray.cancel(el)"
   ]
  },
  {
   "cell_type": "code",
   "execution_count": null,
   "id": "db1dea1c-9799-4d3b-a614-307f4ace9e46",
   "metadata": {},
   "outputs": [],
   "source": [
    "res_permissive = set().union(*res)"
   ]
  },
  {
   "cell_type": "code",
   "execution_count": null,
   "id": "f63bd6e5-6635-41cc-be5b-1c5c934be781",
   "metadata": {},
   "outputs": [],
   "source": [
    "len(res_permissive)"
   ]
  },
  {
   "cell_type": "code",
   "execution_count": null,
   "id": "10711f78-80f9-4232-92c9-de1bf8f0334e",
   "metadata": {},
   "outputs": [],
   "source": [
    "pickle_save(res_permissive, '/repo_workdir/permissive_repos_v2alfa2_py.pkl')"
   ]
  },
  {
   "cell_type": "code",
   "execution_count": null,
   "id": "a179000a-eb53-4e51-a8db-4fc567c8af14",
   "metadata": {},
   "outputs": [],
   "source": [
    "license_hist_old = pd.concat(res).groupby(['license']).sum().reset_index()"
   ]
  },
  {
   "cell_type": "code",
   "execution_count": null,
   "id": "8e8c7114-6998-4c0d-a070-18a2e303da53",
   "metadata": {
    "tags": []
   },
   "outputs": [],
   "source": [
    "license_hist_old"
   ]
  },
  {
   "cell_type": "code",
   "execution_count": null,
   "id": "c9db177a-bc0a-49e4-bf74-8a8ad222db85",
   "metadata": {},
   "outputs": [],
   "source": [
    "license_hist = pd.concat(res).groupby(['license']).sum().reset_index()"
   ]
  },
  {
   "cell_type": "code",
   "execution_count": null,
   "id": "88ee1428-eae6-4263-9888-52f73f47e923",
   "metadata": {},
   "outputs": [],
   "source": [
    "license_hist_old = license_hist_old.rename(columns={'license': 'TheStack_license_id', 'count': 'TheStack_repo_count'})"
   ]
  },
  {
   "cell_type": "code",
   "execution_count": null,
   "id": "bb741aaf-fe4c-4492-ba45-42ee7ef72b54",
   "metadata": {},
   "outputs": [],
   "source": [
    "license_hist.to_json('/repo_workdir/lic_hist_dataset_v2.json')\n"
   ]
  },
  {
   "cell_type": "code",
   "execution_count": null,
   "id": "d084fcc9-e0c4-4019-9a21-0c7cddc7359d",
   "metadata": {},
   "outputs": [],
   "source": [
    "permissive_list = pd.read_json('https://blueoakcouncil.org/list.json')\n",
    "copyleft_list = pd.read_json('https://blueoakcouncil.org/copyleft.json')\n",
    "copyleft_list = copyleft_list.reset_index(drop=False)"
   ]
  },
  {
   "cell_type": "code",
   "execution_count": null,
   "id": "a0fce7b0-bdea-4540-bf63-ff38265e6938",
   "metadata": {},
   "outputs": [],
   "source": [
    "for copyleft_list['families']"
   ]
  },
  {
   "cell_type": "code",
   "execution_count": null,
   "id": "820c981e-0616-4d4a-85b6-78777a5a1711",
   "metadata": {
    "tags": []
   },
   "outputs": [],
   "source": [
    "data = []\n",
    "for r in permissive_list.iterrows():\n",
    "    version = r[1]['version']\n",
    "    name = r[1]['ratings']['name']\n",
    "    notes = r[1]['ratings']['notes']\n",
    "    for lic in r[1]['ratings']['licenses']:\n",
    "        lic = {'license_'+k: v for k, v in lic.items()}\n",
    "        lic['license_type'] = 'permissive'\n",
    "        lic['ratings_version'] = version\n",
    "        lic['ratings_name'] = name\n",
    "        lic['ratings_notes'] = notes\n",
    "        data.append(lic)\n",
    "    "
   ]
  },
  {
   "cell_type": "code",
   "execution_count": null,
   "id": "fb6133fc-005f-40cd-a994-a443f61a049d",
   "metadata": {},
   "outputs": [],
   "source": [
    "for r in copyleft_list.iterrows():\n",
    "    rating_name = r[1]['index']\n",
    "    ratigs_version = r[1]['version']\n",
    "    for family in r[1]['families']:\n",
    "        family_name = family['name']\n",
    "        for version in family['versions']:\n",
    "            lic = {'license_'+k: v for k, v in version.items()}\n",
    "            lic['license_type'] = 'copyleft'\n",
    "            lic['ratings_version'] = ratigs_version\n",
    "            lic['ratings_name'] = rating_name\n",
    "            lic['license_family_name'] = family_name\n",
    "            data.append(lic)"
   ]
  },
  {
   "cell_type": "code",
   "execution_count": null,
   "id": "526a9662-478b-41cd-94f1-df6cc98ff9c1",
   "metadata": {},
   "outputs": [],
   "source": [
    "licenses_solicitors = pd.DataFrame(data)"
   ]
  },
  {
   "cell_type": "code",
   "execution_count": null,
   "id": "f02af28f-7eea-4210-a1ff-ab96459755f6",
   "metadata": {
    "tags": []
   },
   "outputs": [],
   "source": [
    "len(data)"
   ]
  },
  {
   "cell_type": "code",
   "execution_count": null,
   "id": "10c6dea4-884f-443e-9581-1cf9974e7c1a",
   "metadata": {},
   "outputs": [],
   "source": [
    "licenses_solicitors[licenses_solicitors['license_id'] =='GPL-3.0-or-later']"
   ]
  },
  {
   "cell_type": "code",
   "execution_count": null,
   "id": "e77a2e88-4185-4211-a2df-0655b3a8be25",
   "metadata": {},
   "outputs": [],
   "source": [
    "licenses_x = licenses_solicitors.merge(license_hist_old, left_on='license_id', right_on='TheStack_license_id', how='outer')\n"
   ]
  },
  {
   "cell_type": "code",
   "execution_count": null,
   "id": "dc710007-7575-41da-9ea0-e966708dbdae",
   "metadata": {},
   "outputs": [],
   "source": [
    "len(licenses_x.columns)"
   ]
  },
  {
   "cell_type": "code",
   "execution_count": null,
   "id": "63fd066e-1fa0-487f-b294-a655bd760b58",
   "metadata": {},
   "outputs": [],
   "source": [
    "#license_identifier, count, type, rating name, license_url, ratings_version, ratings_notes\n",
    "licenses_x = licenses_x[[\n",
    "        'license_id', 'TheStack_license_id', 'TheStack_repo_count', 'license_type', 'ratings_name', 'license_url', 'ratings_version', 'ratings_notes',\n",
    "        'license_name', 'license_family_name'\n",
    "    ]]"
   ]
  },
  {
   "cell_type": "code",
   "execution_count": null,
   "id": "b3d44c8e-24d0-4471-82cb-e5b162d6972c",
   "metadata": {},
   "outputs": [],
   "source": [
    "licenses_x = licenses_x.sort_values('TheStack_repo_count', ascending=False)"
   ]
  },
  {
   "cell_type": "code",
   "execution_count": null,
   "id": "5149ce62-ed97-49b2-be23-e02cf537bd34",
   "metadata": {},
   "outputs": [],
   "source": [
    "licenses_x.to_csv('/repo_workdir/license_x.csv')"
   ]
  },
  {
   "cell_type": "code",
   "execution_count": null,
   "id": "29afd0e6-b59c-4528-ab8e-fdf5439af3af",
   "metadata": {
    "tags": []
   },
   "outputs": [],
   "source": [
    "licenses_x"
   ]
  },
  {
   "cell_type": "code",
   "execution_count": null,
   "id": "c7f611f5-f6c8-4193-bb60-193d1a14b311",
   "metadata": {},
   "outputs": [],
   "source": [
    "from toolkit_run.util.io import pickle_save"
   ]
  },
  {
   "cell_type": "code",
   "execution_count": null,
   "id": "8a4761d0-5fc4-40ce-933d-f18c1a28d94c",
   "metadata": {
    "tags": []
   },
   "outputs": [],
   "source": [
    "lic = lic.sort_values('confidence',ascending=False)\n",
    "lic = lic.groupby('ri_id').filter(lambda x: all(x['license'].isin(safe_licenses))) "
   ]
  },
  {
   "cell_type": "code",
   "execution_count": null,
   "id": "2c8d0c5b-8aa9-412d-8057-274202794992",
   "metadata": {},
   "outputs": [],
   "source": [
    "lic['license_file_conf'] = lic[['license', 'file', 'confidence']].values.tolist()"
   ]
  },
  {
   "cell_type": "code",
   "execution_count": null,
   "id": "7ed71ba0-dd66-4317-9917-488dffeb9ab1",
   "metadata": {},
   "outputs": [],
   "source": [
    "lic = lic[['ri_id', 'license_file_conf']]"
   ]
  },
  {
   "cell_type": "code",
   "execution_count": null,
   "id": "4e23d4df-d8d0-4ae2-b639-6c53420f6123",
   "metadata": {},
   "outputs": [],
   "source": [
    "lic['ri_index'] = lic.groupby('ri_id').cumcount()"
   ]
  },
  {
   "cell_type": "code",
   "execution_count": null,
   "id": "825fe806-cf94-4f64-81ca-27d778c38128",
   "metadata": {},
   "outputs": [],
   "source": [
    "max_index = lic['ri_index'].max()"
   ]
  },
  {
   "cell_type": "code",
   "execution_count": null,
   "id": "c33a468f-0d55-4923-94cb-85e017e46273",
   "metadata": {},
   "outputs": [],
   "source": [
    "lic['ri_index'] = lic['ri_index'].astype(str)"
   ]
  },
  {
   "cell_type": "code",
   "execution_count": null,
   "id": "56f499d0-4db3-4e99-97b7-70b3c9cb83cc",
   "metadata": {},
   "outputs": [],
   "source": [
    "lic = lic.pivot('ri_id', columns='ri_index')"
   ]
  },
  {
   "cell_type": "code",
   "execution_count": null,
   "id": "7abb0041-9ecd-41f7-9c6a-2a15e815716a",
   "metadata": {},
   "outputs": [],
   "source": [
    "lic.columns = lic.columns.map('_'.join)"
   ]
  },
  {
   "cell_type": "code",
   "execution_count": null,
   "id": "ba66bf6b-6811-4c6e-b3d4-14e8ea070674",
   "metadata": {},
   "outputs": [],
   "source": [
    "lic"
   ]
  },
  {
   "cell_type": "code",
   "execution_count": null,
   "id": "0f8d7f81-3a3d-4e36-a8df-7ad70a7ca805",
   "metadata": {},
   "outputs": [],
   "source": [
    "lic['size'] = lic.groupby('ri_id').size()"
   ]
  },
  {
   "cell_type": "code",
   "execution_count": null,
   "id": "d189d01c-c8ca-4c23-80e4-b3e65eeb1de7",
   "metadata": {},
   "outputs": [],
   "source": [
    "tuple(lic.groupby('ri_id').size().agg(['idxmax','max']))"
   ]
  },
  {
   "cell_type": "code",
   "execution_count": null,
   "id": "8afd162c-dad3-4019-9bbe-9affe4ccb872",
   "metadata": {},
   "outputs": [],
   "source": [
    "ri =  pd.read_parquet(buckets[0]['ri'])"
   ]
  },
  {
   "cell_type": "code",
   "execution_count": null,
   "id": "f24071c2-e695-43a8-94f4-69a8e6ad7d9e",
   "metadata": {},
   "outputs": [],
   "source": [
    "ri[ri['id'] == 1821]"
   ]
  },
  {
   "cell_type": "code",
   "execution_count": null,
   "id": "95a379a0-8d79-4085-9959-28f4fc22cb25",
   "metadata": {},
   "outputs": [],
   "source": [
    "pd.set_option('display.max_rows', 500)"
   ]
  },
  {
   "cell_type": "code",
   "execution_count": null,
   "id": "3bf5d813-b898-4e6e-8b67-24126760c3c7",
   "metadata": {},
   "outputs": [],
   "source": [
    "lic[lic['ri_id'] == 1821]"
   ]
  },
  {
   "cell_type": "code",
   "execution_count": null,
   "id": "3a5f378d-ac01-4c30-9457-6e383beedbf9",
   "metadata": {},
   "outputs": [],
   "source": [
    "lic.pivot(index='ri_id',columns=['license'], values=['file', 'confidence'])"
   ]
  },
  {
   "cell_type": "code",
   "execution_count": null,
   "id": "d1567391-64d5-4d10-b454-64a954bf68bf",
   "metadata": {},
   "outputs": [],
   "source": [
    "lic1.reset_index().unstack().to_frame().sort_index(level=1)"
   ]
  },
  {
   "cell_type": "code",
   "execution_count": null,
   "id": "753802a4-40f2-4fca-88b2-6abc886d19d4",
   "metadata": {},
   "outputs": [],
   "source": [
    "lic1.reset_index().unstack().to_frame().sort_index(level=1).T"
   ]
  },
  {
   "cell_type": "code",
   "execution_count": null,
   "id": "1b4d1bde-1abb-4930-bd8a-4f9457baf173",
   "metadata": {},
   "outputs": [],
   "source": [
    "lic.groupby('ri_id').filter(lambda x: all(x['license'].isin(safe_licenses)))"
   ]
  },
  {
   "cell_type": "code",
   "execution_count": null,
   "id": "305d1884-0d5f-4e3a-86e0-6c6ccb2892fc",
   "metadata": {},
   "outputs": [],
   "source": [
    "@ray.remote\n",
    "def process(bucket, dst):\n",
    "    "
   ]
  },
  {
   "cell_type": "code",
   "execution_count": null,
   "id": "610f5b90-3a9a-402c-abd0-07191932dc11",
   "metadata": {},
   "outputs": [],
   "source": [
    "files = list(Path('/dataset/repositories_zipped2_logs/indexes/repo_info/df_2022-01-24_all_licenses_no_vanity/ri').glob('data*.parquet'))\n",
    "files += list(Path('/dataset/repositories_zipped2_logs/indexes/repo_info/df_github_v2_all_licenses_clean/ri').glob('data*.parquet'))"
   ]
  },
  {
   "cell_type": "code",
   "execution_count": null,
   "id": "15a55ead-c07b-42b7-82e7-a6b5311fc3a9",
   "metadata": {},
   "outputs": [],
   "source": [
    "len(files)"
   ]
  },
  {
   "cell_type": "code",
   "execution_count": null,
   "id": "a3449b73-d3e1-485b-813d-5c34ed2c9b0c",
   "metadata": {},
   "outputs": [],
   "source": [
    "files[0]"
   ]
  },
  {
   "cell_type": "code",
   "execution_count": null,
   "id": "ddf908ba-7025-4aa0-b90b-4c81a9e13dff",
   "metadata": {},
   "outputs": [],
   "source": [
    "df = pd.read_parquet(files[0])"
   ]
  },
  {
   "cell_type": "code",
   "execution_count": null,
   "id": "cc0a7638-df71-4d3e-9fa8-54047ac0c996",
   "metadata": {},
   "outputs": [],
   "source": [
    "data = []\n",
    "for file in tqdm(files):\n",
    "    bucket_name =  f'{file.parent.parent.stem}/{file.parent.stem}/{file.stem}'\n",
    "    df = pd.read_parquet(file)\n",
    "    df = df[['name']]\n",
    "    df['bucket_name'] = bucket_name\n",
    "    df = df.set_index('name')\n",
    "    data.append(df)"
   ]
  },
  {
   "cell_type": "code",
   "execution_count": null,
   "id": "0876c3cb-873f-4407-8b46-301ee5f2c59e",
   "metadata": {},
   "outputs": [],
   "source": [
    "bucket_name"
   ]
  },
  {
   "cell_type": "code",
   "execution_count": null,
   "id": "2e74f534-2e6a-4649-a774-5782bc0787b4",
   "metadata": {},
   "outputs": [],
   "source": [
    "df = pd.concat(data)"
   ]
  },
  {
   "cell_type": "code",
   "execution_count": null,
   "id": "d07cb1bf-13f6-4703-9ffa-3085263c7f32",
   "metadata": {},
   "outputs": [],
   "source": [
    "repo_to_bucket_dict = df['bucket_name'].to_dict()"
   ]
  },
  {
   "cell_type": "code",
   "execution_count": null,
   "id": "120b4243-00c9-4a4a-933d-7df21d9191a1",
   "metadata": {},
   "outputs": [],
   "source": [
    "len(repo_to_bucket_dict)"
   ]
  },
  {
   "cell_type": "code",
   "execution_count": null,
   "id": "6b7c6e3c-6e6b-4dd8-bca1-d50ae4404f0d",
   "metadata": {},
   "outputs": [],
   "source": [
    "%%timeit\n",
    "repo_to_bucket_dict['mustakim150/work-space']"
   ]
  },
  {
   "cell_type": "code",
   "execution_count": null,
   "id": "b969c0ac-fd82-4ba1-9a85-1e5d1f56b323",
   "metadata": {},
   "outputs": [],
   "source": [
    "with open('/repo_workdir/dataset_v2_clean_repo_to_bucket_dict.pkl', 'wb') as f:\n",
    "    pickle.dump(repo_to_bucket_dict, f)"
   ]
  },
  {
   "cell_type": "markdown",
   "id": "82f8130f-63a3-4b9b-adeb-575312e7bdb5",
   "metadata": {},
   "source": [
    "## Split database files reopos to buckets"
   ]
  },
  {
   "cell_type": "code",
   "execution_count": null,
   "id": "f976b14e-c113-444b-b1f6-fa52af1c7bd3",
   "metadata": {},
   "outputs": [],
   "source": [
    "path = Path('/data/hf_repos/multi_safe_license_raw/data')\n",
    "files = list(path.glob('*/data*.jsonl'))"
   ]
  },
  {
   "cell_type": "code",
   "execution_count": null,
   "id": "53e863b5-39a9-4379-8fbc-4df86363c540",
   "metadata": {},
   "outputs": [],
   "source": [
    "dest_path = Path('/repo_workdir/dataset_v2_add_stars_hashes')\n",
    "dest_path.mkdir(parents=True, exist_ok=True)"
   ]
  },
  {
   "cell_type": "code",
   "execution_count": null,
   "id": "3a54c9d2-cbd6-43ae-a9d0-b72196540c8c",
   "metadata": {},
   "outputs": [],
   "source": [
    "from collections import defaultdict\n",
    "from text2code_dataset.dataset.postprocessing.near_dedup.util import enum_json_lines\n",
    "import hashlib\n",
    "def process(files, index):\n",
    "    with open('/repo_workdir/dataset_v2_clean_repo_to_bucket_dict.pkl', 'rb') as f:\n",
    "        repo_to_bucket_dict = pickle.load(f)\n",
    "    split_data = defaultdict(list)\n",
    "    for file in tqdm(files):\n",
    "        for data, line in enum_json_lines(file):\n",
    "            dataset_path = f'{file.parent.stem}/{file.stem}' \n",
    "            repo = data['repository_name']\n",
    "            file_path = data['path']\n",
    "\n",
    "            hash_object = hashlib.sha256(data['content'].encode())\n",
    "            hex_dig = hash_object.hexdigest()\n",
    "            split_data[repo_to_bucket_dict[repo]].append((repo, file_path, dataset_path, hex_dig))\n",
    "        "
   ]
  },
  {
   "cell_type": "code",
   "execution_count": null,
   "id": "e588d749-f39d-4e75-bb4f-3e3bab2563c0",
   "metadata": {},
   "outputs": [],
   "source": [
    "with open('/repo_workdir/dataset_v2_clean_repo_to_bucket_dict.pkl', 'rb') as f:\n",
    "    repo_to_bucket_dict = pickle.load(f)\n"
   ]
  },
  {
   "cell_type": "code",
   "execution_count": null,
   "id": "08404db3-3550-449a-b6ba-23277d554031",
   "metadata": {},
   "outputs": [],
   "source": [
    "split_data = defaultdict(list)\n",
    "for file in tqdm(files):\n",
    "    for data, line in enum_json_lines(file):\n",
    "        dataset_path = f'{file.parent.stem}/{file.stem}' \n",
    "        repo = data['repository_name']\n",
    "        file_path = data['path']\n",
    "\n",
    "        hash_object = hashlib.sha256(data['content'].encode())\n",
    "        hex_dig = hash_object.hexdigest()\n",
    "        split_data[repo_to_bucket_dict[repo]].append((repo, file_path, dataset_path, hex_dig))"
   ]
  },
  {
   "cell_type": "code",
   "execution_count": null,
   "id": "c5b39c52-c349-42b5-8dc7-92ef047615a3",
   "metadata": {
    "tags": []
   },
   "outputs": [],
   "source": []
  },
  {
   "cell_type": "code",
   "execution_count": null,
   "id": "1d174692-7ec6-4fd0-9d59-b4dc889f2009",
   "metadata": {
    "tags": []
   },
   "outputs": [],
   "source": [
    "res = []\n",
    "for file in files:\n",
    "    res.append(process_archive_ray.remote(file))\n",
    "ray.get(res)"
   ]
  },
  {
   "cell_type": "code",
   "execution_count": null,
   "id": "4102414b-40d4-4fda-853b-e2ceb3bb3831",
   "metadata": {},
   "outputs": [],
   "source": []
  },
  {
   "cell_type": "code",
   "execution_count": null,
   "id": "3b763e0b-be63-40bf-a45c-70bb3a2973ae",
   "metadata": {},
   "outputs": [],
   "source": [
    "import  random"
   ]
  },
  {
   "cell_type": "code",
   "execution_count": null,
   "id": "d958a35a-23fe-4428-97a8-4e4c5e06ac0c",
   "metadata": {},
   "outputs": [],
   "source": [
    "random.shuffle(files)"
   ]
  },
  {
   "cell_type": "code",
   "execution_count": null,
   "id": "5ac96646-e05e-47ac-9b2e-b5e969a4e473",
   "metadata": {},
   "outputs": [],
   "source": [
    "sizes = []\n",
    "n = 70\n",
    "for i in range(0, len(files), n):\n",
    "    sz = 0\n",
    "    for file in files[i: i+n]:\n",
    "        sz += file.stat().st_size\n",
    "    sizes.append(sz)"
   ]
  },
  {
   "cell_type": "code",
   "execution_count": null,
   "id": "4b837257-762d-4c23-992f-83e116d3ffed",
   "metadata": {},
   "outputs": [],
   "source": [
    "plt.plot(sizes)"
   ]
  },
  {
   "cell_type": "code",
   "execution_count": null,
   "id": "9da81d44-cf13-4638-8bc7-068997c86eba",
   "metadata": {},
   "outputs": [],
   "source": []
  },
  {
   "cell_type": "code",
   "execution_count": null,
   "id": "0016d39d-b026-4b47-be93-312526f74076",
   "metadata": {},
   "outputs": [],
   "source": [
    "from typing import Optional\n",
    "import requests\n",
    "import datetime\n",
    "from requests.adapters import HTTPAdapter, Retry\n",
    "\n",
    "\n",
    "class Download():\n",
    "    def __init__(self, user_agent: str = 'big_code_bot_v01', num_retry: int = 3, proxies: Optional[list[str]] = None):\n",
    "        self.s = requests.Session()\n",
    "        self.retries = Retry(total=num_retry, backoff_factor=1, status_forcelist=[429, 502, 503, 504])\n",
    "        self.s.mount('http://', HTTPAdapter(max_retries=self.retries))\n",
    "        self.s.mount('https://', HTTPAdapter(max_retries=self.retries))\n",
    "        self.user_agent = user_agent\n",
    "        sefl.proxies = proxies\n",
    "\n",
    "    def get(url: str) -> str:\n",
    "        headers = {\n",
    "            'User-Agent': self.user_agent\n",
    "        }\n",
    "        try:\n",
    "            resp = self.s.get(url, headers=headers, self.proxies=proxies)\n",
    "            html = resp.text\n",
    "            if resp.status_code > 400:\n",
    "                print('status code: ', resp.status_code)\n",
    "                html = None\n",
    "        except requests.exceptions.RequestException as e:\n",
    "            print(e)\n",
    "            return None\n",
    "        return html, \n",
    "\n",
    "def get_a_text_w_text(html_obj, key):\n",
    "    return ' '.join(html_obj.xpath(f\"//a[contains(.,'{key}')]\")[0].text_content().split()).split()[0]\n",
    "\n",
    "def to_number(data):\n",
    "    if data[-1] == 'K' or data[-1] == 'k':\n",
    "        return float(data[:-1]) * 1000\n",
    "    if data[-1] == 'M' or data[-1] == 'm':\n",
    "        return float(data[:-1]) * 1000000\n",
    "    return float(data)\n",
    "\n",
    "def parse_github_repo_home(html):\n",
    "    html_obj = fromstring(html).cssselect('div.Layout-sidebar')[0]\n",
    "    stars = get_a_text_w_text(html_obj, 'stars')\n",
    "    watchers = get_a_text_w_text(html_obj, 'watching')\n",
    "    forks = get_a_text_w_text(html_obj, 'forks')\n",
    "    return {\n",
    "        'stars': to_number(stars),\n",
    "        'watchers': to_number(watchers),\n",
    "        'forks': to_number(forks)\n",
    "    }\n",
    "\n",
    "def get_repo_data(repo_name):\n",
    "    url = 'https://github.com/' + repo_name\n",
    "    now = datetime.datetime.now(datetime.timezone.utc)\n",
    "    html = download(url)\n",
    "    res = {\n",
    "        'datetime': str(now),\n",
    "        'repo_name': repo_name,\n",
    "    }\n",
    "    if html is None:\n",
    "        res['error'] = 'download_error'\n",
    "        return res \n",
    "    try:\n",
    "        data = parse_github_repo_home(html)\n",
    "        res.update(data)\n",
    "        return res\n",
    "    except Exception as e:\n",
    "        res['error'] = 'parse_error'\n",
    "        return res"
   ]
  },
  {
   "cell_type": "code",
   "execution_count": null,
   "id": "1909e6e2-257c-44c6-9240-bd1a44ce2f7f",
   "metadata": {},
   "outputs": [],
   "source": [
    "html = download(\n",
    "    'https://github.com/aaronr/data_display', \n",
    ")"
   ]
  },
  {
   "cell_type": "code",
   "execution_count": null,
   "id": "9df455cb-9d9d-4fde-abe0-c1704d29692e",
   "metadata": {},
   "outputs": [],
   "source": [
    "from lxml.html import fromstring"
   ]
  },
  {
   "cell_type": "code",
   "execution_count": null,
   "id": "ef47d53e-d374-4922-b01d-b6ce65f12d41",
   "metadata": {},
   "outputs": [],
   "source": [
    "! pip install  --user lxml cssselect"
   ]
  },
  {
   "cell_type": "code",
   "execution_count": null,
   "id": "863a9179-9c87-4821-8d6d-e994c4fba0e1",
   "metadata": {},
   "outputs": [],
   "source": [
    "html_obj = fromstring(html)"
   ]
  },
  {
   "cell_type": "code",
   "execution_count": null,
   "id": "89c80cc7-aad6-47ec-ad7e-69ac06fc210c",
   "metadata": {},
   "outputs": [],
   "source": [
    "html_obj.cssselect('div.Layout-sidebar')"
   ]
  },
  {
   "cell_type": "code",
   "execution_count": null,
   "id": "a0352913-d226-40e7-a259-7536f835c765",
   "metadata": {},
   "outputs": [],
   "source": [
    "res = get_repo_data('facebook/react')"
   ]
  },
  {
   "cell_type": "code",
   "execution_count": null,
   "id": "2a1551e5-412a-41e3-af93-d4e630e3fa16",
   "metadata": {},
   "outputs": [],
   "source": [
    "res"
   ]
  },
  {
   "cell_type": "code",
   "execution_count": null,
   "id": "0eef5fa7-07f0-4a9e-add1-d37e9a6fbef2",
   "metadata": {},
   "outputs": [],
   "source": [
    "html_obj.xpath(\"//a[contains(.,'stars')]\")[0].text_content()"
   ]
  },
  {
   "cell_type": "code",
   "execution_count": null,
   "id": "00bef79a-eeea-4876-b604-5cf5ed79dc9b",
   "metadata": {},
   "outputs": [],
   "source": [
    "html_obj.xpath(\"//a[contains(.,'watching')]\")[0].text_content()"
   ]
  },
  {
   "cell_type": "code",
   "execution_count": null,
   "id": "c4e8c322-ec6d-4227-aa61-5c7c67c5f995",
   "metadata": {},
   "outputs": [],
   "source": [
    " get_a_text_w_text(html_obj, 'stars')"
   ]
  },
  {
   "cell_type": "code",
   "execution_count": null,
   "id": "40d87f52-00a9-4ccd-93d8-00ce91843b4c",
   "metadata": {},
   "outputs": [],
   "source": [
    "def get_a_text_w_text(html_obj, key):\n",
    "    return ' '.join(html_obj.xpath(f\"//a[contains(.,'{key}')]\")[0].text_content().split()).split()[0]\n",
    "\n",
    "def to_number(data):\n",
    "    if data[-1] == 'K' or data[-1] == 'k':\n",
    "        return float(data[:-1]) * 1000\n",
    "    if data[-1] == 'M' or data[-1] == 'm':\n",
    "        return float(data[:-1]) * 1000000\n",
    "    return float(data)\n",
    "\n",
    "def parse_github_repo_home(html):\n",
    "    html_obj = fromstring(html).cssselect('div.Layout-sidebar')[0]\n",
    "    stars = get_a_text_w_text(html_obj, 'stars')\n",
    "    watchers = get_a_text_w_text(html_obj, 'watching')\n",
    "    forks = get_a_text_w_text(html_obj, 'forks')\n",
    "    return {\n",
    "        'stars': to_number(stars),\n",
    "        'watchers': to_number(watchers),\n",
    "        'forks': to_number(forks)\n",
    "    }"
   ]
  },
  {
   "cell_type": "code",
   "execution_count": null,
   "id": "ee4e3f6d-fb29-4800-9b1e-2b79caa32519",
   "metadata": {},
   "outputs": [],
   "source": [
    "parse_github_repo_home(html)"
   ]
  },
  {
   "cell_type": "code",
   "execution_count": null,
   "id": "12119ea3-47fe-4692-a29e-d8dfdab196f3",
   "metadata": {},
   "outputs": [],
   "source": [
    "from toolkit_run.util.io import pickle_load\n",
    "repos_2015 = pickle_load(Path('/dataset/repositories_list_2015.pkl'))"
   ]
  },
  {
   "cell_type": "code",
   "execution_count": null,
   "id": "41f30d0d-96d6-438a-a9d1-25738066fd26",
   "metadata": {},
   "outputs": [],
   "source": [
    "data = []\n",
    "for repo in tqdm(repos_2015):\n",
    "    data.append(get_repo_data(repo))\n",
    "    "
   ]
  },
  {
   "cell_type": "code",
   "execution_count": null,
   "id": "50aad610-caae-4674-bd6f-76d3e2d2c88f",
   "metadata": {
    "tags": []
   },
   "outputs": [],
   "source": [
    "data"
   ]
  },
  {
   "cell_type": "code",
   "execution_count": null,
   "id": "6989dcb7-922e-4212-8869-1323fa0d0109",
   "metadata": {},
   "outputs": [],
   "source": [
    "float('0')"
   ]
  },
  {
   "cell_type": "code",
   "execution_count": null,
   "id": "7987d404-8af7-43e3-b4e6-c03375de3654",
   "metadata": {},
   "outputs": [],
   "source": []
  }
 ],
 "metadata": {
  "kernelspec": {
   "display_name": "Python 3 (ipykernel)",
   "language": "python",
   "name": "python3"
  },
  "language_info": {
   "codemirror_mode": {
    "name": "ipython",
    "version": 3
   },
   "file_extension": ".py",
   "mimetype": "text/x-python",
   "name": "python",
   "nbconvert_exporter": "python",
   "pygments_lexer": "ipython3",
   "version": "3.9.7"
  }
 },
 "nbformat": 4,
 "nbformat_minor": 5
}
