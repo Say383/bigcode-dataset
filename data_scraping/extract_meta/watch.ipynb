{
 "cells": [
  {
   "cell_type": "code",
   "execution_count": 1,
   "id": "421ecd4c-ca0b-4023-b24b-9cba3ec590a7",
   "metadata": {},
   "outputs": [],
   "source": [
    "%load_ext autoreload\n",
    "%autoreload 2"
   ]
  },
  {
   "cell_type": "code",
   "execution_count": 18,
   "id": "4d20ac72-0119-4a48-a029-881b59a1cd68",
   "metadata": {},
   "outputs": [],
   "source": [
    "from pathlib import Path\n",
    "from tqdm.auto import tqdm\n",
    "\n",
    "import pandas as pd\n",
    "import gzip\n",
    "import json\n",
    "\n",
    "import pickle\n",
    "\n",
    "import numpy as np\n",
    "import matplotlib.pyplot as plt\n",
    "\n",
    "import ray\n",
    "import dask.dataframe as dd\n",
    "\n",
    "import text2code_dataset.dataset.gharchive.parser as parser\n",
    "from toolkit_run.ray.server import LabRayToolkitServer"
   ]
  },
  {
   "cell_type": "code",
   "execution_count": null,
   "id": "b082473e-9aa4-4b7e-893b-3630382bdc61",
   "metadata": {},
   "outputs": [],
   "source": [
    "def enum_jsongz_lines(file):\n",
    "    with gzip.open(file, \"r\") as f:\n",
    "        for line in f:\n",
    "            try:\n",
    "                data = json.loads(line)\n",
    "                if data is None:\n",
    "                    continue\n",
    "                yield data\n",
    "            except Exception:\n",
    "                continue\n",
    "                \n",
    "def parse_watch_event(line):\n",
    "    return {\n",
    "        'repo_name': line['repo']['name'],\n",
    "        'date': line['created_at'],\n",
    "    }\n",
    "           \n",
    "def process_archive(filename):\n",
    "    name = filename.stem\n",
    "    data = []\n",
    "    for line in enum_jsongz_lines(filename):\n",
    "        if line['type'] == 'WatchEvent':\n",
    "            data.append(parse_watch_event(line))\n",
    "    if len(data) == 0:\n",
    "        return\n",
    "    df = pd.DataFrame(data)\n",
    "    df.to_parquet(Path('/repo_workdir/watchers') / f'{name}.parquet')\n",
    "    \n",
    "process_archive_ray = ray.remote(process_archive)"
   ]
  },
  {
   "cell_type": "code",
   "execution_count": null,
   "id": "3d2b9654-e102-4fcc-b4d9-069482c1fae5",
   "metadata": {},
   "outputs": [],
   "source": [
    "path = Path('/dataset/gharchives_2015')"
   ]
  },
  {
   "cell_type": "code",
   "execution_count": null,
   "id": "908900b7-3af3-4a78-99bd-ed037a886e31",
   "metadata": {},
   "outputs": [],
   "source": [
    "files = path.glob('*')"
   ]
  },
  {
   "cell_type": "code",
   "execution_count": null,
   "id": "e24ae1ce-cb52-41da-ae74-d6c0b2425131",
   "metadata": {},
   "outputs": [],
   "source": [
    "files = list(files)"
   ]
  },
  {
   "cell_type": "code",
   "execution_count": null,
   "id": "658adb66-e733-4df5-b4b6-e36d7b6dc831",
   "metadata": {},
   "outputs": [],
   "source": [
    "len(files)"
   ]
  },
  {
   "cell_type": "code",
   "execution_count": null,
   "id": "847d5076-9313-4131-b53a-993aa9b99bc5",
   "metadata": {},
   "outputs": [],
   "source": [
    "pull_request_events = set([\n",
    "    'WatchEvent',\n",
    "    #'PullRequestReviewCommentEvent',\n",
    "    #'PullRequestReviewEvent'\n",
    "])\n",
    "pull_requests = []\n",
    "to_break = False\n",
    "for file in tqdm(files[0:]):\n",
    "    for line in enum_jsongz_lines(file):\n",
    "        event_type = line['type']\n",
    "        if event_type in pull_request_events:\n",
    "            print(file)\n",
    "            to_break = True\n",
    "            break\n",
    "    if to_break:\n",
    "        break\n",
    "    \n"
   ]
  },
  {
   "cell_type": "code",
   "execution_count": null,
   "id": "7b669dfb-b367-41ab-a391-449fdeeb6911",
   "metadata": {},
   "outputs": [],
   "source": [
    "line"
   ]
  },
  {
   "cell_type": "code",
   "execution_count": null,
   "id": "f19a9591-3986-476c-a857-d5a50c2b9e9b",
   "metadata": {},
   "outputs": [],
   "source": [
    "server = LabRayToolkitServer()"
   ]
  },
  {
   "cell_type": "code",
   "execution_count": null,
   "id": "9a296cc9-4477-4e62-9af3-36a102145648",
   "metadata": {},
   "outputs": [],
   "source": [
    "server.dashboard_url"
   ]
  },
  {
   "cell_type": "code",
   "execution_count": null,
   "id": "bedfb921-7ba6-4621-890a-cb72afd17311",
   "metadata": {},
   "outputs": [],
   "source": [
    "server.scale_cluster(60)"
   ]
  },
  {
   "cell_type": "code",
   "execution_count": null,
   "id": "bae83b14-53cd-43b0-9bf2-2886a262d3aa",
   "metadata": {},
   "outputs": [],
   "source": [
    "process_archive(files[0])"
   ]
  },
  {
   "cell_type": "code",
   "execution_count": null,
   "id": "1d174692-7ec6-4fd0-9d59-b4dc889f2009",
   "metadata": {
    "tags": []
   },
   "outputs": [],
   "source": [
    "res = []\n",
    "for file in files:\n",
    "    res.append(process_archive_ray.remote(file))\n",
    "ray.get(res)"
   ]
  },
  {
   "cell_type": "code",
   "execution_count": null,
   "id": "e8d5c244-9de5-4923-b7aa-7a2cc4085c11",
   "metadata": {},
   "outputs": [],
   "source": [
    "server.scale_cluster(0)"
   ]
  },
  {
   "cell_type": "code",
   "execution_count": null,
   "id": "f3a585e2-0a48-4591-8602-7483da965d39",
   "metadata": {},
   "outputs": [],
   "source": [
    "ddf = dd.read_parquet('/repo_workdir/watchers/*.parquet')"
   ]
  },
  {
   "cell_type": "code",
   "execution_count": null,
   "id": "5f162a43-9fac-48d0-9d59-d931bb00ab92",
   "metadata": {},
   "outputs": [],
   "source": [
    "df = ddf.compute()"
   ]
  },
  {
   "cell_type": "code",
   "execution_count": null,
   "id": "73059f9b-827b-46a4-8a91-e374c5465295",
   "metadata": {},
   "outputs": [],
   "source": [
    "df['date'] = pd.to_datetime(df['date'])"
   ]
  },
  {
   "cell_type": "code",
   "execution_count": null,
   "id": "a8efff86-c364-40d5-b65b-d2b9e79dc2e9",
   "metadata": {},
   "outputs": [],
   "source": [
    "df = df.sort_values('date')"
   ]
  },
  {
   "cell_type": "code",
   "execution_count": null,
   "id": "6413b2d2-6113-49bc-8813-714ed232a834",
   "metadata": {},
   "outputs": [],
   "source": [
    "grouped = df.groupby('repo_name')"
   ]
  },
  {
   "cell_type": "code",
   "execution_count": null,
   "id": "46babbf9-9cba-40ea-a490-70bc8151189d",
   "metadata": {},
   "outputs": [],
   "source": [
    "df1 = grouped.count()"
   ]
  },
  {
   "cell_type": "code",
   "execution_count": null,
   "id": "21b266cb-50ea-432c-8086-e8b9da28a00e",
   "metadata": {},
   "outputs": [],
   "source": [
    "df1['min_date'] = grouped.first()"
   ]
  },
  {
   "cell_type": "code",
   "execution_count": null,
   "id": "4b238869-ae2e-4993-8d50-15ce7d888187",
   "metadata": {},
   "outputs": [],
   "source": [
    "df1['max_date'] = grouped.last()"
   ]
  },
  {
   "cell_type": "code",
   "execution_count": null,
   "id": "e305f503-be33-433d-afe1-3991a4c8c2f8",
   "metadata": {},
   "outputs": [],
   "source": [
    "df1 = df1.rename(columns={\"date\": \"count\"})"
   ]
  },
  {
   "cell_type": "code",
   "execution_count": null,
   "id": "a9e903b6-4910-4cfe-a660-63ae32b174c6",
   "metadata": {},
   "outputs": [],
   "source": [
    "df1 = df1.reset_index(drop=False)"
   ]
  },
  {
   "cell_type": "code",
   "execution_count": 23,
   "id": "37f24f35-f87a-48c2-9f0a-acca7a836330",
   "metadata": {},
   "outputs": [],
   "source": [
    "df1 = df1.sort_values('count')"
   ]
  },
  {
   "cell_type": "code",
   "execution_count": null,
   "id": "bd0da775-fbed-4b0d-a167-92aec8893635",
   "metadata": {},
   "outputs": [],
   "source": [
    "df1.to_parquet('/repo_workdir/watchers/all.parquet')"
   ]
  },
  {
   "cell_type": "code",
   "execution_count": 20,
   "id": "a86144a7-0f72-47ff-8634-75b4e45f5ca1",
   "metadata": {},
   "outputs": [],
   "source": [
    "df1 = pd.read_parquet('/repo_workdir/watchers/all.parquet')"
   ]
  },
  {
   "cell_type": "code",
   "execution_count": 24,
   "id": "5e60d9f0-dc2f-4e14-b1bd-7ba808b6b53f",
   "metadata": {},
   "outputs": [
    {
     "data": {
      "text/html": [
       "<div>\n",
       "<style scoped>\n",
       "    .dataframe tbody tr th:only-of-type {\n",
       "        vertical-align: middle;\n",
       "    }\n",
       "\n",
       "    .dataframe tbody tr th {\n",
       "        vertical-align: top;\n",
       "    }\n",
       "\n",
       "    .dataframe thead th {\n",
       "        text-align: right;\n",
       "    }\n",
       "</style>\n",
       "<table border=\"1\" class=\"dataframe\">\n",
       "  <thead>\n",
       "    <tr style=\"text-align: right;\">\n",
       "      <th></th>\n",
       "      <th>repo_name</th>\n",
       "      <th>count</th>\n",
       "      <th>min_date</th>\n",
       "      <th>max_date</th>\n",
       "    </tr>\n",
       "  </thead>\n",
       "  <tbody>\n",
       "    <tr>\n",
       "      <th>21461673</th>\n",
       "      <td>zzzzzzzzzzzzzzzzzzzzzzzzzzzzzzzzz/Mirai-Source...</td>\n",
       "      <td>1</td>\n",
       "      <td>2017-12-14 20:12:21+00:00</td>\n",
       "      <td>2017-12-14 20:12:21+00:00</td>\n",
       "    </tr>\n",
       "    <tr>\n",
       "      <th>16994573</th>\n",
       "      <td>psyHook/Cotizador-App-React</td>\n",
       "      <td>1</td>\n",
       "      <td>2020-01-16 00:28:00+00:00</td>\n",
       "      <td>2020-01-16 00:28:00+00:00</td>\n",
       "    </tr>\n",
       "    <tr>\n",
       "      <th>16994572</th>\n",
       "      <td>psyHook/Books-App</td>\n",
       "      <td>1</td>\n",
       "      <td>2020-01-13 14:27:36+00:00</td>\n",
       "      <td>2020-01-13 14:27:36+00:00</td>\n",
       "    </tr>\n",
       "    <tr>\n",
       "      <th>16994571</th>\n",
       "      <td>psyHook/AdministradorDePacientes</td>\n",
       "      <td>1</td>\n",
       "      <td>2020-01-16 00:27:57+00:00</td>\n",
       "      <td>2020-01-16 00:27:57+00:00</td>\n",
       "    </tr>\n",
       "    <tr>\n",
       "      <th>9430729</th>\n",
       "      <td>cullylarson/next-css-postcss-sourcemap-issue</td>\n",
       "      <td>1</td>\n",
       "      <td>2020-01-20 12:02:53+00:00</td>\n",
       "      <td>2020-01-20 12:02:53+00:00</td>\n",
       "    </tr>\n",
       "    <tr>\n",
       "      <th>...</th>\n",
       "      <td>...</td>\n",
       "      <td>...</td>\n",
       "      <td>...</td>\n",
       "      <td>...</td>\n",
       "    </tr>\n",
       "    <tr>\n",
       "      <th>10727420</th>\n",
       "      <td>facebook/react</td>\n",
       "      <td>207812</td>\n",
       "      <td>2015-01-01 00:09:28+00:00</td>\n",
       "      <td>2022-03-31 23:57:10+00:00</td>\n",
       "    </tr>\n",
       "    <tr>\n",
       "      <th>18473162</th>\n",
       "      <td>sindresorhus/awesome</td>\n",
       "      <td>210996</td>\n",
       "      <td>2015-01-01 02:33:57+00:00</td>\n",
       "      <td>2022-03-31 23:59:49+00:00</td>\n",
       "    </tr>\n",
       "    <tr>\n",
       "      <th>20206109</th>\n",
       "      <td>vuejs/vue</td>\n",
       "      <td>223894</td>\n",
       "      <td>2015-10-18 05:21:50+00:00</td>\n",
       "      <td>2022-03-31 21:43:37+00:00</td>\n",
       "    </tr>\n",
       "    <tr>\n",
       "      <th>2284836</th>\n",
       "      <td>FreeCodeCamp/FreeCodeCamp</td>\n",
       "      <td>225490</td>\n",
       "      <td>2015-08-13 17:34:58+00:00</td>\n",
       "      <td>2017-01-10 04:43:44+00:00</td>\n",
       "    </tr>\n",
       "    <tr>\n",
       "      <th>252281</th>\n",
       "      <td>996icu/996.ICU</td>\n",
       "      <td>368390</td>\n",
       "      <td>2019-03-26 07:33:50+00:00</td>\n",
       "      <td>2022-03-31 17:07:09+00:00</td>\n",
       "    </tr>\n",
       "  </tbody>\n",
       "</table>\n",
       "<p>21461674 rows × 4 columns</p>\n",
       "</div>"
      ],
      "text/plain": [
       "                                                  repo_name   count  \\\n",
       "21461673  zzzzzzzzzzzzzzzzzzzzzzzzzzzzzzzzz/Mirai-Source...       1   \n",
       "16994573                        psyHook/Cotizador-App-React       1   \n",
       "16994572                                  psyHook/Books-App       1   \n",
       "16994571                   psyHook/AdministradorDePacientes       1   \n",
       "9430729        cullylarson/next-css-postcss-sourcemap-issue       1   \n",
       "...                                                     ...     ...   \n",
       "10727420                                     facebook/react  207812   \n",
       "18473162                               sindresorhus/awesome  210996   \n",
       "20206109                                          vuejs/vue  223894   \n",
       "2284836                           FreeCodeCamp/FreeCodeCamp  225490   \n",
       "252281                                       996icu/996.ICU  368390   \n",
       "\n",
       "                          min_date                  max_date  \n",
       "21461673 2017-12-14 20:12:21+00:00 2017-12-14 20:12:21+00:00  \n",
       "16994573 2020-01-16 00:28:00+00:00 2020-01-16 00:28:00+00:00  \n",
       "16994572 2020-01-13 14:27:36+00:00 2020-01-13 14:27:36+00:00  \n",
       "16994571 2020-01-16 00:27:57+00:00 2020-01-16 00:27:57+00:00  \n",
       "9430729  2020-01-20 12:02:53+00:00 2020-01-20 12:02:53+00:00  \n",
       "...                            ...                       ...  \n",
       "10727420 2015-01-01 00:09:28+00:00 2022-03-31 23:57:10+00:00  \n",
       "18473162 2015-01-01 02:33:57+00:00 2022-03-31 23:59:49+00:00  \n",
       "20206109 2015-10-18 05:21:50+00:00 2022-03-31 21:43:37+00:00  \n",
       "2284836  2015-08-13 17:34:58+00:00 2017-01-10 04:43:44+00:00  \n",
       "252281   2019-03-26 07:33:50+00:00 2022-03-31 17:07:09+00:00  \n",
       "\n",
       "[21461674 rows x 4 columns]"
      ]
     },
     "execution_count": 24,
     "metadata": {},
     "output_type": "execute_result"
    }
   ],
   "source": [
    "df1"
   ]
  },
  {
   "cell_type": "code",
   "execution_count": 22,
   "id": "b71729fd-39a9-4a85-a4f8-a805dcc1438e",
   "metadata": {},
   "outputs": [
    {
     "name": "stderr",
     "output_type": "stream",
     "text": [
      "/tmp/ipykernel_16496/3056583013.py:19: UserWarning: FixedFormatter should only be used together with FixedLocator\n",
      "  ax.set_xticklabels(labels)\n"
     ]
    },
    {
     "data": {
      "image/png": "[encoded data removed]",
      "text/plain": [
       "<Figure size 432x288 with 1 Axes>"
      ]
     },
     "metadata": {
      "needs_background": "light"
     },
     "output_type": "display_data"
    }
   ],
   "source": [
    "hist, bins = np.histogram(df1['count'], bins=[0, 10, 100, 1000, 10000, 100000, 1000000])\n",
    "fig, ax = plt.subplots()\n",
    "ax.bar(bins[1:], hist, width=np.diff(bins), log=True,ec=\"k\", align=\"edge\")\n",
    "ax.set_xscale(\"log\")\n",
    "ax.set_title('number of repos by stars count')\n",
    "ax.set_xlabel('number of stars')\n",
    "ax.set_ylabel('repo count')\n",
    "\n",
    "fig.canvas.draw()\n",
    "\n",
    "labels = [item.get_text() for item in ax.get_xticklabels()]\n",
    "labels[2] = '0<10'\n",
    "labels[3] = '10<100'\n",
    "labels[4] = '100<1K'\n",
    "labels[5] = '1K<10K'\n",
    "labels[6] = '10K<100K'\n",
    "labels[7] = '>100K'\n",
    "\n",
    "ax.set_xticklabels(labels)\n",
    "\n",
    "plt.show()"
   ]
  },
  {
   "cell_type": "code",
   "execution_count": 3,
   "id": "377a62ef-e927-435f-b35b-a501305273b2",
   "metadata": {},
   "outputs": [],
   "source": [
    "files = list(Path('/dataset/repositories_zipped2_logs/indexes/repo_info/df_2022-01-24_all_licenses_no_vanity/ri').glob('data*.parquet'))"
   ]
  },
  {
   "cell_type": "code",
   "execution_count": 4,
   "id": "610f5b90-3a9a-402c-abd0-07191932dc11",
   "metadata": {},
   "outputs": [],
   "source": [
    "files += list(Path('/dataset/repositories_zipped2_logs/indexes/repo_info/df_github_v2_all_licenses_clean/ri').glob('data*.parquet'))"
   ]
  },
  {
   "cell_type": "code",
   "execution_count": 5,
   "id": "15a55ead-c07b-42b7-82e7-a6b5311fc3a9",
   "metadata": {},
   "outputs": [
    {
     "data": {
      "text/plain": [
       "22674"
      ]
     },
     "execution_count": 5,
     "metadata": {},
     "output_type": "execute_result"
    }
   ],
   "source": [
    "len(files)"
   ]
  },
  {
   "cell_type": "code",
   "execution_count": 6,
   "id": "a3449b73-d3e1-485b-813d-5c34ed2c9b0c",
   "metadata": {},
   "outputs": [
    {
     "data": {
      "text/plain": [
       "PosixPath('/dataset/repositories_zipped2_logs/indexes/repo_info/df_2022-01-24_all_licenses_no_vanity/ri/data-10067.parquet')"
      ]
     },
     "execution_count": 6,
     "metadata": {},
     "output_type": "execute_result"
    }
   ],
   "source": [
    "files[0]"
   ]
  },
  {
   "cell_type": "code",
   "execution_count": 7,
   "id": "ddf908ba-7025-4aa0-b90b-4c81a9e13dff",
   "metadata": {},
   "outputs": [],
   "source": [
    "df = pd.read_parquet(files[0])"
   ]
  },
  {
   "cell_type": "code",
   "execution_count": 8,
   "id": "cc0a7638-df71-4d3e-9fa8-54047ac0c996",
   "metadata": {},
   "outputs": [
    {
     "data": {
      "application/vnd.jupyter.widget-view+json": {
       "model_id": "d25292eca35a446f8fc8e2c03849caab",
       "version_major": 2,
       "version_minor": 0
      },
      "text/plain": [
       "  0%|          | 0/22674 [00:00<?, ?it/s]"
      ]
     },
     "metadata": {},
     "output_type": "display_data"
    }
   ],
   "source": [
    "data = []\n",
    "for file in tqdm(files):\n",
    "    bucket_name =  f'{file.parent.parent.stem}/{file.parent.stem}/{file.stem}'\n",
    "    df = pd.read_parquet(file)\n",
    "    df = df[['name']]\n",
    "    df['bucket_name'] = bucket_name\n",
    "    df = df.set_index('name')\n",
    "    data.append(df)"
   ]
  },
  {
   "cell_type": "code",
   "execution_count": null,
   "id": "0876c3cb-873f-4407-8b46-301ee5f2c59e",
   "metadata": {},
   "outputs": [],
   "source": [
    "bucket_name"
   ]
  },
  {
   "cell_type": "code",
   "execution_count": 9,
   "id": "2e74f534-2e6a-4649-a774-5782bc0787b4",
   "metadata": {},
   "outputs": [],
   "source": [
    "df = pd.concat(data)"
   ]
  },
  {
   "cell_type": "code",
   "execution_count": 12,
   "id": "d07cb1bf-13f6-4703-9ffa-3085263c7f32",
   "metadata": {},
   "outputs": [],
   "source": [
    "repo_to_bucket_dict = df['bucket_name'].to_dict()"
   ]
  },
  {
   "cell_type": "code",
   "execution_count": 13,
   "id": "120b4243-00c9-4a4a-933d-7df21d9191a1",
   "metadata": {},
   "outputs": [
    {
     "data": {
      "text/plain": [
       "137350429"
      ]
     },
     "execution_count": 13,
     "metadata": {},
     "output_type": "execute_result"
    }
   ],
   "source": [
    "len(repo_to_bucket_dict)"
   ]
  },
  {
   "cell_type": "code",
   "execution_count": 16,
   "id": "6b7c6e3c-6e6b-4dd8-bca1-d50ae4404f0d",
   "metadata": {},
   "outputs": [
    {
     "name": "stdout",
     "output_type": "stream",
     "text": [
      "50.2 ns ± 0.33 ns per loop (mean ± std. dev. of 7 runs, 10000000 loops each)\n"
     ]
    }
   ],
   "source": [
    "%%timeit\n",
    "repo_to_bucket_dict['mustakim150/work-space']"
   ]
  },
  {
   "cell_type": "code",
   "execution_count": 19,
   "id": "b969c0ac-fd82-4ba1-9a85-1e5d1f56b323",
   "metadata": {},
   "outputs": [],
   "source": [
    "with open('/repo_workdir/dataset_v2_clean_repo_to_bucket_dict.pkl', 'wb') as f:\n",
    "    pickle.dump(repo_to_bucket_dict, f)"
   ]
  },
  {
   "cell_type": "code",
   "execution_count": null,
   "id": "3b763e0b-be63-40bf-a45c-70bb3a2973ae",
   "metadata": {},
   "outputs": [],
   "source": []
  }
 ],
 "metadata": {
  "kernelspec": {
   "display_name": "Python 3 (ipykernel)",
   "language": "python",
   "name": "python3"
  },
  "language_info": {
   "codemirror_mode": {
    "name": "ipython",
    "version": 3
   },
   "file_extension": ".py",
   "mimetype": "text/x-python",
   "name": "python",
   "nbconvert_exporter": "python",
   "pygments_lexer": "ipython3",
   "version": "3.9.7"
  }
 },
 "nbformat": 4,
 "nbformat_minor": 5
}
