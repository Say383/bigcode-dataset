{
 "cells": [
  {
   "cell_type": "markdown",
   "id": "e1ec79fd-90ff-4af0-966b-548e532a6c06",
   "metadata": {},
   "source": [
    "## Check some statistics for issues"
   ]
  },
  {
   "cell_type": "code",
   "execution_count": 1,
   "id": "74be9605-6bdf-452d-ba36-74e0b88568f6",
   "metadata": {},
   "outputs": [],
   "source": [
    "import pandas as pd\n",
    "import ray\n",
    "import dask.dataframe as dd\n",
    "from pathlib import Path\n",
    "import numpy as np\n",
    "from tqdm.auto import tqdm\n",
    "import json\n",
    "import gzip\n",
    "import json"
   ]
  },
  {
   "cell_type": "code",
   "execution_count": null,
   "id": "cfc99001-42bc-4616-bc65-b0a84663cc18",
   "metadata": {},
   "outputs": [],
   "source": [
    "import dask\n",
    "dask.config.set({'logging.distributed': 'error'})\n",
    "import logging\n"
   ]
  },
  {
   "cell_type": "code",
   "execution_count": null,
   "id": "2e1abf71-54f9-4832-b1a1-dddd16bd2c43",
   "metadata": {},
   "outputs": [],
   "source": [
    "set([1, 3, 5]).intersection(set([3, 10, 12]))"
   ]
  },
  {
   "cell_type": "code",
   "execution_count": 2,
   "id": "7adc30cb-fd8f-4de5-9bee-c9c70eb96bf5",
   "metadata": {},
   "outputs": [
    {
     "data": {
      "text/plain": [
       "'https://d836708a-223a-443a-be5c-78c61f5498a5-8000.job.console.elementai.com'"
      ]
     },
     "execution_count": 2,
     "metadata": {},
     "output_type": "execute_result"
    }
   ],
   "source": [
    "from toolkit_run.ray.server import LabRayToolkitServer\n",
    "server = LabRayToolkitServer()\n",
    "server.dashboard_url"
   ]
  },
  {
   "cell_type": "code",
   "execution_count": 3,
   "id": "54a8edc9-408b-4e2f-b131-ed680f879047",
   "metadata": {
    "tags": []
   },
   "outputs": [
    {
     "data": {
      "text/plain": [
       "'OK'"
      ]
     },
     "execution_count": 3,
     "metadata": {},
     "output_type": "execute_result"
    }
   ],
   "source": [
    "server.scale_cluster(60)"
   ]
  },
  {
   "cell_type": "code",
   "execution_count": null,
   "id": "9d2d5261-896a-4af1-9fda-0a96aed91e56",
   "metadata": {},
   "outputs": [],
   "source": [
    "ray.shutdown()"
   ]
  },
  {
   "cell_type": "code",
   "execution_count": 4,
   "id": "69bb952f-230d-4e29-abd2-f1eb226ba751",
   "metadata": {},
   "outputs": [],
   "source": [
    "path = Path('/dataset/gharchives_2015')\n",
    "files = list(path.glob('*'))"
   ]
  },
  {
   "cell_type": "code",
   "execution_count": 5,
   "id": "f98b3c89-aba0-482c-8e0d-556165ce0d7e",
   "metadata": {},
   "outputs": [],
   "source": [
    "def enum_jsongz_lines(file):\n",
    "    with gzip.open(file, \"r\") as f:\n",
    "        for line in f:\n",
    "            try:\n",
    "                yield json.loads(line)\n",
    "            except Exception:\n",
    "                continue"
   ]
  },
  {
   "cell_type": "code",
   "execution_count": null,
   "id": "b6048e36-7408-42eb-aedd-8d7473a3fb3c",
   "metadata": {},
   "outputs": [],
   "source": [
    "event_types = set(['ForkEvent'])\n",
    "events = []\n",
    "to_break = False\n",
    "for file in tqdm(files):\n",
    "    for line in enum_jsongz_lines(file):\n",
    "        try:\n",
    "            event_type = line['type']\n",
    "            if event_type in event_types:\n",
    "                to_break = True\n",
    "                break\n",
    "        except Exception:\n",
    "            print(line)\n",
    "            raise\n",
    "    if to_break:\n",
    "        break"
   ]
  },
  {
   "cell_type": "code",
   "execution_count": 6,
   "id": "46cf39a7-7487-476e-bd9c-c7e04a44b881",
   "metadata": {},
   "outputs": [],
   "source": [
    "def parse_fork_event(line):\n",
    "    return {\n",
    "        'actor_login': line['actor']['login'],\n",
    "        'src_repo': line['repo']['name'],\n",
    "        'event_created_at': line['created_at']\n",
    "    }\n",
    "\n",
    "def parse_file(file):\n",
    "    data = []\n",
    "    for line in enum_jsongz_lines(file):\n",
    "        try:\n",
    "            event_type = line['type']\n",
    "            if event_type == 'ForkEvent':\n",
    "                data.append(parse_fork_event(line))\n",
    "        except Exception:\n",
    "            continue\n",
    "    if len(data) > 0:\n",
    "        return pd.DataFrame(data)\n",
    "    else:\n",
    "        return None\n",
    "    \n",
    "@ray.remote(num_cpus=2)\n",
    "def process(file):\n",
    "    return parse_file(file)"
   ]
  },
  {
   "cell_type": "code",
   "execution_count": 8,
   "id": "29eefdd9-17af-4c1a-bcfd-5ec379cbbb8d",
   "metadata": {},
   "outputs": [],
   "source": [
    "res = []\n",
    "for file in files:\n",
    "    res.append(process.remote(file))\n",
    "res = ray.get(res)"
   ]
  },
  {
   "cell_type": "code",
   "execution_count": 9,
   "id": "c6e6975b-f1c4-4a86-8eb6-d09b5a7b64d3",
   "metadata": {},
   "outputs": [],
   "source": [
    "df = pd.concat(res)"
   ]
  },
  {
   "cell_type": "code",
   "execution_count": 11,
   "id": "f7311e4a-92ef-4378-b782-d1873f3c8623",
   "metadata": {},
   "outputs": [],
   "source": [
    " df['event_created_at'] = pd.to_datetime(df['event_created_at'], errors='coerce')"
   ]
  },
  {
   "cell_type": "code",
   "execution_count": 12,
   "id": "92166c79-1b90-4e99-b0e5-40c4d13dacc8",
   "metadata": {},
   "outputs": [],
   "source": [
    "groups = df.groupby('src_repo')"
   ]
  },
  {
   "cell_type": "code",
   "execution_count": 13,
   "id": "50d79813-5d4a-476c-962d-47049f6cd648",
   "metadata": {},
   "outputs": [],
   "source": [
    "df1 = pd.DataFrame()"
   ]
  },
  {
   "cell_type": "code",
   "execution_count": 14,
   "id": "402ee747-7f34-49a1-be4e-f163559825a3",
   "metadata": {},
   "outputs": [],
   "source": [
    "df1['count'] = groups['actor_login'].count()"
   ]
  },
  {
   "cell_type": "code",
   "execution_count": 16,
   "id": "7bd1f040-64c9-4518-af46-4f58d19f0af7",
   "metadata": {},
   "outputs": [],
   "source": [
    "df1['event_min_datetime'] =  groups['event_created_at'].min()\n",
    "df1['event_max_datetime'] =  groups['event_created_at'].max()"
   ]
  },
  {
   "cell_type": "code",
   "execution_count": null,
   "id": "3f7d087c-bf28-41d9-b06e-410d24235b8b",
   "metadata": {},
   "outputs": [],
   "source": []
  },
  {
   "cell_type": "code",
   "execution_count": 17,
   "id": "87ef3b12-0dd6-427b-bcb0-fe833f10c22b",
   "metadata": {},
   "outputs": [
    {
     "data": {
      "text/html": [
       "<div>\n",
       "<style scoped>\n",
       "    .dataframe tbody tr th:only-of-type {\n",
       "        vertical-align: middle;\n",
       "    }\n",
       "\n",
       "    .dataframe tbody tr th {\n",
       "        vertical-align: top;\n",
       "    }\n",
       "\n",
       "    .dataframe thead th {\n",
       "        text-align: right;\n",
       "    }\n",
       "</style>\n",
       "<table border=\"1\" class=\"dataframe\">\n",
       "  <thead>\n",
       "    <tr style=\"text-align: right;\">\n",
       "      <th></th>\n",
       "      <th>count</th>\n",
       "      <th>event_min_datetime</th>\n",
       "      <th>event_max_datetime</th>\n",
       "    </tr>\n",
       "    <tr>\n",
       "      <th>src_repo</th>\n",
       "      <th></th>\n",
       "      <th></th>\n",
       "      <th></th>\n",
       "    </tr>\n",
       "  </thead>\n",
       "  <tbody>\n",
       "    <tr>\n",
       "      <th>fork-apps/simple-licensing-api</th>\n",
       "      <td>1</td>\n",
       "      <td>2020-02-25 16:51:00+00:00</td>\n",
       "      <td>2020-02-25 16:51:00+00:00</td>\n",
       "    </tr>\n",
       "    <tr>\n",
       "      <th>jangel97/gsx_practica1_sistemes</th>\n",
       "      <td>1</td>\n",
       "      <td>2019-02-06 19:18:17+00:00</td>\n",
       "      <td>2019-02-06 19:18:17+00:00</td>\n",
       "    </tr>\n",
       "    <tr>\n",
       "      <th>jangelcp/pruebaculo</th>\n",
       "      <td>1</td>\n",
       "      <td>2021-08-02 01:21:38+00:00</td>\n",
       "      <td>2021-08-02 01:21:38+00:00</td>\n",
       "    </tr>\n",
       "    <tr>\n",
       "      <th>jangeles/jaenv</th>\n",
       "      <td>1</td>\n",
       "      <td>2021-08-03 16:41:53+00:00</td>\n",
       "      <td>2021-08-03 16:41:53+00:00</td>\n",
       "    </tr>\n",
       "    <tr>\n",
       "      <th>jangelesg/AWAE-OSWE</th>\n",
       "      <td>1</td>\n",
       "      <td>2021-07-09 12:25:23+00:00</td>\n",
       "      <td>2021-07-09 12:25:23+00:00</td>\n",
       "    </tr>\n",
       "    <tr>\n",
       "      <th>...</th>\n",
       "      <td>...</td>\n",
       "      <td>...</td>\n",
       "      <td>...</td>\n",
       "    </tr>\n",
       "    <tr>\n",
       "      <th>github/gitignore</th>\n",
       "      <td>94734</td>\n",
       "      <td>2015-01-01 03:43:22+00:00</td>\n",
       "      <td>2022-03-31 23:02:06+00:00</td>\n",
       "    </tr>\n",
       "    <tr>\n",
       "      <th>tensorflow/tensorflow</th>\n",
       "      <td>104981</td>\n",
       "      <td>2015-11-09 13:40:17+00:00</td>\n",
       "      <td>2022-03-31 19:51:54+00:00</td>\n",
       "    </tr>\n",
       "    <tr>\n",
       "      <th>rdpeng/ProgrammingAssignment2</th>\n",
       "      <td>132038</td>\n",
       "      <td>2015-01-01 20:40:47+00:00</td>\n",
       "      <td>2022-03-31 23:50:11+00:00</td>\n",
       "    </tr>\n",
       "    <tr>\n",
       "      <th>octocat/Spoon-Knife</th>\n",
       "      <td>148718</td>\n",
       "      <td>2015-01-01 00:08:30+00:00</td>\n",
       "      <td>2022-03-31 23:16:17+00:00</td>\n",
       "    </tr>\n",
       "    <tr>\n",
       "      <th>jtleek/datasharing</th>\n",
       "      <td>210133</td>\n",
       "      <td>2015-01-01 12:38:35+00:00</td>\n",
       "      <td>2022-03-31 23:38:51+00:00</td>\n",
       "    </tr>\n",
       "  </tbody>\n",
       "</table>\n",
       "<p>13836292 rows × 3 columns</p>\n",
       "</div>"
      ],
      "text/plain": [
       "                                  count        event_min_datetime  \\\n",
       "src_repo                                                            \n",
       "fork-apps/simple-licensing-api        1 2020-02-25 16:51:00+00:00   \n",
       "jangel97/gsx_practica1_sistemes       1 2019-02-06 19:18:17+00:00   \n",
       "jangelcp/pruebaculo                   1 2021-08-02 01:21:38+00:00   \n",
       "jangeles/jaenv                        1 2021-08-03 16:41:53+00:00   \n",
       "jangelesg/AWAE-OSWE                   1 2021-07-09 12:25:23+00:00   \n",
       "...                                 ...                       ...   \n",
       "github/gitignore                  94734 2015-01-01 03:43:22+00:00   \n",
       "tensorflow/tensorflow            104981 2015-11-09 13:40:17+00:00   \n",
       "rdpeng/ProgrammingAssignment2    132038 2015-01-01 20:40:47+00:00   \n",
       "octocat/Spoon-Knife              148718 2015-01-01 00:08:30+00:00   \n",
       "jtleek/datasharing               210133 2015-01-01 12:38:35+00:00   \n",
       "\n",
       "                                       event_max_datetime  \n",
       "src_repo                                                   \n",
       "fork-apps/simple-licensing-api  2020-02-25 16:51:00+00:00  \n",
       "jangel97/gsx_practica1_sistemes 2019-02-06 19:18:17+00:00  \n",
       "jangelcp/pruebaculo             2021-08-02 01:21:38+00:00  \n",
       "jangeles/jaenv                  2021-08-03 16:41:53+00:00  \n",
       "jangelesg/AWAE-OSWE             2021-07-09 12:25:23+00:00  \n",
       "...                                                   ...  \n",
       "github/gitignore                2022-03-31 23:02:06+00:00  \n",
       "tensorflow/tensorflow           2022-03-31 19:51:54+00:00  \n",
       "rdpeng/ProgrammingAssignment2   2022-03-31 23:50:11+00:00  \n",
       "octocat/Spoon-Knife             2022-03-31 23:16:17+00:00  \n",
       "jtleek/datasharing              2022-03-31 23:38:51+00:00  \n",
       "\n",
       "[13836292 rows x 3 columns]"
      ]
     },
     "execution_count": 17,
     "metadata": {},
     "output_type": "execute_result"
    }
   ],
   "source": [
    "df1.sort_values('count')"
   ]
  },
  {
   "cell_type": "code",
   "execution_count": 32,
   "id": "10226eef-5feb-4ccd-91c9-dd11b15bd594",
   "metadata": {},
   "outputs": [
    {
     "name": "stderr",
     "output_type": "stream",
     "text": [
      "/tmp/ipykernel_42305/911852571.py:23: UserWarning: FixedFormatter should only be used together with FixedLocator\n",
      "  ax.set_xticklabels(labels)\n"
     ]
    },
    {
     "data": {
      "image/png": "[encoded data removed]",
      "text/plain": [
       "<Figure size 432x288 with 1 Axes>"
      ]
     },
     "metadata": {
      "needs_background": "light"
     },
     "output_type": "display_data"
    }
   ],
   "source": [
    "import numpy as np\n",
    "import matplotlib.pyplot as plt\n",
    "hist, bins = np.histogram(df1['count'], bins=[0, 10, 100, 1000, 10000, 100000, 1000000])\n",
    "hist2, bins2 = np.histogram(df2['count'], bins=[0, 10, 100, 1000, 10000, 100000, 1000000])\n",
    "fig, ax = plt.subplots()\n",
    "ax.bar(bins[1:]-np.diff(bins)/4, hist, width=np.diff(bins)/2, log=True,ec=\"k\", align=\"edge\", label='number of forks')\n",
    "ax.bar(bins2[1:]+np.diff(bins2)/2, hist2, width=np.diff(bins2), log=True,ec=\"k\", align=\"edge\", label='number of issues')\n",
    "ax.set_xscale(\"log\")\n",
    "ax.set_title('number of repos by attribute count')\n",
    "ax.set_xlabel('attoribute count')\n",
    "ax.set_ylabel('repo count')\n",
    "\n",
    "fig.canvas.draw()\n",
    "\n",
    "labels = [item.get_text() for item in ax.get_xticklabels()]\n",
    "labels[2] = '0<10'\n",
    "labels[3] = '10<100'\n",
    "labels[4] = '100<1K'\n",
    "labels[5] = '1K<10K'\n",
    "labels[6] = '10K<100K'\n",
    "labels[7] = '>100K'\n",
    "\n",
    "ax.set_xticklabels(labels)\n",
    "\n",
    "plt.legend()\n",
    "\n",
    "plt.show()"
   ]
  },
  {
   "cell_type": "code",
   "execution_count": 19,
   "id": "a3e8e1ba-c53b-4e55-8466-c1cf97dd77a9",
   "metadata": {},
   "outputs": [],
   "source": [
    "df1.to_parquet('/repo_workdir/forks_per_repos_all.parquet')"
   ]
  },
  {
   "cell_type": "code",
   "execution_count": 20,
   "id": "2b0263e1-f60a-4160-a322-91aba2bdd6c4",
   "metadata": {},
   "outputs": [],
   "source": [
    "df2 = pd.read_parquet('/repo_workdir/issues_per_repos_all.parquet')"
   ]
  },
  {
   "cell_type": "code",
   "execution_count": null,
   "id": "cc0714be-eeca-43c8-afe7-3f925e368c4f",
   "metadata": {},
   "outputs": [],
   "source": [
    "grouped = df.groupby('repo_name')"
   ]
  },
  {
   "cell_type": "markdown",
   "id": "efff1342-ea42-44d8-a353-a19bdaa5b519",
   "metadata": {},
   "source": [
    "## end count number of issues"
   ]
  }
 ],
 "metadata": {
  "kernelspec": {
   "display_name": "Python 3 (ipykernel)",
   "language": "python",
   "name": "python3"
  },
  "language_info": {
   "codemirror_mode": {
    "name": "ipython",
    "version": 3
   },
   "file_extension": ".py",
   "mimetype": "text/x-python",
   "name": "python",
   "nbconvert_exporter": "python",
   "pygments_lexer": "ipython3",
   "version": "3.9.7"
  }
 },
 "nbformat": 4,
 "nbformat_minor": 5
}
