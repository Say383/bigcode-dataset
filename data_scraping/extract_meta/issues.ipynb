{
 "cells": [
  {
   "cell_type": "markdown",
   "id": "e1ec79fd-90ff-4af0-966b-548e532a6c06",
   "metadata": {},
   "source": [
    "## Check some statistics for issues"
   ]
  },
  {
   "cell_type": "code",
   "execution_count": 4,
   "id": "74be9605-6bdf-452d-ba36-74e0b88568f6",
   "metadata": {},
   "outputs": [],
   "source": [
    "import pandas as pd\n",
    "import ray\n",
    "import dask.dataframe as dd\n",
    "from pathlib import Path\n",
    "import numpy as np\n",
    "from tqdm.auto import tqdm\n",
    "import json"
   ]
  },
  {
   "cell_type": "code",
   "execution_count": null,
   "id": "cfc99001-42bc-4616-bc65-b0a84663cc18",
   "metadata": {},
   "outputs": [],
   "source": [
    "import dask\n",
    "dask.config.set({'logging.distributed': 'error'})\n",
    "import logging\n"
   ]
  },
  {
   "cell_type": "code",
   "execution_count": 1,
   "id": "2e1abf71-54f9-4832-b1a1-dddd16bd2c43",
   "metadata": {},
   "outputs": [
    {
     "data": {
      "text/plain": [
       "{3}"
      ]
     },
     "execution_count": 1,
     "metadata": {},
     "output_type": "execute_result"
    }
   ],
   "source": [
    "set([1, 3, 5]).intersection(set([3, 10, 12]))"
   ]
  },
  {
   "cell_type": "code",
   "execution_count": 65,
   "id": "7adc30cb-fd8f-4de5-9bee-c9c70eb96bf5",
   "metadata": {},
   "outputs": [
    {
     "name": "stderr",
     "output_type": "stream",
     "text": [
      "2022-11-08 08:19:55,693\tINFO worker.py:956 -- Connecting to existing Ray cluster at address: 10.210.122.222:8786\n",
      "2022-11-08 08:19:55,696\tINFO worker.py:973 -- Calling ray.init() again after it has already been called.\n"
     ]
    },
    {
     "data": {
      "text/plain": [
       "'https://d836708a-223a-443a-be5c-78c61f5498a5-8000.job.console.elementai.com'"
      ]
     },
     "execution_count": 65,
     "metadata": {},
     "output_type": "execute_result"
    }
   ],
   "source": [
    "from toolkit_run.ray.server import LabRayToolkitServer\n",
    "server = LabRayToolkitServer()\n",
    "server.dashboard_url"
   ]
  },
  {
   "cell_type": "code",
   "execution_count": 66,
   "id": "54a8edc9-408b-4e2f-b131-ed680f879047",
   "metadata": {
    "tags": []
   },
   "outputs": [
    {
     "data": {
      "text/plain": [
       "'OK'"
      ]
     },
     "execution_count": 66,
     "metadata": {},
     "output_type": "execute_result"
    }
   ],
   "source": [
    "server.scale_cluster(60)"
   ]
  },
  {
   "cell_type": "code",
   "execution_count": 144,
   "id": "9d2d5261-896a-4af1-9fda-0a96aed91e56",
   "metadata": {},
   "outputs": [],
   "source": [
    "ray.shutdown()"
   ]
  },
  {
   "cell_type": "code",
   "execution_count": 2,
   "id": "cc8d6711-84d7-4900-b6b9-8171536ac257",
   "metadata": {},
   "outputs": [],
   "source": [
    "dst_path = Path('/dataset/gharchive_issues_permissive_repos_v2alfa2_py')"
   ]
  },
  {
   "cell_type": "code",
   "execution_count": 25,
   "id": "9e99e195-0507-4b37-aa72-343073d545e8",
   "metadata": {},
   "outputs": [],
   "source": [
    "from toolkit_run.util.io import pickle_load\n",
    "permissive_repos_py  = pickle_load(Path('/repo_workdir/permissive_repos_v2alfa2_py.pkl'))"
   ]
  },
  {
   "cell_type": "code",
   "execution_count": 26,
   "id": "d2274883-c5f3-44cd-a545-a87969c172e8",
   "metadata": {},
   "outputs": [],
   "source": [
    "permissive_repos_py_ref = ray.put(permissive_repos_py)"
   ]
  },
  {
   "cell_type": "code",
   "execution_count": 5,
   "id": "03364d2e-d3ff-42df-84a9-0d699a493e73",
   "metadata": {},
   "outputs": [
    {
     "data": {
      "text/plain": [
       "3718573"
      ]
     },
     "execution_count": 5,
     "metadata": {},
     "output_type": "execute_result"
    }
   ],
   "source": [
    "len(permissive_repos_py)"
   ]
  },
  {
   "cell_type": "code",
   "execution_count": 67,
   "id": "67adab70-d3f1-426b-b2a1-d5f83747d034",
   "metadata": {},
   "outputs": [],
   "source": [
    "issue_files =  list(Path('/repo_workdir/gharchives_2015_issues/results/').glob('data-*.parquet'))"
   ]
  },
  {
   "cell_type": "code",
   "execution_count": 5,
   "id": "422abffb-818a-4ff1-8625-cbf6834ea212",
   "metadata": {},
   "outputs": [],
   "source": [
    "path = Path('/dataset/gharchives_2015')\n",
    "files = list(path.glob('*'))"
   ]
  },
  {
   "cell_type": "code",
   "execution_count": 8,
   "id": "e2698b91-23fb-4626-9a52-e7a3048c5436",
   "metadata": {},
   "outputs": [],
   "source": [
    "import gzip\n",
    "def enum_jsongz_lines(file):\n",
    "    with gzip.open(file, \"r\") as f:\n",
    "        for line in f:\n",
    "            try:\n",
    "                yield json.loads(line)\n",
    "            except Exception:\n",
    "                continue"
   ]
  },
  {
   "cell_type": "code",
   "execution_count": 11,
   "id": "9e9d07ab-6da2-457f-bcc8-ba8eeb6459b4",
   "metadata": {},
   "outputs": [
    {
     "data": {
      "application/vnd.jupyter.widget-view+json": {
       "model_id": "596efca76efd4abfb6dacc1eb50de14e",
       "version_major": 2,
       "version_minor": 0
      },
      "text/plain": [
       "  0%|          | 0/63209 [00:00<?, ?it/s]"
      ]
     },
     "metadata": {},
     "output_type": "display_data"
    }
   ],
   "source": [
    "\n",
    "event_types = set(['IssuesEvent', 'IssueCommentEvent'])\n",
    "events = []\n",
    "to_break = False\n",
    "for file in tqdm(files[0:]):\n",
    "    for line in enum_jsongz_lines(file):\n",
    "        try:\n",
    "            event_type = line['type']\n",
    "            if event_type in event_types:\n",
    "                if 'pull_request' in line['payload']['issue'] and 'url' in line['payload']['issue']['pull_request']:\n",
    "                    split = line['payload']['issue']['pull_request']['url'].split('/')\n",
    "                    event_pull_request_data = {\n",
    "                        'pull_request_user_login': split[4],\n",
    "                        'pull_request_repo': split[5],\n",
    "                        'pull_request_number': split[7]\n",
    "                    }\n",
    "                    try:\n",
    "                        int(event_pull_request_data['pull_request_number'])\n",
    "                    except ValueError as verr:\n",
    "                        to_break = True\n",
    "                        break\n",
    "        except Exception:\n",
    "            print(line)\n",
    "            raise\n",
    "    if to_break:\n",
    "        break"
   ]
  },
  {
   "cell_type": "code",
   "execution_count": 13,
   "id": "cbf29bcb-a7b1-4c27-bf08-54fcb245bc80",
   "metadata": {},
   "outputs": [],
   "source": [
    "split = line['payload']['issue']['pull_request']['url'].split('/')\n",
    "event_pull_request_data = {\n",
    "    'pull_request_user_login': split[-4],\n",
    "    'pull_request_repo': split[-3],\n",
    "    'pull_request_number': split[-1]\n",
    "}"
   ]
  },
  {
   "cell_type": "code",
   "execution_count": 14,
   "id": "4dc2a89f-452a-4226-8744-112f65bf605c",
   "metadata": {},
   "outputs": [
    {
     "data": {
      "text/plain": [
       "{'pull_request_user_login': 'tierninho-acme-admin',\n",
       " 'pull_request_repo': 'test',\n",
       " 'pull_request_number': '7'}"
      ]
     },
     "execution_count": 14,
     "metadata": {},
     "output_type": "execute_result"
    }
   ],
   "source": [
    "event_pull_request_data"
   ]
  },
  {
   "cell_type": "code",
   "execution_count": 15,
   "id": "1ae047a6-a6d4-4083-b41f-3509e1e2a541",
   "metadata": {},
   "outputs": [
    {
     "data": {
      "text/plain": [
       "{'id': '3492984190',\n",
       " 'type': 'IssueCommentEvent',\n",
       " 'actor': {'id': 15875616,\n",
       "  'login': 'tierninho-acme-admin',\n",
       "  'gravatar_id': '',\n",
       "  'url': 'https://api.github.com/users/tierninho-acme-admin',\n",
       "  'avatar_url': 'https://avatars.githubusercontent.com/u/15875616?'},\n",
       " 'repo': {'id': 46437212,\n",
       "  'name': 'tierninho-acme-admin/test',\n",
       "  'url': 'https://api.github.com/repos/tierninho-acme-admin/test'},\n",
       " 'payload': {'action': 'created',\n",
       "  'issue': {'url': 'https://garage.github.com/api/v3/repos/tierninho-acme-admin/test/issues/7',\n",
       "   'labels_url': 'https://garage.github.com/api/v3/repos/tierninho-acme-admin/test/issues/7/labels{/name}',\n",
       "   'comments_url': 'https://garage.github.com/api/v3/repos/tierninho-acme-admin/test/issues/7/comments',\n",
       "   'events_url': 'https://garage.github.com/api/v3/repos/tierninho-acme-admin/test/issues/7/events',\n",
       "   'html_url': 'https://github.com/tierninho-acme-admin/test/pull/7',\n",
       "   'id': 124858004,\n",
       "   'number': 7,\n",
       "   'title': 'Revert \"fghfghfg123\"',\n",
       "   'user': {'login': 'tierninho-acme-admin',\n",
       "    'id': 15875616,\n",
       "    'avatar_url': 'https://avatars.githubusercontent.com/u/15875616?v=3',\n",
       "    'gravatar_id': '',\n",
       "    'url': 'https://garage.github.com/api/v3/users/tierninho-acme-admin',\n",
       "    'html_url': 'https://github.com/tierninho-acme-admin',\n",
       "    'followers_url': 'https://garage.github.com/api/v3/users/tierninho-acme-admin/followers',\n",
       "    'following_url': 'https://garage.github.com/api/v3/users/tierninho-acme-admin/following{/other_user}',\n",
       "    'gists_url': 'https://garage.github.com/api/v3/users/tierninho-acme-admin/gists{/gist_id}',\n",
       "    'starred_url': 'https://garage.github.com/api/v3/users/tierninho-acme-admin/starred{/owner}{/repo}',\n",
       "    'subscriptions_url': 'https://garage.github.com/api/v3/users/tierninho-acme-admin/subscriptions',\n",
       "    'organizations_url': 'https://garage.github.com/api/v3/users/tierninho-acme-admin/orgs',\n",
       "    'repos_url': 'https://garage.github.com/api/v3/users/tierninho-acme-admin/repos',\n",
       "    'events_url': 'https://garage.github.com/api/v3/users/tierninho-acme-admin/events{/privacy}',\n",
       "    'received_events_url': 'https://garage.github.com/api/v3/users/tierninho-acme-admin/received_events',\n",
       "    'type': 'User',\n",
       "    'site_admin': False},\n",
       "   'labels': [],\n",
       "   'state': 'open',\n",
       "   'locked': True,\n",
       "   'assignee': None,\n",
       "   'milestone': None,\n",
       "   'comments': 1,\n",
       "   'created_at': '2016-01-04T22:54:32Z',\n",
       "   'updated_at': '2016-01-04T22:54:55Z',\n",
       "   'closed_at': None,\n",
       "   'pull_request': {'url': 'https://garage.github.com/api/v3/repos/tierninho-acme-admin/test/pulls/7',\n",
       "    'html_url': 'https://github.com/tierninho-acme-admin/test/pull/7',\n",
       "    'diff_url': 'https://github.com/tierninho-acme-admin/test/pull/7.diff',\n",
       "    'patch_url': 'https://github.com/tierninho-acme-admin/test/pull/7.patch'},\n",
       "   'body': ''},\n",
       "  'comment': {'url': 'https://garage.github.com/api/v3/repos/tierninho-acme-admin/test/issues/comments/168837607',\n",
       "   'html_url': 'https://github.com/tierninho-acme-admin/test/pull/7#issuecomment-168837607',\n",
       "   'issue_url': 'https://garage.github.com/api/v3/repos/tierninho-acme-admin/test/issues/7',\n",
       "   'id': 168837607,\n",
       "   'user': {'login': 'tierninho-acme-admin',\n",
       "    'id': 15875616,\n",
       "    'avatar_url': 'https://avatars.githubusercontent.com/u/15875616?v=3',\n",
       "    'gravatar_id': '',\n",
       "    'url': 'https://garage.github.com/api/v3/users/tierninho-acme-admin',\n",
       "    'html_url': 'https://github.com/tierninho-acme-admin',\n",
       "    'followers_url': 'https://garage.github.com/api/v3/users/tierninho-acme-admin/followers',\n",
       "    'following_url': 'https://garage.github.com/api/v3/users/tierninho-acme-admin/following{/other_user}',\n",
       "    'gists_url': 'https://garage.github.com/api/v3/users/tierninho-acme-admin/gists{/gist_id}',\n",
       "    'starred_url': 'https://garage.github.com/api/v3/users/tierninho-acme-admin/starred{/owner}{/repo}',\n",
       "    'subscriptions_url': 'https://garage.github.com/api/v3/users/tierninho-acme-admin/subscriptions',\n",
       "    'organizations_url': 'https://garage.github.com/api/v3/users/tierninho-acme-admin/orgs',\n",
       "    'repos_url': 'https://garage.github.com/api/v3/users/tierninho-acme-admin/repos',\n",
       "    'events_url': 'https://garage.github.com/api/v3/users/tierninho-acme-admin/events{/privacy}',\n",
       "    'received_events_url': 'https://garage.github.com/api/v3/users/tierninho-acme-admin/received_events',\n",
       "    'type': 'User',\n",
       "    'site_admin': False},\n",
       "   'created_at': '2016-01-04T22:54:55Z',\n",
       "   'updated_at': '2016-01-04T22:54:55Z',\n",
       "   'body': 'fgbfb'}},\n",
       " 'public': True,\n",
       " 'created_at': '2016-01-04T22:55:00Z'}"
      ]
     },
     "execution_count": 15,
     "metadata": {},
     "output_type": "execute_result"
    }
   ],
   "source": [
    "line"
   ]
  },
  {
   "cell_type": "markdown",
   "id": "26496ac2-775d-4b42-b1e0-063906cbc7a7",
   "metadata": {},
   "source": [
    "## count number of issues"
   ]
  },
  {
   "cell_type": "code",
   "execution_count": 123,
   "id": "9cb16670-5563-409b-873f-08a2dfe3a880",
   "metadata": {},
   "outputs": [],
   "source": [
    "@ray.remote(num_cpus=2)\n",
    "def process(file):\n",
    "    df = pd.read_parquet(file)\n",
    "    df = df[['event_created_at', 'event_repo_name', 'issue_number', 'issue_created_at']]\n",
    "    df['issue_created_at'] = pd.to_datetime(df['issue_created_at'], errors='coerce')\n",
    "    df['event_created_at'] = pd.to_datetime(df['event_created_at'], errors='coerce')\n",
    "    groups = df.groupby(['event_repo_name', 'issue_number'])\n",
    "    df1 = groups['issue_created_at'].first().to_frame()\n",
    "    df1['issue_events_count'] = groups['event_created_at'].count()\n",
    "    df1['event_min_datetime'] =  groups['event_created_at'].min()\n",
    "    df1['event_max_datetime'] =  groups['event_created_at'].max()\n",
    "    return df1\n",
    "    "
   ]
  },
  {
   "cell_type": "code",
   "execution_count": 124,
   "id": "0e1dab40-0730-40f3-a4a5-3a4f0e41aef2",
   "metadata": {},
   "outputs": [],
   "source": [
    "res = []\n",
    "for file in issue_files:\n",
    "    res.append(process.remote(file))\n",
    "res = ray.get(res)"
   ]
  },
  {
   "cell_type": "code",
   "execution_count": 125,
   "id": "c6e6975b-f1c4-4a86-8eb6-d09b5a7b64d3",
   "metadata": {},
   "outputs": [],
   "source": [
    "df = pd.concat(res)"
   ]
  },
  {
   "cell_type": "code",
   "execution_count": 128,
   "id": "da7a2c40-42f6-430e-943a-40c141a016a3",
   "metadata": {},
   "outputs": [],
   "source": [
    "df = df.reset_index(drop=False)"
   ]
  },
  {
   "cell_type": "code",
   "execution_count": 130,
   "id": "92166c79-1b90-4e99-b0e5-40c4d13dacc8",
   "metadata": {},
   "outputs": [],
   "source": [
    "groups = df.groupby('event_repo_name')"
   ]
  },
  {
   "cell_type": "code",
   "execution_count": 129,
   "id": "50d79813-5d4a-476c-962d-47049f6cd648",
   "metadata": {},
   "outputs": [],
   "source": [
    "df1 = pd.DataFrame()"
   ]
  },
  {
   "cell_type": "code",
   "execution_count": 131,
   "id": "402ee747-7f34-49a1-be4e-f163559825a3",
   "metadata": {},
   "outputs": [],
   "source": [
    "df1['count'] = groups['issue_number'].count()"
   ]
  },
  {
   "cell_type": "code",
   "execution_count": 133,
   "id": "7bd1f040-64c9-4518-af46-4f58d19f0af7",
   "metadata": {},
   "outputs": [],
   "source": [
    "df1['event_min_datetime'] =  groups['event_min_datetime'].min()\n",
    "df1['event_max_datetime'] =  groups['event_max_datetime'].max()"
   ]
  },
  {
   "cell_type": "code",
   "execution_count": 136,
   "id": "3f7d087c-bf28-41d9-b06e-410d24235b8b",
   "metadata": {},
   "outputs": [],
   "source": [
    "df1['issue_created_min_datetime'] =  groups['issue_created_at'].min()\n",
    "df1['issue_created_max_datetime'] =  groups['issue_created_at'].max()"
   ]
  },
  {
   "cell_type": "code",
   "execution_count": 139,
   "id": "87ef3b12-0dd6-427b-bcb0-fe833f10c22b",
   "metadata": {},
   "outputs": [
    {
     "data": {
      "text/html": [
       "<div>\n",
       "<style scoped>\n",
       "    .dataframe tbody tr th:only-of-type {\n",
       "        vertical-align: middle;\n",
       "    }\n",
       "\n",
       "    .dataframe tbody tr th {\n",
       "        vertical-align: top;\n",
       "    }\n",
       "\n",
       "    .dataframe thead th {\n",
       "        text-align: right;\n",
       "    }\n",
       "</style>\n",
       "<table border=\"1\" class=\"dataframe\">\n",
       "  <thead>\n",
       "    <tr style=\"text-align: right;\">\n",
       "      <th></th>\n",
       "      <th>count</th>\n",
       "      <th>event_min_datetime</th>\n",
       "      <th>event_max_datetime</th>\n",
       "      <th>issue_created_min_datetime</th>\n",
       "      <th>issue_created_max_datetime</th>\n",
       "    </tr>\n",
       "    <tr>\n",
       "      <th>event_repo_name</th>\n",
       "      <th></th>\n",
       "      <th></th>\n",
       "      <th></th>\n",
       "      <th></th>\n",
       "      <th></th>\n",
       "    </tr>\n",
       "  </thead>\n",
       "  <tbody>\n",
       "    <tr>\n",
       "      <th>0----0/Terra-3d-Experiments</th>\n",
       "      <td>1</td>\n",
       "      <td>2018-12-20 23:10:13+00:00</td>\n",
       "      <td>2018-12-20 23:10:13+00:00</td>\n",
       "      <td>2018-12-20 23:10:13+00:00</td>\n",
       "      <td>2018-12-20 23:10:13+00:00</td>\n",
       "    </tr>\n",
       "    <tr>\n",
       "      <th>gpfla201/cdt</th>\n",
       "      <td>1</td>\n",
       "      <td>2019-05-18 17:57:41+00:00</td>\n",
       "      <td>2019-05-18 17:57:41+00:00</td>\n",
       "      <td>2019-05-18 17:57:41+00:00</td>\n",
       "      <td>2019-05-18 17:57:41+00:00</td>\n",
       "    </tr>\n",
       "    <tr>\n",
       "      <th>gpfjeff/cryptnos-for-windows</th>\n",
       "      <td>1</td>\n",
       "      <td>2016-06-14 03:39:30+00:00</td>\n",
       "      <td>2016-06-20 19:55:23+00:00</td>\n",
       "      <td>2016-06-14 03:39:29+00:00</td>\n",
       "      <td>2016-06-14 03:39:29+00:00</td>\n",
       "    </tr>\n",
       "    <tr>\n",
       "      <th>gpfister/gp-firebase-emulator-unit-test</th>\n",
       "      <td>1</td>\n",
       "      <td>2021-12-28 17:21:39+00:00</td>\n",
       "      <td>2021-12-28 17:21:39+00:00</td>\n",
       "      <td>2021-12-28 17:21:38+00:00</td>\n",
       "      <td>2021-12-28 17:21:38+00:00</td>\n",
       "    </tr>\n",
       "    <tr>\n",
       "      <th>gpfinley/amicus</th>\n",
       "      <td>1</td>\n",
       "      <td>2018-11-10 21:53:30+00:00</td>\n",
       "      <td>2018-11-10 21:53:30+00:00</td>\n",
       "      <td>2018-11-10 21:53:30+00:00</td>\n",
       "      <td>2018-11-10 21:53:30+00:00</td>\n",
       "    </tr>\n",
       "    <tr>\n",
       "      <th>...</th>\n",
       "      <td>...</td>\n",
       "      <td>...</td>\n",
       "      <td>...</td>\n",
       "      <td>...</td>\n",
       "      <td>...</td>\n",
       "    </tr>\n",
       "    <tr>\n",
       "      <th>PlaNFT/PlaNFT-Marketplace-Comments</th>\n",
       "      <td>169481</td>\n",
       "      <td>2022-01-06 11:26:08+00:00</td>\n",
       "      <td>2022-03-31 23:45:36+00:00</td>\n",
       "      <td>2022-01-06 11:26:07+00:00</td>\n",
       "      <td>2022-03-31 23:45:36+00:00</td>\n",
       "    </tr>\n",
       "    <tr>\n",
       "      <th>lstjsuperman/fabric</th>\n",
       "      <td>173979</td>\n",
       "      <td>2017-07-11 02:30:00+00:00</td>\n",
       "      <td>2021-03-19 21:00:38+00:00</td>\n",
       "      <td>2017-07-11 02:30:00+00:00</td>\n",
       "      <td>2020-05-05 14:03:38+00:00</td>\n",
       "    </tr>\n",
       "    <tr>\n",
       "      <th>koorellasuresh/UKRegionTest</th>\n",
       "      <td>379339</td>\n",
       "      <td>2017-06-25 01:28:21+00:00</td>\n",
       "      <td>2019-10-11 00:20:04+00:00</td>\n",
       "      <td>2017-06-25 01:28:21+00:00</td>\n",
       "      <td>2019-10-11 00:20:04+00:00</td>\n",
       "    </tr>\n",
       "    <tr>\n",
       "      <th>google-test/signcla-probe-repo</th>\n",
       "      <td>445924</td>\n",
       "      <td>2017-07-27 06:01:07+00:00</td>\n",
       "      <td>2021-11-18 00:01:51+00:00</td>\n",
       "      <td>2017-07-27 06:01:05+00:00</td>\n",
       "      <td>2021-11-18 00:01:31+00:00</td>\n",
       "    </tr>\n",
       "    <tr>\n",
       "      <th>pddemo/demo</th>\n",
       "      <td>852832</td>\n",
       "      <td>2020-07-06 02:31:27+00:00</td>\n",
       "      <td>2022-03-31 23:59:54+00:00</td>\n",
       "      <td>2020-07-06 02:31:27+00:00</td>\n",
       "      <td>2022-03-31 23:59:54+00:00</td>\n",
       "    </tr>\n",
       "  </tbody>\n",
       "</table>\n",
       "<p>12864660 rows × 5 columns</p>\n",
       "</div>"
      ],
      "text/plain": [
       "                                          count        event_min_datetime  \\\n",
       "event_repo_name                                                             \n",
       "0----0/Terra-3d-Experiments                   1 2018-12-20 23:10:13+00:00   \n",
       "gpfla201/cdt                                  1 2019-05-18 17:57:41+00:00   \n",
       "gpfjeff/cryptnos-for-windows                  1 2016-06-14 03:39:30+00:00   \n",
       "gpfister/gp-firebase-emulator-unit-test       1 2021-12-28 17:21:39+00:00   \n",
       "gpfinley/amicus                               1 2018-11-10 21:53:30+00:00   \n",
       "...                                         ...                       ...   \n",
       "PlaNFT/PlaNFT-Marketplace-Comments       169481 2022-01-06 11:26:08+00:00   \n",
       "lstjsuperman/fabric                      173979 2017-07-11 02:30:00+00:00   \n",
       "koorellasuresh/UKRegionTest              379339 2017-06-25 01:28:21+00:00   \n",
       "google-test/signcla-probe-repo           445924 2017-07-27 06:01:07+00:00   \n",
       "pddemo/demo                              852832 2020-07-06 02:31:27+00:00   \n",
       "\n",
       "                                               event_max_datetime  \\\n",
       "event_repo_name                                                     \n",
       "0----0/Terra-3d-Experiments             2018-12-20 23:10:13+00:00   \n",
       "gpfla201/cdt                            2019-05-18 17:57:41+00:00   \n",
       "gpfjeff/cryptnos-for-windows            2016-06-20 19:55:23+00:00   \n",
       "gpfister/gp-firebase-emulator-unit-test 2021-12-28 17:21:39+00:00   \n",
       "gpfinley/amicus                         2018-11-10 21:53:30+00:00   \n",
       "...                                                           ...   \n",
       "PlaNFT/PlaNFT-Marketplace-Comments      2022-03-31 23:45:36+00:00   \n",
       "lstjsuperman/fabric                     2021-03-19 21:00:38+00:00   \n",
       "koorellasuresh/UKRegionTest             2019-10-11 00:20:04+00:00   \n",
       "google-test/signcla-probe-repo          2021-11-18 00:01:51+00:00   \n",
       "pddemo/demo                             2022-03-31 23:59:54+00:00   \n",
       "\n",
       "                                        issue_created_min_datetime  \\\n",
       "event_repo_name                                                      \n",
       "0----0/Terra-3d-Experiments              2018-12-20 23:10:13+00:00   \n",
       "gpfla201/cdt                             2019-05-18 17:57:41+00:00   \n",
       "gpfjeff/cryptnos-for-windows             2016-06-14 03:39:29+00:00   \n",
       "gpfister/gp-firebase-emulator-unit-test  2021-12-28 17:21:38+00:00   \n",
       "gpfinley/amicus                          2018-11-10 21:53:30+00:00   \n",
       "...                                                            ...   \n",
       "PlaNFT/PlaNFT-Marketplace-Comments       2022-01-06 11:26:07+00:00   \n",
       "lstjsuperman/fabric                      2017-07-11 02:30:00+00:00   \n",
       "koorellasuresh/UKRegionTest              2017-06-25 01:28:21+00:00   \n",
       "google-test/signcla-probe-repo           2017-07-27 06:01:05+00:00   \n",
       "pddemo/demo                              2020-07-06 02:31:27+00:00   \n",
       "\n",
       "                                        issue_created_max_datetime  \n",
       "event_repo_name                                                     \n",
       "0----0/Terra-3d-Experiments              2018-12-20 23:10:13+00:00  \n",
       "gpfla201/cdt                             2019-05-18 17:57:41+00:00  \n",
       "gpfjeff/cryptnos-for-windows             2016-06-14 03:39:29+00:00  \n",
       "gpfister/gp-firebase-emulator-unit-test  2021-12-28 17:21:38+00:00  \n",
       "gpfinley/amicus                          2018-11-10 21:53:30+00:00  \n",
       "...                                                            ...  \n",
       "PlaNFT/PlaNFT-Marketplace-Comments       2022-03-31 23:45:36+00:00  \n",
       "lstjsuperman/fabric                      2020-05-05 14:03:38+00:00  \n",
       "koorellasuresh/UKRegionTest              2019-10-11 00:20:04+00:00  \n",
       "google-test/signcla-probe-repo           2021-11-18 00:01:31+00:00  \n",
       "pddemo/demo                              2022-03-31 23:59:54+00:00  \n",
       "\n",
       "[12864660 rows x 5 columns]"
      ]
     },
     "execution_count": 139,
     "metadata": {},
     "output_type": "execute_result"
    }
   ],
   "source": [
    "df1.sort_values('count')"
   ]
  },
  {
   "cell_type": "code",
   "execution_count": 142,
   "id": "10226eef-5feb-4ccd-91c9-dd11b15bd594",
   "metadata": {},
   "outputs": [
    {
     "name": "stderr",
     "output_type": "stream",
     "text": [
      "/tmp/ipykernel_441/2572184760.py:21: UserWarning: FixedFormatter should only be used together with FixedLocator\n",
      "  ax.set_xticklabels(labels)\n"
     ]
    },
    {
     "data": {
      "image/png": "[encoded data removed]",
      "text/plain": [
       "<Figure size 432x288 with 1 Axes>"
      ]
     },
     "metadata": {
      "needs_background": "light"
     },
     "output_type": "display_data"
    }
   ],
   "source": [
    "import numpy as np\n",
    "import matplotlib.pyplot as plt\n",
    "hist, bins = np.histogram(df1['count'], bins=[0, 10, 100, 1000, 10000, 100000, 1000000])\n",
    "fig, ax = plt.subplots()\n",
    "ax.bar(bins[1:], hist, width=np.diff(bins), log=True,ec=\"k\", align=\"edge\")\n",
    "ax.set_xscale(\"log\")\n",
    "ax.set_title('number of repos by issues count')\n",
    "ax.set_xlabel('number of issues')\n",
    "ax.set_ylabel('repo count')\n",
    "\n",
    "fig.canvas.draw()\n",
    "\n",
    "labels = [item.get_text() for item in ax.get_xticklabels()]\n",
    "labels[2] = '0<10'\n",
    "labels[3] = '10<100'\n",
    "labels[4] = '100<1K'\n",
    "labels[5] = '1K<10K'\n",
    "labels[6] = '10K<100K'\n",
    "labels[7] = '>100K'\n",
    "\n",
    "ax.set_xticklabels(labels)\n",
    "\n",
    "plt.show()"
   ]
  },
  {
   "cell_type": "code",
   "execution_count": 143,
   "id": "a3e8e1ba-c53b-4e55-8466-c1cf97dd77a9",
   "metadata": {},
   "outputs": [],
   "source": [
    "df1.to_parquet('/repo_workdir/issues_per_repos_all.parquet')"
   ]
  },
  {
   "cell_type": "code",
   "execution_count": 80,
   "id": "cc0714be-eeca-43c8-afe7-3f925e368c4f",
   "metadata": {},
   "outputs": [
    {
     "data": {
      "text/html": [
       "<div>\n",
       "<style scoped>\n",
       "    .dataframe tbody tr th:only-of-type {\n",
       "        vertical-align: middle;\n",
       "    }\n",
       "\n",
       "    .dataframe tbody tr th {\n",
       "        vertical-align: top;\n",
       "    }\n",
       "\n",
       "    .dataframe thead th {\n",
       "        text-align: right;\n",
       "    }\n",
       "</style>\n",
       "<table border=\"1\" class=\"dataframe\">\n",
       "  <thead>\n",
       "    <tr style=\"text-align: right;\">\n",
       "      <th></th>\n",
       "      <th>event_repo_name</th>\n",
       "      <th>issue_number</th>\n",
       "      <th>issue_created_at</th>\n",
       "    </tr>\n",
       "  </thead>\n",
       "  <tbody>\n",
       "    <tr>\n",
       "      <th>9622</th>\n",
       "      <td>eclipse-ee4j/glassfish-woodstock</td>\n",
       "      <td>615</td>\n",
       "      <td>1969-12-31 16:00:00+00:00</td>\n",
       "    </tr>\n",
       "    <tr>\n",
       "      <th>9487</th>\n",
       "      <td>Perl/perl5</td>\n",
       "      <td>94</td>\n",
       "      <td>1999-06-22 19:10:20+00:00</td>\n",
       "    </tr>\n",
       "    <tr>\n",
       "      <th>8651</th>\n",
       "      <td>Perl/perl5</td>\n",
       "      <td>335</td>\n",
       "      <td>1999-08-03 16:41:07+00:00</td>\n",
       "    </tr>\n",
       "    <tr>\n",
       "      <th>826</th>\n",
       "      <td>Perl/perl5</td>\n",
       "      <td>339</td>\n",
       "      <td>1999-08-04 18:59:23+00:00</td>\n",
       "    </tr>\n",
       "    <tr>\n",
       "      <th>1521</th>\n",
       "      <td>Perl/perl5</td>\n",
       "      <td>799</td>\n",
       "      <td>1999-10-29 11:38:24+00:00</td>\n",
       "    </tr>\n",
       "    <tr>\n",
       "      <th>...</th>\n",
       "      <td>...</td>\n",
       "      <td>...</td>\n",
       "      <td>...</td>\n",
       "    </tr>\n",
       "    <tr>\n",
       "      <th>12093</th>\n",
       "      <td>shaposhnikoff/arduino-wemos-esp8266</td>\n",
       "      <td>113</td>\n",
       "      <td>2031-03-11 17:00:40+00:00</td>\n",
       "    </tr>\n",
       "    <tr>\n",
       "      <th>1886</th>\n",
       "      <td>shaposhnikoff/arduino-wemos-esp8266</td>\n",
       "      <td>127</td>\n",
       "      <td>2031-03-11 17:00:40+00:00</td>\n",
       "    </tr>\n",
       "    <tr>\n",
       "      <th>4412</th>\n",
       "      <td>Zimmi48/test-issue-import-api</td>\n",
       "      <td>9</td>\n",
       "      <td>2100-03-01 12:00:00+00:00</td>\n",
       "    </tr>\n",
       "    <tr>\n",
       "      <th>2719</th>\n",
       "      <td>shaposhnikoff/arduino-wemos-esp8266</td>\n",
       "      <td>140</td>\n",
       "      <td>NaT</td>\n",
       "    </tr>\n",
       "    <tr>\n",
       "      <th>2724</th>\n",
       "      <td>shaposhnikoff/arduino-wemos-esp8266</td>\n",
       "      <td>142</td>\n",
       "      <td>NaT</td>\n",
       "    </tr>\n",
       "  </tbody>\n",
       "</table>\n",
       "<p>143230357 rows × 3 columns</p>\n",
       "</div>"
      ],
      "text/plain": [
       "                           event_repo_name  issue_number  \\\n",
       "9622      eclipse-ee4j/glassfish-woodstock           615   \n",
       "9487                            Perl/perl5            94   \n",
       "8651                            Perl/perl5           335   \n",
       "826                             Perl/perl5           339   \n",
       "1521                            Perl/perl5           799   \n",
       "...                                    ...           ...   \n",
       "12093  shaposhnikoff/arduino-wemos-esp8266           113   \n",
       "1886   shaposhnikoff/arduino-wemos-esp8266           127   \n",
       "4412         Zimmi48/test-issue-import-api             9   \n",
       "2719   shaposhnikoff/arduino-wemos-esp8266           140   \n",
       "2724   shaposhnikoff/arduino-wemos-esp8266           142   \n",
       "\n",
       "               issue_created_at  \n",
       "9622  1969-12-31 16:00:00+00:00  \n",
       "9487  1999-06-22 19:10:20+00:00  \n",
       "8651  1999-08-03 16:41:07+00:00  \n",
       "826   1999-08-04 18:59:23+00:00  \n",
       "1521  1999-10-29 11:38:24+00:00  \n",
       "...                         ...  \n",
       "12093 2031-03-11 17:00:40+00:00  \n",
       "1886  2031-03-11 17:00:40+00:00  \n",
       "4412  2100-03-01 12:00:00+00:00  \n",
       "2719                        NaT  \n",
       "2724                        NaT  \n",
       "\n",
       "[143230357 rows x 3 columns]"
      ]
     },
     "execution_count": 80,
     "metadata": {},
     "output_type": "execute_result"
    }
   ],
   "source": [
    "grouped = df.groupby('repo_name')"
   ]
  },
  {
   "cell_type": "markdown",
   "id": "efff1342-ea42-44d8-a353-a19bdaa5b519",
   "metadata": {},
   "source": [
    "## end count number of issues"
   ]
  },
  {
   "cell_type": "code",
   "execution_count": 68,
   "id": "ef7cde6b-e2a8-4f82-a2f0-fc37b664ef74",
   "metadata": {},
   "outputs": [],
   "source": [
    "df = pd.read_parquet(issue_files[3])"
   ]
  },
  {
   "cell_type": "code",
   "execution_count": 101,
   "id": "47be4e4a-a083-43ca-b6d2-8e3a3bdcfd59",
   "metadata": {},
   "outputs": [],
   "source": [
    "df = pd.read_parquet('/repo_workdir/gharchives_2015_issues/results/data-613.parquet')"
   ]
  },
  {
   "cell_type": "code",
   "execution_count": 61,
   "id": "117d6481-a7ce-46d8-99e4-88161a076a47",
   "metadata": {},
   "outputs": [
    {
     "data": {
      "text/plain": [
       "Index(['hexsha_issue_id', 'event_type', 'event_id', 'event_actor_name',\n",
       "       'event_actor_id', 'event_is_public', 'event_created_at',\n",
       "       'event_repo_id', 'event_repo_name', 'event_org_id', 'event_org_login',\n",
       "       'event_action', 'issue_id', 'issue_number', 'issue_title',\n",
       "       'issue_user_name', 'issue_user_id', 'issue_labels', 'issue_status',\n",
       "       'issue_is_locked', 'issue_comments', 'issue_created_at',\n",
       "       'issue_updated_at', 'issue_closed_at', 'issue_body',\n",
       "       'issue_assignee_name', 'issue_assignee_id', 'milestone_id',\n",
       "       'milestone_number', 'milestone_title', 'milestone_description',\n",
       "       'milestone_actor_name', 'milestone_actor_id', 'milestone_open_issues',\n",
       "       'milestone_closed_issues', 'milestone_state', 'milestone_created_at',\n",
       "       'milestone_updated_at', 'milestone_due_on', 'milestone_closed_at',\n",
       "       'milestone_creator_name', 'milestone_creator_id',\n",
       "       'pull_request_user_login', 'pull_request_repo', 'pull_request_number',\n",
       "       'comment_id', 'comment_actor_name', 'comment_actor_id',\n",
       "       'comment_created_at', 'comment_updated_at', 'comment_body',\n",
       "       'key_n_hash_digits'],\n",
       "      dtype='object')"
      ]
     },
     "execution_count": 61,
     "metadata": {},
     "output_type": "execute_result"
    }
   ],
   "source": [
    "df.columns"
   ]
  },
  {
   "cell_type": "code",
   "execution_count": 103,
   "id": "e1edcc46-d421-4857-9e9d-acf70d2f45b1",
   "metadata": {},
   "outputs": [],
   "source": [
    "df = df.drop_duplicates('event_id')\n",
    "df = df[['event_id', 'event_created_at', 'event_repo_name', 'issue_number', 'issue_created_at']]"
   ]
  },
  {
   "cell_type": "code",
   "execution_count": 104,
   "id": "a88d26c4-75e1-41b6-8283-effca3ca657c",
   "metadata": {},
   "outputs": [],
   "source": [
    "df['issue_created_at'] = pd.to_datetime(df['issue_created_at'], errors='coerce')\n",
    "df['event_created_at'] = pd.to_datetime(df['event_created_at'], errors='coerce')"
   ]
  },
  {
   "cell_type": "code",
   "execution_count": 105,
   "id": "d78684a1-a86a-4edf-b50b-9a00c2ae0113",
   "metadata": {},
   "outputs": [
    {
     "data": {
      "text/html": [
       "<div>\n",
       "<style scoped>\n",
       "    .dataframe tbody tr th:only-of-type {\n",
       "        vertical-align: middle;\n",
       "    }\n",
       "\n",
       "    .dataframe tbody tr th {\n",
       "        vertical-align: top;\n",
       "    }\n",
       "\n",
       "    .dataframe thead th {\n",
       "        text-align: right;\n",
       "    }\n",
       "</style>\n",
       "<table border=\"1\" class=\"dataframe\">\n",
       "  <thead>\n",
       "    <tr style=\"text-align: right;\">\n",
       "      <th></th>\n",
       "      <th>event_id</th>\n",
       "      <th>event_created_at</th>\n",
       "      <th>event_repo_name</th>\n",
       "      <th>issue_number</th>\n",
       "      <th>issue_created_at</th>\n",
       "    </tr>\n",
       "  </thead>\n",
       "  <tbody>\n",
       "    <tr>\n",
       "      <th>2274</th>\n",
       "      <td>2861384669</td>\n",
       "      <td>2015-06-03 20:25:49+00:00</td>\n",
       "      <td>whomwah/rqrcode</td>\n",
       "      <td>3</td>\n",
       "      <td>2010-11-18 17:18:50+00:00</td>\n",
       "    </tr>\n",
       "    <tr>\n",
       "      <th>2275</th>\n",
       "      <td>2861384674</td>\n",
       "      <td>2015-06-03 20:25:49+00:00</td>\n",
       "      <td>whomwah/rqrcode</td>\n",
       "      <td>3</td>\n",
       "      <td>2010-11-18 17:18:50+00:00</td>\n",
       "    </tr>\n",
       "    <tr>\n",
       "      <th>1284</th>\n",
       "      <td>3488601332</td>\n",
       "      <td>2016-01-03 03:46:47+00:00</td>\n",
       "      <td>fribeiro1/FileReaderService</td>\n",
       "      <td>4</td>\n",
       "      <td>2011-06-05 19:03:06+00:00</td>\n",
       "    </tr>\n",
       "    <tr>\n",
       "      <th>2627</th>\n",
       "      <td>4244059578</td>\n",
       "      <td>2016-07-07 02:50:25+00:00</td>\n",
       "      <td>jseutter/ofxparse</td>\n",
       "      <td>12</td>\n",
       "      <td>2011-06-24 18:54:12+00:00</td>\n",
       "    </tr>\n",
       "    <tr>\n",
       "      <th>1370</th>\n",
       "      <td>4812382871</td>\n",
       "      <td>2016-11-03 17:09:32+00:00</td>\n",
       "      <td>ipython/ipython</td>\n",
       "      <td>652</td>\n",
       "      <td>2011-08-01 11:27:59+00:00</td>\n",
       "    </tr>\n",
       "    <tr>\n",
       "      <th>...</th>\n",
       "      <td>...</td>\n",
       "      <td>...</td>\n",
       "      <td>...</td>\n",
       "      <td>...</td>\n",
       "      <td>...</td>\n",
       "    </tr>\n",
       "    <tr>\n",
       "      <th>10800</th>\n",
       "      <td>21053302140</td>\n",
       "      <td>2022-03-31 22:49:36+00:00</td>\n",
       "      <td>shanf-gh/github-slideshow</td>\n",
       "      <td>1</td>\n",
       "      <td>2022-03-31 22:49:34+00:00</td>\n",
       "    </tr>\n",
       "    <tr>\n",
       "      <th>265</th>\n",
       "      <td>21053460886</td>\n",
       "      <td>2022-03-31 23:01:34+00:00</td>\n",
       "      <td>shanf-gh/github-slideshow</td>\n",
       "      <td>1</td>\n",
       "      <td>2022-03-31 22:49:34+00:00</td>\n",
       "    </tr>\n",
       "    <tr>\n",
       "      <th>867</th>\n",
       "      <td>21053501541</td>\n",
       "      <td>2022-03-31 23:04:44+00:00</td>\n",
       "      <td>shanf-gh/github-slideshow</td>\n",
       "      <td>1</td>\n",
       "      <td>2022-03-31 22:49:34+00:00</td>\n",
       "    </tr>\n",
       "    <tr>\n",
       "      <th>958</th>\n",
       "      <td>21053508540</td>\n",
       "      <td>2022-03-31 23:05:19+00:00</td>\n",
       "      <td>shanf-gh/github-slideshow</td>\n",
       "      <td>1</td>\n",
       "      <td>2022-03-31 22:49:34+00:00</td>\n",
       "    </tr>\n",
       "    <tr>\n",
       "      <th>970</th>\n",
       "      <td>21053509138</td>\n",
       "      <td>2022-03-31 23:05:22+00:00</td>\n",
       "      <td>shanf-gh/github-slideshow</td>\n",
       "      <td>1</td>\n",
       "      <td>2022-03-31 22:49:34+00:00</td>\n",
       "    </tr>\n",
       "  </tbody>\n",
       "</table>\n",
       "<p>100528 rows × 5 columns</p>\n",
       "</div>"
      ],
      "text/plain": [
       "          event_id          event_created_at              event_repo_name  \\\n",
       "2274    2861384669 2015-06-03 20:25:49+00:00              whomwah/rqrcode   \n",
       "2275    2861384674 2015-06-03 20:25:49+00:00              whomwah/rqrcode   \n",
       "1284    3488601332 2016-01-03 03:46:47+00:00  fribeiro1/FileReaderService   \n",
       "2627    4244059578 2016-07-07 02:50:25+00:00            jseutter/ofxparse   \n",
       "1370    4812382871 2016-11-03 17:09:32+00:00              ipython/ipython   \n",
       "...            ...                       ...                          ...   \n",
       "10800  21053302140 2022-03-31 22:49:36+00:00    shanf-gh/github-slideshow   \n",
       "265    21053460886 2022-03-31 23:01:34+00:00    shanf-gh/github-slideshow   \n",
       "867    21053501541 2022-03-31 23:04:44+00:00    shanf-gh/github-slideshow   \n",
       "958    21053508540 2022-03-31 23:05:19+00:00    shanf-gh/github-slideshow   \n",
       "970    21053509138 2022-03-31 23:05:22+00:00    shanf-gh/github-slideshow   \n",
       "\n",
       "       issue_number          issue_created_at  \n",
       "2274              3 2010-11-18 17:18:50+00:00  \n",
       "2275              3 2010-11-18 17:18:50+00:00  \n",
       "1284              4 2011-06-05 19:03:06+00:00  \n",
       "2627             12 2011-06-24 18:54:12+00:00  \n",
       "1370            652 2011-08-01 11:27:59+00:00  \n",
       "...             ...                       ...  \n",
       "10800             1 2022-03-31 22:49:34+00:00  \n",
       "265               1 2022-03-31 22:49:34+00:00  \n",
       "867               1 2022-03-31 22:49:34+00:00  \n",
       "958               1 2022-03-31 22:49:34+00:00  \n",
       "970               1 2022-03-31 22:49:34+00:00  \n",
       "\n",
       "[100528 rows x 5 columns]"
      ]
     },
     "execution_count": 105,
     "metadata": {},
     "output_type": "execute_result"
    }
   ],
   "source": []
  },
  {
   "cell_type": "code",
   "execution_count": 106,
   "id": "0b8c5f66-31d2-4b3e-b558-d46d5ef2ce3e",
   "metadata": {},
   "outputs": [],
   "source": [
    "groups = df.groupby(['event_repo_name', 'issue_number'])"
   ]
  },
  {
   "cell_type": "code",
   "execution_count": 111,
   "id": "2c1f2139-458e-4a68-a24c-639a2515247d",
   "metadata": {},
   "outputs": [],
   "source": [
    "\n",
    "for i, gr in enumerate(groups):\n",
    "    if len(gr[1]) > 5:\n",
    "        break"
   ]
  },
  {
   "cell_type": "code",
   "execution_count": 115,
   "id": "3db536d1-9c67-494c-beef-8554d41fbf8a",
   "metadata": {},
   "outputs": [
    {
     "name": "stdout",
     "output_type": "stream",
     "text": [
      "2015-01-26 00:56:40+00:00\n",
      "2015-02-02 03:58:00+00:00\n"
     ]
    }
   ],
   "source": [
    "print(gr[1]['event_created_at'].min())\n",
    "print(gr[1]['event_created_at'].max())"
   ]
  },
  {
   "cell_type": "code",
   "execution_count": 119,
   "id": "2923ef00-7455-418b-b8e8-d465d0011ab3",
   "metadata": {},
   "outputs": [],
   "source": [
    "df1 = groups['issue_created_at'].first().to_frame()\n",
    "df1['issue_events_count'] = groups['event_created_at'].count()"
   ]
  },
  {
   "cell_type": "code",
   "execution_count": 120,
   "id": "7f56cf1c-8d95-47bf-9e5d-97282dc8187b",
   "metadata": {},
   "outputs": [],
   "source": [
    "df1['event_min_datetime'] =  groups['event_created_at'].min()\n",
    "df1['event_max_datetime'] =  groups['event_created_at'].max()"
   ]
  },
  {
   "cell_type": "code",
   "execution_count": 122,
   "id": "14ccb754-4304-4e0e-b3fc-54f7309443ba",
   "metadata": {},
   "outputs": [
    {
     "data": {
      "text/html": [
       "<div>\n",
       "<style scoped>\n",
       "    .dataframe tbody tr th:only-of-type {\n",
       "        vertical-align: middle;\n",
       "    }\n",
       "\n",
       "    .dataframe tbody tr th {\n",
       "        vertical-align: top;\n",
       "    }\n",
       "\n",
       "    .dataframe thead th {\n",
       "        text-align: right;\n",
       "    }\n",
       "</style>\n",
       "<table border=\"1\" class=\"dataframe\">\n",
       "  <thead>\n",
       "    <tr style=\"text-align: right;\">\n",
       "      <th></th>\n",
       "      <th></th>\n",
       "      <th>issue_created_at</th>\n",
       "      <th>issue_events_count</th>\n",
       "      <th>event_min_datetime</th>\n",
       "      <th>event_max_datetime</th>\n",
       "    </tr>\n",
       "    <tr>\n",
       "      <th>event_repo_name</th>\n",
       "      <th>issue_number</th>\n",
       "      <th></th>\n",
       "      <th></th>\n",
       "      <th></th>\n",
       "      <th></th>\n",
       "    </tr>\n",
       "  </thead>\n",
       "  <tbody>\n",
       "    <tr>\n",
       "      <th>01org/TPM2.0-TSS</th>\n",
       "      <th>237</th>\n",
       "      <td>2016-07-13 02:44:15+00:00</td>\n",
       "      <td>3</td>\n",
       "      <td>2016-07-13 02:44:15+00:00</td>\n",
       "      <td>2017-02-21 21:31:53+00:00</td>\n",
       "    </tr>\n",
       "    <tr>\n",
       "      <th rowspan=\"2\" valign=\"top\">01org/tpm2.0-tools</th>\n",
       "      <th>146</th>\n",
       "      <td>2017-01-12 00:01:24+00:00</td>\n",
       "      <td>3</td>\n",
       "      <td>2017-01-12 00:01:24+00:00</td>\n",
       "      <td>2017-01-23 02:06:04+00:00</td>\n",
       "    </tr>\n",
       "    <tr>\n",
       "      <th>150</th>\n",
       "      <td>2017-01-12 00:07:22+00:00</td>\n",
       "      <td>3</td>\n",
       "      <td>2017-01-12 00:07:22+00:00</td>\n",
       "      <td>2017-02-02 16:55:03+00:00</td>\n",
       "    </tr>\n",
       "    <tr>\n",
       "      <th>03-cs-wockys-waywards/capstone</th>\n",
       "      <th>74</th>\n",
       "      <td>2021-07-13 03:56:11+00:00</td>\n",
       "      <td>4</td>\n",
       "      <td>2021-07-13 03:56:11+00:00</td>\n",
       "      <td>2021-07-15 15:46:45+00:00</td>\n",
       "    </tr>\n",
       "    <tr>\n",
       "      <th>06000208/sandplate</th>\n",
       "      <th>3</th>\n",
       "      <td>2020-06-16 10:38:23+00:00</td>\n",
       "      <td>3</td>\n",
       "      <td>2020-06-16 10:38:24+00:00</td>\n",
       "      <td>2020-06-16 18:15:47+00:00</td>\n",
       "    </tr>\n",
       "    <tr>\n",
       "      <th>...</th>\n",
       "      <th>...</th>\n",
       "      <td>...</td>\n",
       "      <td>...</td>\n",
       "      <td>...</td>\n",
       "      <td>...</td>\n",
       "    </tr>\n",
       "    <tr>\n",
       "      <th>zxombie/libtrue</th>\n",
       "      <th>43</th>\n",
       "      <td>2017-06-10 03:32:04+00:00</td>\n",
       "      <td>3</td>\n",
       "      <td>2017-06-10 03:32:04+00:00</td>\n",
       "      <td>2017-06-10 03:36:34+00:00</td>\n",
       "    </tr>\n",
       "    <tr>\n",
       "      <th>zxtion/danger-chasers</th>\n",
       "      <th>5</th>\n",
       "      <td>2021-07-25 03:57:46+00:00</td>\n",
       "      <td>2</td>\n",
       "      <td>2021-07-25 03:57:46+00:00</td>\n",
       "      <td>2021-07-25 06:47:42+00:00</td>\n",
       "    </tr>\n",
       "    <tr>\n",
       "      <th>zyumingfit/TRC20-Contract-Template</th>\n",
       "      <th>8</th>\n",
       "      <td>2020-09-16 05:40:49+00:00</td>\n",
       "      <td>2</td>\n",
       "      <td>2020-09-16 05:40:49+00:00</td>\n",
       "      <td>2021-09-04 19:11:09+00:00</td>\n",
       "    </tr>\n",
       "    <tr>\n",
       "      <th>zzak/sdoc</th>\n",
       "      <th>80</th>\n",
       "      <td>2014-11-05 17:07:37+00:00</td>\n",
       "      <td>3</td>\n",
       "      <td>2016-03-14 09:56:25+00:00</td>\n",
       "      <td>2016-07-14 05:59:41+00:00</td>\n",
       "    </tr>\n",
       "    <tr>\n",
       "      <th>zzhichen/codeql-uboot</th>\n",
       "      <th>5</th>\n",
       "      <td>2021-11-20 06:14:29+00:00</td>\n",
       "      <td>5</td>\n",
       "      <td>2021-11-20 06:14:29+00:00</td>\n",
       "      <td>2021-11-20 10:53:32+00:00</td>\n",
       "    </tr>\n",
       "  </tbody>\n",
       "</table>\n",
       "<p>18699 rows × 4 columns</p>\n",
       "</div>"
      ],
      "text/plain": [
       "                                                         issue_created_at  \\\n",
       "event_repo_name                    issue_number                             \n",
       "01org/TPM2.0-TSS                   237          2016-07-13 02:44:15+00:00   \n",
       "01org/tpm2.0-tools                 146          2017-01-12 00:01:24+00:00   \n",
       "                                   150          2017-01-12 00:07:22+00:00   \n",
       "03-cs-wockys-waywards/capstone     74           2021-07-13 03:56:11+00:00   \n",
       "06000208/sandplate                 3            2020-06-16 10:38:23+00:00   \n",
       "...                                                                   ...   \n",
       "zxombie/libtrue                    43           2017-06-10 03:32:04+00:00   \n",
       "zxtion/danger-chasers              5            2021-07-25 03:57:46+00:00   \n",
       "zyumingfit/TRC20-Contract-Template 8            2020-09-16 05:40:49+00:00   \n",
       "zzak/sdoc                          80           2014-11-05 17:07:37+00:00   \n",
       "zzhichen/codeql-uboot              5            2021-11-20 06:14:29+00:00   \n",
       "\n",
       "                                                 issue_events_count  \\\n",
       "event_repo_name                    issue_number                       \n",
       "01org/TPM2.0-TSS                   237                            3   \n",
       "01org/tpm2.0-tools                 146                            3   \n",
       "                                   150                            3   \n",
       "03-cs-wockys-waywards/capstone     74                             4   \n",
       "06000208/sandplate                 3                              3   \n",
       "...                                                             ...   \n",
       "zxombie/libtrue                    43                             3   \n",
       "zxtion/danger-chasers              5                              2   \n",
       "zyumingfit/TRC20-Contract-Template 8                              2   \n",
       "zzak/sdoc                          80                             3   \n",
       "zzhichen/codeql-uboot              5                              5   \n",
       "\n",
       "                                                       event_min_datetime  \\\n",
       "event_repo_name                    issue_number                             \n",
       "01org/TPM2.0-TSS                   237          2016-07-13 02:44:15+00:00   \n",
       "01org/tpm2.0-tools                 146          2017-01-12 00:01:24+00:00   \n",
       "                                   150          2017-01-12 00:07:22+00:00   \n",
       "03-cs-wockys-waywards/capstone     74           2021-07-13 03:56:11+00:00   \n",
       "06000208/sandplate                 3            2020-06-16 10:38:24+00:00   \n",
       "...                                                                   ...   \n",
       "zxombie/libtrue                    43           2017-06-10 03:32:04+00:00   \n",
       "zxtion/danger-chasers              5            2021-07-25 03:57:46+00:00   \n",
       "zyumingfit/TRC20-Contract-Template 8            2020-09-16 05:40:49+00:00   \n",
       "zzak/sdoc                          80           2016-03-14 09:56:25+00:00   \n",
       "zzhichen/codeql-uboot              5            2021-11-20 06:14:29+00:00   \n",
       "\n",
       "                                                       event_max_datetime  \n",
       "event_repo_name                    issue_number                            \n",
       "01org/TPM2.0-TSS                   237          2017-02-21 21:31:53+00:00  \n",
       "01org/tpm2.0-tools                 146          2017-01-23 02:06:04+00:00  \n",
       "                                   150          2017-02-02 16:55:03+00:00  \n",
       "03-cs-wockys-waywards/capstone     74           2021-07-15 15:46:45+00:00  \n",
       "06000208/sandplate                 3            2020-06-16 18:15:47+00:00  \n",
       "...                                                                   ...  \n",
       "zxombie/libtrue                    43           2017-06-10 03:36:34+00:00  \n",
       "zxtion/danger-chasers              5            2021-07-25 06:47:42+00:00  \n",
       "zyumingfit/TRC20-Contract-Template 8            2021-09-04 19:11:09+00:00  \n",
       "zzak/sdoc                          80           2016-07-14 05:59:41+00:00  \n",
       "zzhichen/codeql-uboot              5            2021-11-20 10:53:32+00:00  \n",
       "\n",
       "[18699 rows x 4 columns]"
      ]
     },
     "execution_count": 122,
     "metadata": {},
     "output_type": "execute_result"
    }
   ],
   "source": [
    "df1[df1['issue_events_count'] > 1]"
   ]
  },
  {
   "cell_type": "markdown",
   "id": "c80ee903-9fa2-4d90-9ef1-380fb32c2d93",
   "metadata": {},
   "source": [
    "## Combine issues to a flow"
   ]
  },
  {
   "cell_type": "code",
   "execution_count": 33,
   "id": "d30df605-e7ba-4ca4-b12c-22329eaf3e05",
   "metadata": {},
   "outputs": [],
   "source": [
    "df['event_created_at'] = pd.to_datetime(df['event_created_at'])\n",
    "df = df.sort_values('event_created_at')"
   ]
  },
  {
   "cell_type": "code",
   "execution_count": 7,
   "id": "c766702b-0d24-42c0-b6b9-313ae5a85855",
   "metadata": {},
   "outputs": [],
   "source": [
    "df = df.groupby('issue_id').filter(lambda x: len(x) > 20)\n",
    "#df = df.groupby('comment_id').filter(lambda x: len(x) > 2)"
   ]
  },
  {
   "cell_type": "code",
   "execution_count": null,
   "id": "a745e871-cd9b-4488-828d-d0684389d6cd",
   "metadata": {},
   "outputs": [
    {
     "data": {
      "application/vnd.jupyter.widget-view+json": {
       "model_id": "949da26487cd4cbe87583d60f839c41f",
       "version_major": 2,
       "version_minor": 0
      },
      "text/plain": [
       "  0%|          | 0/2866 [00:00<?, ?it/s]"
      ]
     },
     "metadata": {},
     "output_type": "display_data"
    }
   ],
   "source": [
    "for file in tqdm(issue_files[1230:]):\n",
    "    df = pd.read_parquet(file)\n",
    "    df['event_created_at'] = pd.to_datetime(df['event_created_at'])\n",
    "    #df = df.sort_values('event_created_at')\n",
    "    df = df[df['event_action'] == 'edited']\n",
    "    if len(df) > 0:\n",
    "        break"
   ]
  },
  {
   "cell_type": "code",
   "execution_count": 45,
   "id": "27f25127-54ac-47c0-bd3f-63c0582446da",
   "metadata": {},
   "outputs": [
    {
     "data": {
      "text/plain": [
       "Index(['hexsha_issue_id', 'event_type', 'event_id', 'event_actor_name',\n",
       "       'event_actor_id', 'event_is_public', 'event_created_at',\n",
       "       'event_repo_id', 'event_repo_name', 'event_org_id', 'event_org_login',\n",
       "       'event_action', 'issue_id', 'issue_number', 'issue_title',\n",
       "       'issue_user_name', 'issue_user_id', 'issue_labels', 'issue_status',\n",
       "       'issue_is_locked', 'issue_comments', 'issue_created_at',\n",
       "       'issue_updated_at', 'issue_closed_at', 'issue_body',\n",
       "       'issue_assignee_name', 'issue_assignee_id', 'milestone_id',\n",
       "       'milestone_number', 'milestone_title', 'milestone_description',\n",
       "       'milestone_actor_name', 'milestone_actor_id', 'milestone_open_issues',\n",
       "       'milestone_closed_issues', 'milestone_state', 'milestone_created_at',\n",
       "       'milestone_updated_at', 'milestone_due_on', 'milestone_closed_at',\n",
       "       'milestone_creator_name', 'milestone_creator_id',\n",
       "       'pull_request_user_login', 'pull_request_repo', 'pull_request_number',\n",
       "       'comment_id', 'comment_actor_name', 'comment_actor_id',\n",
       "       'comment_created_at', 'comment_updated_at', 'comment_body',\n",
       "       'key_n_hash_digits'],\n",
       "      dtype='object')"
      ]
     },
     "execution_count": 45,
     "metadata": {},
     "output_type": "execute_result"
    }
   ],
   "source": [
    "# drop duplicates by event id"
   ]
  },
  {
   "cell_type": "code",
   "execution_count": 8,
   "id": "ddc3e5ce-6fe5-4de2-b350-ca80e4d02f26",
   "metadata": {},
   "outputs": [],
   "source": [
    "iii = 0\n",
    "for gr in df.groupby('issue_id'):\n",
    "    if iii >= 0:\n",
    "        break\n",
    "    iii += 1"
   ]
  },
  {
   "cell_type": "code",
   "execution_count": 38,
   "id": "305d1335-752a-40b2-b6b0-d493496db809",
   "metadata": {},
   "outputs": [],
   "source": [
    "def parse_comment(r):\n",
    "    # actions: created, edited or deleted\n",
    "    comment = {\n",
    "        'type': 'comment',\n",
    "        'action': r['event_action'],\n",
    "        'datetime': str(r['event_created_at']),\n",
    "        'author': r['event_actor_name'],\n",
    "        'comment_id': int(r['comment_id']),\n",
    "    }\n",
    "    if r['event_action'] != 'deleted':\n",
    "        comment['comment'] = r['comment_body']\n",
    "    return comment\n",
    "\n",
    "def parse_issue(r, force_open=False):\n",
    "\n",
    "    if force_open:\n",
    "        # if issue was from before 2015 or because of gharchive outage\n",
    "        # it will not have open event, so we emulate it\n",
    "        issue =  {\n",
    "            'type': 'issue',\n",
    "            'action': 'opened',\n",
    "            'datetime': str(r['issue_created_at']),\n",
    "            'author': r['issue_user_name'],\n",
    "            'title': r['issue_title'],\n",
    "            'description': r['issue_body']\n",
    "        }\n",
    "    else:\n",
    "        issue = {\n",
    "            'type': 'issue',\n",
    "            'action': r['event_action'],\n",
    "            'datetime': str(r['event_created_at']),\n",
    "            'author': r['event_actor_name'],\n",
    "        }\n",
    "        if r['event_action'] == 'opened' or r['event_action'] == 'edited' or r['event_action'] == 'reopened':\n",
    "            # all those events can result in different title or description\n",
    "            issue.update({\n",
    "                'title': r['issue_title'],\n",
    "                'description': r['issue_body']\n",
    "            })\n",
    "\n",
    "        if r['event_action'] == 'closed':\n",
    "            # no additional info\n",
    "            pass\n",
    "\n",
    "        if r['event_action'] == 'assigned' or r['event_action'] == 'unassigned':\n",
    "            issue.update({\n",
    "                'assignee': r['issue_assignee_name'],\n",
    "            })\n",
    "\n",
    "        if r['event_action'] == 'labeled' or r['event_action'] == 'unlabeled':\n",
    "            issue.update({\n",
    "                'labels': list(r['issue_labels']) if isinstance(r['issue_labels'], np.ndarray) else r['issue_labels'],\n",
    "            })\n",
    "\n",
    "    return issue\n",
    "\n",
    "def parse_issue_history(gr):\n",
    "    gr = gr[1]\n",
    "    res_dict = {}\n",
    "    indx = 0\n",
    "    r = gr.iloc[0]\n",
    "    res_dict['repo'] = r['event_repo_name']\n",
    "    res_dict['org'] = r['event_org_login']\n",
    "    res_dict['issue_id'] = int(r['issue_id'])\n",
    "    res_dict['issue_number'] = int(r['issue_number'])\n",
    "\n",
    "    # From docs: all PR are issues but not all issues are PR, for PR review comments use PR api (which is not done yet)\n",
    "    # supposedly if we have PR not None it is a general discussion of some PR, so we just mark issue's PR for now\n",
    "    if r['pull_request_user_login'] is not None:\n",
    "        res_dict['pull_request'] = {\n",
    "            'user_login': r['pull_request_user_login'],\n",
    "            'repo': r['pull_request_repo'],\n",
    "            'number': int(r['pull_request_number'])\n",
    "        }\n",
    "    else:\n",
    "        res_dict['pull_request'] = None\n",
    "\n",
    "    res_dict['events'] = []\n",
    "\n",
    "    for i, r in gr.iterrows():\n",
    "        if indx == 0:\n",
    "            if r['event_type'] != 'IssuesEvent' or r['event_action'] != 'opened':\n",
    "                res_dict['events'].append(parse_issue(r, force_open=True))\n",
    "\n",
    "        # TODO: edited events will need to be later aggregated with their open or reopen events\n",
    "        #       however, for some reason no single edited event in the set, check original parser\n",
    "        if r['event_type'] == 'IssueCommentEvent':\n",
    "            res_dict['events'].append(parse_comment(r))\n",
    "        elif r['event_type'] == 'IssuesEvent':\n",
    "            res_dict['events'].append(parse_issue(r))\n",
    "        else:\n",
    "            raise RuntimeError(f\"unexpeceted event type: {r['event_type']}\")\n",
    "        indx += 1\n",
    "\n",
    "    return res_dict\n",
    "\n",
    "def process_bucket(file, good_repos):\n",
    "    df = pd.read_parquet(file)\n",
    "    df = df[df['event_repo_name'].isin(good_repos)]\n",
    "    df['event_created_at'] = pd.to_datetime(df['event_created_at'])\n",
    "    df = df.sort_values('event_created_at')\n",
    "    res = []\n",
    "    for gr in df.groupby('issue_id'):\n",
    "        res.append(parse_issue_history(gr))\n",
    "    return res\n",
    "\n",
    "def print_issue_history(data, truncate=False):\n",
    "    res = ''\n",
    "    res += f\"REPO: {data['repo']}\\n\"\n",
    "    if data['org'] is not None:\n",
    "        res += f\"ORG: {data['org']}\\n\"\n",
    "    res += f\"ISSUE NUNBER: {int(data['issue_number'])}\\n\"\n",
    "    \n",
    "    if data['pull_request'] is not None:\n",
    "        res += f\"PULL REQUEST [USER: {data['pull_request']['user_login']} REPO: {data['pull_request']['repo']} NUMBER: {data['pull_request']['number']}]\\n\"\n",
    "    res += '\\n\\n'\n",
    "    \n",
    "    for event in data['events']:\n",
    "        if event['type'] == 'comment':\n",
    "            res += f\"COMMENT {int(event['comment_id'])} {event['action'].upper()} [{event['datetime']}] BY {event['author']}\\n\"\n",
    "            if event['action'] != 'deleted':\n",
    "                if truncate:\n",
    "                    res += event['comment'][:100] + '...\\n'\n",
    "                else:\n",
    "                    res += event['comment'] + '\\n'\n",
    "            res +=  '\\n'\n",
    "        elif event['type'] == 'issue':\n",
    "            res += f\"ISSUE {event['action'].upper()} [{event['datetime']}] BY {event['author']}\\n\"\n",
    "            if event['action'] == 'edited' or event['action'] == 'opened' or event['action'] == 'reopened':\n",
    "                res += f\"TITLE: {event['title']}\\n\"\n",
    "                if truncate:\n",
    "                    res += f\"DESCRIPTION: {event['description'][:100]}...\\n\"\n",
    "                else:\n",
    "                    res += f\"DESCRIPTION: {event['description']}\\n\"\n",
    "            elif event['action'] == 'assigned' or event['action'] == 'unassigned':\n",
    "                res += f\"{event['assignee']}\\n\"\n",
    "            elif event['action'] == 'labeled' or event['action'] == 'unlabeled':\n",
    "                res += f\"{event['labels']}\\n\"\n",
    "            else:\n",
    "                pass\n",
    "            res += '\\n'\n",
    "        else:\n",
    "            pass\n",
    "\n",
    "    return res\n",
    "\n",
    "\n",
    "\n",
    "    \n"
   ]
  },
  {
   "cell_type": "code",
   "execution_count": 45,
   "id": "468d2dd6-4c71-47b9-8496-a864439ac6f8",
   "metadata": {},
   "outputs": [],
   "source": [
    "def process(file, good_repos, dst_path):\n",
    "    try:\n",
    "        data = process_bucket(file, good_repos)\n",
    "        dst_file = dst_path / (file.stem+'.jsonl')\n",
    "        with dst_file.open('wt') as f:\n",
    "            for el in data:\n",
    "                f.write(json.dumps(el)+'\\n')\n",
    "    except Exception as e:\n",
    "        print(e)\n",
    "        return 0, file\n",
    "    return len(data), None"
   ]
  },
  {
   "cell_type": "code",
   "execution_count": 46,
   "id": "ecd4ae11-c4bc-487f-9dc5-f8dc1b381e42",
   "metadata": {},
   "outputs": [],
   "source": [
    "@ray.remote(num_cpus=2)\n",
    "def process_ray(file, good_repos, dst_path):\n",
    "    return process(file, good_repos, dst_path)"
   ]
  },
  {
   "cell_type": "code",
   "execution_count": 47,
   "id": "c5f78796-67eb-4e81-a98c-1f8cdd805bca",
   "metadata": {},
   "outputs": [],
   "source": [
    "res = []\n",
    "for file in [\n",
    "    Path('/repo_workdir/gharchives_2015_issues/results/data-613.parquet'),\n",
    "    Path('/repo_workdir/gharchives_2015_issues/results/data-3488.parquet'),\n",
    "    Path('/repo_workdir/gharchives_2015_issues/results/data-3381.parquet'),\n",
    "    Path('/repo_workdir/gharchives_2015_issues/results/data-3236.parquet'),\n",
    "]:\n",
    "    res.append(process_ray.remote(file, permissive_repos_py_ref, dst_path))\n",
    "res = ray.get(res)"
   ]
  },
  {
   "cell_type": "code",
   "execution_count": 48,
   "id": "6ba8e360-59fc-41dc-a25e-ac549dcd5ae8",
   "metadata": {},
   "outputs": [],
   "source": [
    "for el in res:\n",
    "    if el[1] is not None:\n",
    "        print(el[1])"
   ]
  },
  {
   "cell_type": "code",
   "execution_count": 19,
   "id": "60856ab5-092e-4a1c-aa76-c117d053e71c",
   "metadata": {},
   "outputs": [
    {
     "data": {
      "text/plain": [
       "(4299, None)"
      ]
     },
     "execution_count": 19,
     "metadata": {},
     "output_type": "execute_result"
    }
   ],
   "source": [
    "process(issue_files[0], permissive_repos_py, dst_path)"
   ]
  },
  {
   "cell_type": "code",
   "execution_count": 52,
   "id": "45da0408-c0ab-4fb2-bb84-1ddba5e352dc",
   "metadata": {
    "tags": []
   },
   "outputs": [],
   "source": [
    "data = process_bucket('/repo_workdir/gharchives_2015_issues/results/data-613.parquet', permissive_repos_py)"
   ]
  },
  {
   "cell_type": "code",
   "execution_count": 53,
   "id": "acc777a4-8fb2-4457-a508-9bf2c3bf5db0",
   "metadata": {},
   "outputs": [
    {
     "data": {
      "text/plain": [
       "4317"
      ]
     },
     "execution_count": 53,
     "metadata": {},
     "output_type": "execute_result"
    }
   ],
   "source": [
    "len(data)"
   ]
  },
  {
   "cell_type": "code",
   "execution_count": 56,
   "id": "2948ac8e-b136-4a4f-a810-9d75cb196e7b",
   "metadata": {},
   "outputs": [
    {
     "name": "stdout",
     "output_type": "stream",
     "text": [
      "REPO: nodemcu/nodemcu-firmware\n",
      "ISSUE NUNBER: 784\n",
      "\n",
      "\n",
      "ISSUE OPENED [2015-11-21 13:54:49+00:00] BY confile\n",
      "TITLE: Waiting answer from ESP - Timeout reached. Command aborted. on Dev Branch\n",
      "DESCRIPTION: I use the latest Dev Branch commit: b216e6a809edd035d70536a691c4a07ac4b256a9\n",
      "\n",
      "I build all modules ...\n",
      "\n",
      "COMMENT 158649153 CREATED [2015-11-21 14:42:01+00:00] BY devsaurus\n",
      "I can confirm such issues with ESPlorer at the moment. I'll investigate what's been broken....\n",
      "\n",
      "COMMENT 158659518 CREATED [2015-11-21 16:17:00+00:00] BY steffimueller\n",
      "+1 I have the same problem. Not working on dev branch...\n",
      "\n",
      "COMMENT 158678773 CREATED [2015-11-21 20:22:20+00:00] BY devsaurus\n",
      "Ok, checked the sources. ESPlorer seems to use CR&LF for most obvious things per default, but falls ...\n",
      "\n",
      "COMMENT 158758409 CREATED [2015-11-22 12:59:24+00:00] BY devsaurus\n",
      "@confile @steffimueller if possible, please check whether #786 improves things for your ESPlorer set...\n",
      "\n",
      "COMMENT 158759195 CREATED [2015-11-22 13:22:15+00:00] BY eyaleb\n",
      "Tested #786 and now both `screen` and `luatool.py` work....\n",
      "\n",
      "COMMENT 158876625 CREATED [2015-11-23 08:34:34+00:00] BY confile\n",
      "I tested but I got the same problem. \n",
      "\n",
      "```\n",
      "Waiting answer from ESP - Timeout reached. Command abo...\n",
      "\n",
      "COMMENT 158879596 CREATED [2015-11-23 08:57:05+00:00] BY steffimueller\n",
      "Same problem here. The problem is not fixed....\n",
      "\n",
      "COMMENT 158886591 CREATED [2015-11-23 09:30:51+00:00] BY eyaleb\n",
      "Repeated a `git pull` of dev, build fw, flash it (OK) upload programs with `luatool.py` (OK) attache...\n",
      "\n",
      "COMMENT 158888575 CREATED [2015-11-23 09:40:41+00:00] BY confile\n",
      "I built the dev branch float version with this tool: http://nodemcu-build.com/\n",
      "\n",
      "Then I use the nod...\n",
      "\n",
      "COMMENT 159079939 CREATED [2015-11-23 22:03:01+00:00] BY devsaurus\n",
      "> Upload .lua files with ESPlorer not working.\n",
      "\n",
      "I'm not able to generate any issues with current `...\n",
      "\n",
      "COMMENT 159181407 CREATED [2015-11-24 07:21:48+00:00] BY confile\n",
      "@devsaurus Did you get the dev firmware generated from here: http://nodemcu-build.com/\n",
      "\n",
      "Have you t...\n",
      "\n",
      "COMMENT 159181530 CREATED [2015-11-24 07:22:15+00:00] BY confile\n",
      "I use ESPlorer 0.2.0-rc2 on MAC....\n",
      "\n",
      "COMMENT 159427690 CREATED [2015-11-24 22:33:52+00:00] BY devsaurus\n",
      "> Did you get the dev firmware generated from here: http://nodemcu-build.com/\n",
      "> Have you tried that...\n",
      "\n",
      "COMMENT 159431010 CREATED [2015-11-24 22:50:23+00:00] BY TerryE\n",
      "@confile if you start esplorer from a terminal window then you get a load of diagnostics that might ...\n",
      "\n",
      "COMMENT 159546827 CREATED [2015-11-25 09:27:34+00:00] BY confile\n",
      "@devsaurus I tried you [image float version](http://nodemcu-build.com/builds/nodemcu-dev-7-modules-2...\n",
      "\n",
      "COMMENT 159598169 CREATED [2015-11-25 12:47:11+00:00] BY devsaurus\n",
      "@confile thanks a lot for your feedback! Very valuable for me since this confirmed that the issue is...\n",
      "\n",
      "COMMENT 159619721 CREATED [2015-11-25 14:18:27+00:00] BY confile\n",
      "@devsaurus Still if you check my init.lua you see that even with your 7 module dev firmware you get ...\n",
      "\n",
      "COMMENT 159619773 CREATED [2015-11-25 14:18:41+00:00] BY confile\n",
      "Where can I set \"Delay after answer\"?...\n",
      "\n",
      "COMMENT 159635619 CREATED [2015-11-25 15:09:03+00:00] BY TerryE\n",
      "Try the settings tab.  Bottom left corner,...\n",
      "\n",
      "COMMENT 159735879 CREATED [2015-11-25 21:32:24+00:00] BY devsaurus\n",
      "> Second example. I tried a firmware from the dev branch using all 31 modules.\n",
      "\n",
      "Download doesn't w...\n",
      "\n",
      "COMMENT 161083929 CREATED [2015-12-01 20:19:45+00:00] BY devsaurus\n",
      "@confile @steffimueller do you see any improvement with [Snapshot of 0.2.0-rc2 with interlock for se...\n",
      "\n",
      "COMMENT 161257085 CREATED [2015-12-02 10:52:21+00:00] BY confile\n",
      "@devsaurus I tested you ESPlorer Snapshot but it does not change anything. The issue still does exis...\n",
      "\n",
      "COMMENT 161257238 CREATED [2015-12-02 10:53:15+00:00] BY steffimueller\n",
      "@devsaurus @confile same for me. Does not fix issue....\n",
      "\n",
      "COMMENT 161415900 CREATED [2015-12-02 20:01:00+00:00] BY devsaurus\n",
      "@confile too bad, it fixed the issue with \"Send to ESP\" for me. I got an ESP-12E in the meantime and...\n",
      "\n",
      "COMMENT 161580880 CREATED [2015-12-03 10:11:10+00:00] BY shimosaurus\n",
      "I commented line `NODE_DBG(\"Task task_lua started.\\n\");` in *user_main.c*. That was many prints in t...\n",
      "\n",
      "COMMENT 162353851 CREATED [2015-12-06 22:18:40+00:00] BY devsaurus\n",
      "Thanks for the reminder @shimosaurus! These `Task task_lua started.` messages definitely break the c...\n",
      "\n",
      "COMMENT 162362203 CREATED [2015-12-06 23:05:01+00:00] BY nickandrew\n",
      "@devsaurus I deleted the task_lua message and disabled the net debug messages, and I have no problem...\n",
      "\n",
      "COMMENT 163420971 CREATED [2015-12-09 22:30:04+00:00] BY devsaurus\n",
      "I got the impression that this issue hit a dead end now, so I'm going to close it with the following...\n",
      "\n",
      "ISSUE CLOSED [2015-12-09 22:30:04+00:00] BY devsaurus\n",
      "\n",
      "COMMENT 208346006 CREATED [2016-04-11 13:34:53+00:00] BY npashine\n",
      "Kindly help to resolve the attached error.\n",
      "![esperror](https://cloud.githubusercontent.com/assets/1...\n",
      "\n",
      "COMMENT 208636256 CREATED [2016-04-12 00:20:49+00:00] BY pjsg\n",
      "I suspect that this is because you are running the dev branch and have not set the speed to 115200....\n",
      "\n",
      "COMMENT 208725468 CREATED [2016-04-12 06:16:46+00:00] BY npashine\n",
      "so what all the things i should do to make it correct.\n",
      "And for your information it was running fine...\n",
      "\n",
      "COMMENT 208786197 CREATED [2016-04-12 08:38:26+00:00] BY TerryE\n",
      "@npashine, as Philip says, the dev branch runs at 115200 baud not 9600. I use explorer with no probl...\n",
      "\n",
      "COMMENT 226700196 CREATED [2016-06-17 07:29:46+00:00] BY Pointhairedboss\n",
      "How can I get an older version without having to build it myself?\n",
      "On the download site, there isnt ...\n",
      "\n",
      "COMMENT 226744536 CREATED [2016-06-17 11:19:05+00:00] BY marcelstoer\n",
      "> How can I get an older version without having to build it myself?\n",
      "\n",
      "You can't, see https://github...\n",
      "\n",
      "COMMENT 254761413 CREATED [2016-10-19 09:27:16+00:00] BY arakus\n",
      "If you have problem with communication ( Waiting answer from ESP - Timeout reached.  ), first check ...\n",
      "\n",
      "COMMENT 613120211 CREATED [2020-04-13 22:04:36+00:00] BY adamtal3\n",
      "Simply clicking on \"FS Info\" after getting the timeout error worked for me....\n",
      "\n",
      "\n"
     ]
    }
   ],
   "source": [
    "print(print_issue_history(data[199], truncate=True))"
   ]
  },
  {
   "cell_type": "code",
   "execution_count": 43,
   "id": "09db010c-33a9-4375-ad64-41cb58259a48",
   "metadata": {
    "tags": []
   },
   "outputs": [],
   "source": [
    "for el in data:\n",
    "    json.dumps(el)"
   ]
  },
  {
   "cell_type": "code",
   "execution_count": 51,
   "id": "40a1c166-b39c-4290-95a5-75e72735a30c",
   "metadata": {},
   "outputs": [
    {
     "data": {
      "text/plain": [
       "(4419, None)"
      ]
     },
     "execution_count": 51,
     "metadata": {},
     "output_type": "execute_result"
    }
   ],
   "source": [
    "el"
   ]
  },
  {
   "cell_type": "code",
   "execution_count": 87,
   "id": "dd201635-6d37-475a-ae53-449b45ede581",
   "metadata": {
    "tags": []
   },
   "outputs": [],
   "source": [
    "for el in data:\n",
    "    print_issue_history(el)"
   ]
  },
  {
   "cell_type": "code",
   "execution_count": 28,
   "id": "b960d4d9-837f-461a-a066-ad3fb0aec3ad",
   "metadata": {
    "tags": []
   },
   "outputs": [
    {
     "data": {
      "text/html": [
       "<div>\n",
       "<style scoped>\n",
       "    .dataframe tbody tr th:only-of-type {\n",
       "        vertical-align: middle;\n",
       "    }\n",
       "\n",
       "    .dataframe tbody tr th {\n",
       "        vertical-align: top;\n",
       "    }\n",
       "\n",
       "    .dataframe thead th {\n",
       "        text-align: right;\n",
       "    }\n",
       "</style>\n",
       "<table border=\"1\" class=\"dataframe\">\n",
       "  <thead>\n",
       "    <tr style=\"text-align: right;\">\n",
       "      <th></th>\n",
       "      <th>event_type</th>\n",
       "      <th>event_created_at</th>\n",
       "      <th>event_action</th>\n",
       "      <th>issue_title</th>\n",
       "      <th>issue_body</th>\n",
       "    </tr>\n",
       "  </thead>\n",
       "  <tbody>\n",
       "    <tr>\n",
       "      <th>1388</th>\n",
       "      <td>IssuesEvent</td>\n",
       "      <td>2015-01-02 15:30:18+00:00</td>\n",
       "      <td>opened</td>\n",
       "      <td>Wrong dependency version resolution</td>\n",
       "      <td>`paket.dependencies`:\\r\\n```\\r\\nsource https:/...</td>\n",
       "    </tr>\n",
       "    <tr>\n",
       "      <th>1477</th>\n",
       "      <td>IssueCommentEvent</td>\n",
       "      <td>2015-01-02 15:32:06+00:00</td>\n",
       "      <td>created</td>\n",
       "      <td>Wrong dependency version resolution</td>\n",
       "      <td>`paket.dependencies`:\\r\\n```\\r\\nsource https:/...</td>\n",
       "    </tr>\n",
       "    <tr>\n",
       "      <th>1806</th>\n",
       "      <td>IssueCommentEvent</td>\n",
       "      <td>2015-01-02 15:38:47+00:00</td>\n",
       "      <td>created</td>\n",
       "      <td>Wrong dependency version resolution</td>\n",
       "      <td>`paket.dependencies`:\\r\\n```\\r\\nsource https:/...</td>\n",
       "    </tr>\n",
       "    <tr>\n",
       "      <th>2737</th>\n",
       "      <td>IssueCommentEvent</td>\n",
       "      <td>2015-01-02 15:53:51+00:00</td>\n",
       "      <td>created</td>\n",
       "      <td>Wrong dependency version resolution</td>\n",
       "      <td>`paket.dependencies`:\\r\\n```\\r\\nsource https:/...</td>\n",
       "    </tr>\n",
       "    <tr>\n",
       "      <th>64</th>\n",
       "      <td>IssueCommentEvent</td>\n",
       "      <td>2015-01-02 16:01:24+00:00</td>\n",
       "      <td>created</td>\n",
       "      <td>Wrong dependency version resolution</td>\n",
       "      <td>`paket.dependencies`:\\r\\n```\\r\\nsource https:/...</td>\n",
       "    </tr>\n",
       "    <tr>\n",
       "      <th>97</th>\n",
       "      <td>IssueCommentEvent</td>\n",
       "      <td>2015-01-02 16:02:05+00:00</td>\n",
       "      <td>created</td>\n",
       "      <td>Wrong dependency version resolution</td>\n",
       "      <td>`paket.dependencies`:\\r\\n```\\r\\nsource https:/...</td>\n",
       "    </tr>\n",
       "    <tr>\n",
       "      <th>231</th>\n",
       "      <td>IssueCommentEvent</td>\n",
       "      <td>2015-01-02 16:04:40+00:00</td>\n",
       "      <td>created</td>\n",
       "      <td>Wrong dependency version resolution</td>\n",
       "      <td>`paket.dependencies`:\\r\\n```\\r\\nsource https:/...</td>\n",
       "    </tr>\n",
       "    <tr>\n",
       "      <th>280</th>\n",
       "      <td>IssueCommentEvent</td>\n",
       "      <td>2015-01-02 16:05:28+00:00</td>\n",
       "      <td>created</td>\n",
       "      <td>Wrong dependency version resolution</td>\n",
       "      <td>`paket.dependencies`:\\r\\n```\\r\\nsource https:/...</td>\n",
       "    </tr>\n",
       "    <tr>\n",
       "      <th>347</th>\n",
       "      <td>IssueCommentEvent</td>\n",
       "      <td>2015-01-02 16:06:48+00:00</td>\n",
       "      <td>created</td>\n",
       "      <td>Wrong dependency version resolution</td>\n",
       "      <td>`paket.dependencies`:\\r\\n```\\r\\nsource https:/...</td>\n",
       "    </tr>\n",
       "    <tr>\n",
       "      <th>836</th>\n",
       "      <td>IssueCommentEvent</td>\n",
       "      <td>2015-01-02 16:17:28+00:00</td>\n",
       "      <td>created</td>\n",
       "      <td>Wrong dependency version resolution</td>\n",
       "      <td>`paket.dependencies`:\\r\\n```\\r\\nsource https:/...</td>\n",
       "    </tr>\n",
       "    <tr>\n",
       "      <th>2066</th>\n",
       "      <td>IssueCommentEvent</td>\n",
       "      <td>2015-01-02 16:38:30+00:00</td>\n",
       "      <td>created</td>\n",
       "      <td>Wrong dependency version resolution</td>\n",
       "      <td>`paket.dependencies`:\\r\\n```\\r\\nsource https:/...</td>\n",
       "    </tr>\n",
       "    <tr>\n",
       "      <th>2176</th>\n",
       "      <td>IssueCommentEvent</td>\n",
       "      <td>2015-01-02 17:41:07+00:00</td>\n",
       "      <td>created</td>\n",
       "      <td>Wrong dependency version resolution</td>\n",
       "      <td>`paket.dependencies`:\\r\\n```\\r\\nsource https:/...</td>\n",
       "    </tr>\n",
       "    <tr>\n",
       "      <th>2696</th>\n",
       "      <td>IssueCommentEvent</td>\n",
       "      <td>2015-01-02 17:51:09+00:00</td>\n",
       "      <td>created</td>\n",
       "      <td>Wrong dependency version resolution</td>\n",
       "      <td>`paket.dependencies`:\\r\\n```\\r\\nsource https:/...</td>\n",
       "    </tr>\n",
       "    <tr>\n",
       "      <th>2778</th>\n",
       "      <td>IssueCommentEvent</td>\n",
       "      <td>2015-01-02 17:52:45+00:00</td>\n",
       "      <td>created</td>\n",
       "      <td>Wrong dependency version resolution</td>\n",
       "      <td>`paket.dependencies`:\\r\\n```\\r\\nsource https:/...</td>\n",
       "    </tr>\n",
       "    <tr>\n",
       "      <th>58</th>\n",
       "      <td>IssueCommentEvent</td>\n",
       "      <td>2015-01-02 18:01:09+00:00</td>\n",
       "      <td>created</td>\n",
       "      <td>Wrong dependency version resolution</td>\n",
       "      <td>`paket.dependencies`:\\r\\n```\\r\\nsource https:/...</td>\n",
       "    </tr>\n",
       "    <tr>\n",
       "      <th>346</th>\n",
       "      <td>IssueCommentEvent</td>\n",
       "      <td>2015-01-02 18:05:47+00:00</td>\n",
       "      <td>created</td>\n",
       "      <td>Wrong dependency version resolution</td>\n",
       "      <td>`paket.dependencies`:\\r\\n```\\r\\nsource https:/...</td>\n",
       "    </tr>\n",
       "    <tr>\n",
       "      <th>911</th>\n",
       "      <td>IssueCommentEvent</td>\n",
       "      <td>2015-01-02 18:14:58+00:00</td>\n",
       "      <td>created</td>\n",
       "      <td>Wrong dependency version resolution</td>\n",
       "      <td>`paket.dependencies`:\\r\\n```\\r\\nsource https:/...</td>\n",
       "    </tr>\n",
       "    <tr>\n",
       "      <th>549</th>\n",
       "      <td>IssueCommentEvent</td>\n",
       "      <td>2015-01-02 19:09:04+00:00</td>\n",
       "      <td>created</td>\n",
       "      <td>Wrong dependency version resolution</td>\n",
       "      <td>`paket.dependencies`:\\r\\n```\\r\\nsource https:/...</td>\n",
       "    </tr>\n",
       "    <tr>\n",
       "      <th>646</th>\n",
       "      <td>IssueCommentEvent</td>\n",
       "      <td>2015-01-02 19:11:09+00:00</td>\n",
       "      <td>created</td>\n",
       "      <td>Wrong dependency version resolution</td>\n",
       "      <td>`paket.dependencies`:\\r\\n```\\r\\nsource https:/...</td>\n",
       "    </tr>\n",
       "    <tr>\n",
       "      <th>2650</th>\n",
       "      <td>IssuesEvent</td>\n",
       "      <td>2015-01-02 19:46:30+00:00</td>\n",
       "      <td>closed</td>\n",
       "      <td>Wrong dependency version resolution</td>\n",
       "      <td>`paket.dependencies`:\\r\\n```\\r\\nsource https:/...</td>\n",
       "    </tr>\n",
       "    <tr>\n",
       "      <th>192</th>\n",
       "      <td>IssueCommentEvent</td>\n",
       "      <td>2015-01-02 20:03:22+00:00</td>\n",
       "      <td>created</td>\n",
       "      <td>Wrong dependency version resolution</td>\n",
       "      <td>`paket.dependencies`:\\r\\n```\\r\\nsource https:/...</td>\n",
       "    </tr>\n",
       "  </tbody>\n",
       "</table>\n",
       "</div>"
      ],
      "text/plain": [
       "             event_type          event_created_at event_action  \\\n",
       "1388        IssuesEvent 2015-01-02 15:30:18+00:00       opened   \n",
       "1477  IssueCommentEvent 2015-01-02 15:32:06+00:00      created   \n",
       "1806  IssueCommentEvent 2015-01-02 15:38:47+00:00      created   \n",
       "2737  IssueCommentEvent 2015-01-02 15:53:51+00:00      created   \n",
       "64    IssueCommentEvent 2015-01-02 16:01:24+00:00      created   \n",
       "97    IssueCommentEvent 2015-01-02 16:02:05+00:00      created   \n",
       "231   IssueCommentEvent 2015-01-02 16:04:40+00:00      created   \n",
       "280   IssueCommentEvent 2015-01-02 16:05:28+00:00      created   \n",
       "347   IssueCommentEvent 2015-01-02 16:06:48+00:00      created   \n",
       "836   IssueCommentEvent 2015-01-02 16:17:28+00:00      created   \n",
       "2066  IssueCommentEvent 2015-01-02 16:38:30+00:00      created   \n",
       "2176  IssueCommentEvent 2015-01-02 17:41:07+00:00      created   \n",
       "2696  IssueCommentEvent 2015-01-02 17:51:09+00:00      created   \n",
       "2778  IssueCommentEvent 2015-01-02 17:52:45+00:00      created   \n",
       "58    IssueCommentEvent 2015-01-02 18:01:09+00:00      created   \n",
       "346   IssueCommentEvent 2015-01-02 18:05:47+00:00      created   \n",
       "911   IssueCommentEvent 2015-01-02 18:14:58+00:00      created   \n",
       "549   IssueCommentEvent 2015-01-02 19:09:04+00:00      created   \n",
       "646   IssueCommentEvent 2015-01-02 19:11:09+00:00      created   \n",
       "2650        IssuesEvent 2015-01-02 19:46:30+00:00       closed   \n",
       "192   IssueCommentEvent 2015-01-02 20:03:22+00:00      created   \n",
       "\n",
       "                              issue_title  \\\n",
       "1388  Wrong dependency version resolution   \n",
       "1477  Wrong dependency version resolution   \n",
       "1806  Wrong dependency version resolution   \n",
       "2737  Wrong dependency version resolution   \n",
       "64    Wrong dependency version resolution   \n",
       "97    Wrong dependency version resolution   \n",
       "231   Wrong dependency version resolution   \n",
       "280   Wrong dependency version resolution   \n",
       "347   Wrong dependency version resolution   \n",
       "836   Wrong dependency version resolution   \n",
       "2066  Wrong dependency version resolution   \n",
       "2176  Wrong dependency version resolution   \n",
       "2696  Wrong dependency version resolution   \n",
       "2778  Wrong dependency version resolution   \n",
       "58    Wrong dependency version resolution   \n",
       "346   Wrong dependency version resolution   \n",
       "911   Wrong dependency version resolution   \n",
       "549   Wrong dependency version resolution   \n",
       "646   Wrong dependency version resolution   \n",
       "2650  Wrong dependency version resolution   \n",
       "192   Wrong dependency version resolution   \n",
       "\n",
       "                                             issue_body  \n",
       "1388  `paket.dependencies`:\\r\\n```\\r\\nsource https:/...  \n",
       "1477  `paket.dependencies`:\\r\\n```\\r\\nsource https:/...  \n",
       "1806  `paket.dependencies`:\\r\\n```\\r\\nsource https:/...  \n",
       "2737  `paket.dependencies`:\\r\\n```\\r\\nsource https:/...  \n",
       "64    `paket.dependencies`:\\r\\n```\\r\\nsource https:/...  \n",
       "97    `paket.dependencies`:\\r\\n```\\r\\nsource https:/...  \n",
       "231   `paket.dependencies`:\\r\\n```\\r\\nsource https:/...  \n",
       "280   `paket.dependencies`:\\r\\n```\\r\\nsource https:/...  \n",
       "347   `paket.dependencies`:\\r\\n```\\r\\nsource https:/...  \n",
       "836   `paket.dependencies`:\\r\\n```\\r\\nsource https:/...  \n",
       "2066  `paket.dependencies`:\\r\\n```\\r\\nsource https:/...  \n",
       "2176  `paket.dependencies`:\\r\\n```\\r\\nsource https:/...  \n",
       "2696  `paket.dependencies`:\\r\\n```\\r\\nsource https:/...  \n",
       "2778  `paket.dependencies`:\\r\\n```\\r\\nsource https:/...  \n",
       "58    `paket.dependencies`:\\r\\n```\\r\\nsource https:/...  \n",
       "346   `paket.dependencies`:\\r\\n```\\r\\nsource https:/...  \n",
       "911   `paket.dependencies`:\\r\\n```\\r\\nsource https:/...  \n",
       "549   `paket.dependencies`:\\r\\n```\\r\\nsource https:/...  \n",
       "646   `paket.dependencies`:\\r\\n```\\r\\nsource https:/...  \n",
       "2650  `paket.dependencies`:\\r\\n```\\r\\nsource https:/...  \n",
       "192   `paket.dependencies`:\\r\\n```\\r\\nsource https:/...  "
      ]
     },
     "execution_count": 28,
     "metadata": {},
     "output_type": "execute_result"
    }
   ],
   "source": [
    "gr[1][['event_type', 'event_created_at', 'event_action', 'issue_title', 'issue_body']]"
   ]
  },
  {
   "cell_type": "code",
   "execution_count": 9,
   "id": "10370121-82d0-49f5-83e9-9f9b9d55db3a",
   "metadata": {
    "tags": []
   },
   "outputs": [
    {
     "ename": "NameError",
     "evalue": "name 'gr' is not defined",
     "output_type": "error",
     "traceback": [
      "\u001b[0;31m---------------------------------------------------------------------------\u001b[0m",
      "\u001b[0;31mNameError\u001b[0m                                 Traceback (most recent call last)",
      "\u001b[0;32m~/ipykernel_9969/3252524135.py\u001b[0m in \u001b[0;36m<module>\u001b[0;34m\u001b[0m\n\u001b[0;32m----> 1\u001b[0;31m \u001b[0mgr\u001b[0m\u001b[0;34m[\u001b[0m\u001b[0;36m1\u001b[0m\u001b[0;34m]\u001b[0m\u001b[0;34m.\u001b[0m\u001b[0mcolumns\u001b[0m\u001b[0;34m\u001b[0m\u001b[0;34m\u001b[0m\u001b[0m\n\u001b[0m",
      "\u001b[0;31mNameError\u001b[0m: name 'gr' is not defined"
     ]
    }
   ],
   "source": [
    "gr[1].columns"
   ]
  },
  {
   "cell_type": "code",
   "execution_count": null,
   "id": "332aa557-1cc1-4a6f-845f-e3b0b63df7f2",
   "metadata": {
    "tags": []
   },
   "outputs": [],
   "source": [
    "res_dict"
   ]
  },
  {
   "cell_type": "code",
   "execution_count": null,
   "id": "1438246a-762c-4b2b-8731-d0f1c9aa5e53",
   "metadata": {},
   "outputs": [],
   "source": [
    "@ray.remote(num_cpus=4)\n",
    "def process(file, permissive_repos):\n",
    "    df = pd.read_parquet(file)\n",
    "    df = df[df['event_repo_name'].isin(permissive_repos)]\n",
    "    return df['comment_body'].dropna().apply(len).sum(), len(df)\n",
    "    "
   ]
  },
  {
   "cell_type": "code",
   "execution_count": null,
   "id": "3fdfce1c-9fee-4fe5-ac36-72c5970c9c5a",
   "metadata": {
    "tags": []
   },
   "outputs": [],
   "source": [
    "res = []\n",
    "for file in tqdm(issue_files):\n",
    "    res.append(process.remote(file, permissive_repos_ref))"
   ]
  },
  {
   "cell_type": "code",
   "execution_count": null,
   "id": "5c5011fb-d62b-42ca-ad70-aa0d157fb087",
   "metadata": {
    "tags": []
   },
   "outputs": [],
   "source": [
    "res = ray.get(res)"
   ]
  },
  {
   "cell_type": "code",
   "execution_count": null,
   "id": "5c19d809-ca3a-4df6-b59a-3030d700a548",
   "metadata": {},
   "outputs": [],
   "source": [
    "res = list(zip(*res))"
   ]
  },
  {
   "cell_type": "code",
   "execution_count": null,
   "id": "5f462cfb-ee4f-4b74-9b04-44f9a778c196",
   "metadata": {},
   "outputs": [],
   "source": [
    "sum(res[0]) / 1000000000"
   ]
  },
  {
   "cell_type": "code",
   "execution_count": null,
   "id": "9057d8fb-2b79-4fa1-afb9-a64f4018e6f7",
   "metadata": {},
   "outputs": [],
   "source": [
    "sum(res[1]) /1000000\n"
   ]
  },
  {
   "cell_type": "code",
   "execution_count": null,
   "id": "e6931878-5325-499f-ba40-cc2ad63a3c2b",
   "metadata": {},
   "outputs": [],
   "source": [
    "ray.status()"
   ]
  },
  {
   "cell_type": "code",
   "execution_count": null,
   "id": "8af88899-797e-44ac-a564-7ae2c9dfd44e",
   "metadata": {},
   "outputs": [],
   "source": [
    "ddf = dd.read_parquet('/repo_workdir/gharchives_2015_issues/results/data-*.parquet')"
   ]
  },
  {
   "cell_type": "code",
   "execution_count": null,
   "id": "de97e340-817f-4d4e-a8d2-8487f30bea61",
   "metadata": {},
   "outputs": [],
   "source": [
    "# Number of issues and issue comments\n",
    "len(ddf)"
   ]
  },
  {
   "cell_type": "code",
   "execution_count": null,
   "id": "85b9970e-b556-4ac7-9cfa-0cc0041da026",
   "metadata": {},
   "outputs": [],
   "source": []
  },
  {
   "cell_type": "code",
   "execution_count": null,
   "id": "e1143f87-26ac-4318-8d5d-ecd28f95e8cc",
   "metadata": {
    "tags": []
   },
   "outputs": [],
   "source": [
    "type(permissive_repos)"
   ]
  },
  {
   "cell_type": "code",
   "execution_count": null,
   "id": "1e98f986-ab56-407f-b30e-933cde122607",
   "metadata": {},
   "outputs": [],
   "source": [
    "# Number of characters in issue comments bodies\n",
    "ddf[ddf['event_repo_name'].isin(permissive_repos)]['comment_body'].dropna().apply(len).sum().compute()"
   ]
  },
  {
   "cell_type": "code",
   "execution_count": null,
   "id": "6372e33c-abfb-4ffb-af47-d637e71e1fa5",
   "metadata": {},
   "outputs": [],
   "source": [
    "# Number of issue comments as issues do not have commemt_body\n",
    "ddf['comment_body'].dropna().count().compute()"
   ]
  },
  {
   "cell_type": "code",
   "execution_count": null,
   "id": "208cefc1-f60e-4c9f-b5f7-40de55ca5425",
   "metadata": {},
   "outputs": [],
   "source": [
    "# Number of characters per issue comment\n",
    "133687669245 / 278540300"
   ]
  },
  {
   "cell_type": "code",
   "execution_count": null,
   "id": "fb3bd1d6-369c-4fba-961e-a91761dc7159",
   "metadata": {},
   "outputs": [],
   "source": [
    "def apply_per_partition(df):\n",
    "    df = df[(df['event_type'] == 'IssuesEvent') & (df['event_action'] == 'opened')]\n",
    "    event_cnt = df['event_type'].count()\n",
    "    body_len = df['issue_body'].dropna().apply(len).sum()\n",
    "    title_len = df['issue_title'].dropna().apply(len).sum()\n",
    "    return event_cnt, body_len, title_len\n",
    "\n",
    "def apply_per_partition_fn(filename):\n",
    "    df = pd.read_parquet(filename)\n",
    "    return apply_per_partition(df)"
   ]
  },
  {
   "cell_type": "code",
   "execution_count": null,
   "id": "f40e9ac0-69e8-4b0d-84c3-c5e24f3bc4a2",
   "metadata": {},
   "outputs": [],
   "source": [
    "from dask.distributed import Client, LocalCluster\n",
    "cluster = LocalCluster(n_workers=4, silence_logs=logging.ERROR)\n",
    "client = Client(cluster)"
   ]
  },
  {
   "cell_type": "code",
   "execution_count": null,
   "id": "562b387b-892b-4117-9e7c-6ae15e04ff88",
   "metadata": {
    "tags": []
   },
   "outputs": [],
   "source": [
    "files = list(Path('/repo_workdir/gharchives_2015_issues/results/').glob('data-*.parquet'))\n",
    "cnt = 0\n",
    "res_f = []\n",
    "for file in tqdm(files):\n",
    "    res_f.append(client.submit(apply_per_partition_fn, file))\n",
    "   "
   ]
  },
  {
   "cell_type": "code",
   "execution_count": null,
   "id": "19a09fb9-5c58-4ace-a2bc-ff3dd9bdf3cd",
   "metadata": {
    "tags": []
   },
   "outputs": [],
   "source": [
    "res = client.gather(res_f)"
   ]
  },
  {
   "cell_type": "code",
   "execution_count": null,
   "id": "6f2cb46d-fb9d-4a9c-91bb-ca81d59ae94b",
   "metadata": {},
   "outputs": [],
   "source": [
    "event_cnt, body_len, title_len = zip(*res)\n",
    "event_cnt = [v() for v in event_cnt]\n",
    "print('event_cnt', sum(event_cnt))\n",
    "print('body_len', sum(body_len))\n",
    "print('title_len', sum(title_len))"
   ]
  },
  {
   "cell_type": "code",
   "execution_count": null,
   "id": "540ab18b-4ca2-4ba4-b983-3f47e8832b75",
   "metadata": {},
   "outputs": [],
   "source": [
    "75848739906/1024/1024/1024"
   ]
  },
  {
   "cell_type": "code",
   "execution_count": null,
   "id": "806ec18b-11f2-469e-823a-ce7c9dda840c",
   "metadata": {},
   "outputs": [],
   "source": [
    "2945768396/1024/1024/1024"
   ]
  },
  {
   "cell_type": "code",
   "execution_count": null,
   "id": "e78717a7-a5c1-4668-984e-2cfbd3f7034c",
   "metadata": {},
   "outputs": [],
   "source": [
    "client.shutdown()\n",
    "client.close()"
   ]
  }
 ],
 "metadata": {
  "kernelspec": {
   "display_name": "Python 3 (ipykernel)",
   "language": "python",
   "name": "python3"
  },
  "language_info": {
   "codemirror_mode": {
    "name": "ipython",
    "version": 3
   },
   "file_extension": ".py",
   "mimetype": "text/x-python",
   "name": "python",
   "nbconvert_exporter": "python",
   "pygments_lexer": "ipython3",
   "version": "3.9.7"
  }
 },
 "nbformat": 4,
 "nbformat_minor": 5
}
